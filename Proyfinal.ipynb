{
  "cells": [
    {
      "cell_type": "code",
      "execution_count": 246,
      "metadata": {
        "colab": {
          "base_uri": "https://localhost:8080/"
        },
        "id": "d7wl-6wGuflq",
        "outputId": "6bad96a5-8812-4922-bc41-3e3362a102f7"
      },
      "outputs": [
        {
          "name": "stdout",
          "output_type": "stream",
          "text": [
            "Requirement already satisfied: plotly_express in c:\\users\\nacho\\appdata\\local\\programs\\python\\python310\\lib\\site-packages (0.4.1)\n",
            "Requirement already satisfied: plotly>=4.1.0 in c:\\users\\nacho\\appdata\\local\\programs\\python\\python310\\lib\\site-packages (from plotly_express) (5.10.0)\n",
            "Requirement already satisfied: patsy>=0.5 in c:\\users\\nacho\\appdata\\local\\programs\\python\\python310\\lib\\site-packages (from plotly_express) (0.5.2)\n",
            "Requirement already satisfied: numpy>=1.11 in c:\\users\\nacho\\appdata\\local\\programs\\python\\python310\\lib\\site-packages (from plotly_express) (1.23.3)\n",
            "Requirement already satisfied: statsmodels>=0.9.0 in c:\\users\\nacho\\appdata\\local\\programs\\python\\python310\\lib\\site-packages (from plotly_express) (0.13.2)\n",
            "Requirement already satisfied: scipy>=0.18 in c:\\users\\nacho\\appdata\\local\\programs\\python\\python310\\lib\\site-packages (from plotly_express) (1.9.1)\n",
            "Requirement already satisfied: pandas>=0.20.0 in c:\\users\\nacho\\appdata\\local\\programs\\python\\python310\\lib\\site-packages (from plotly_express) (1.5.0)\n",
            "Requirement already satisfied: pytz>=2020.1 in c:\\users\\nacho\\appdata\\local\\programs\\python\\python310\\lib\\site-packages (from pandas>=0.20.0->plotly_express) (2022.2.1)\n",
            "Requirement already satisfied: python-dateutil>=2.8.1 in c:\\users\\nacho\\appdata\\local\\programs\\python\\python310\\lib\\site-packages (from pandas>=0.20.0->plotly_express) (2.8.2)\n",
            "Requirement already satisfied: six in c:\\users\\nacho\\appdata\\local\\programs\\python\\python310\\lib\\site-packages (from patsy>=0.5->plotly_express) (1.16.0)\n",
            "Requirement already satisfied: tenacity>=6.2.0 in c:\\users\\nacho\\appdata\\local\\programs\\python\\python310\\lib\\site-packages (from plotly>=4.1.0->plotly_express) (8.0.1)\n",
            "Requirement already satisfied: packaging>=21.3 in c:\\users\\nacho\\appdata\\local\\programs\\python\\python310\\lib\\site-packages (from statsmodels>=0.9.0->plotly_express) (21.3)\n",
            "Requirement already satisfied: pyparsing!=3.0.5,>=2.0.2 in c:\\users\\nacho\\appdata\\local\\programs\\python\\python310\\lib\\site-packages (from packaging>=21.3->statsmodels>=0.9.0->plotly_express) (3.0.9)\n",
            "Note: you may need to restart the kernel to use updated packages.\n"
          ]
        }
      ],
      "source": [
        "pip install plotly_express"
      ]
    },
    {
      "cell_type": "code",
      "execution_count": 247,
      "metadata": {
        "id": "00qvzlnmuWV_"
      },
      "outputs": [],
      "source": [
        "import pandas as pd\n",
        "import numpy as np\n",
        "import seaborn as sns\n",
        "import matplotlib.pyplot as plt\n",
        "import plotly_express as px\n",
        "import plotly.graph_objects as go"
      ]
    },
    {
      "cell_type": "markdown",
      "metadata": {
        "id": "9JmEk9ahuWWH"
      },
      "source": [
        "# Comenzamos a ver el dataset"
      ]
    },
    {
      "cell_type": "markdown",
      "metadata": {
        "id": "oXu6-QrAuWWL"
      },
      "source": [
        "### Objetivo: Predecir la autonomía (KMS) dependiendo del clima a partir de unos parametros dados"
      ]
    },
    {
      "cell_type": "code",
      "execution_count": 248,
      "metadata": {
        "id": "nqSbV6X_uWWN"
      },
      "outputs": [],
      "source": [
        "data = pd.read_csv('evdataset.csv')"
      ]
    },
    {
      "cell_type": "code",
      "execution_count": 249,
      "metadata": {},
      "outputs": [
        {
          "data": {
            "text/plain": [
              "(194, 27)"
            ]
          },
          "execution_count": 249,
          "metadata": {},
          "output_type": "execute_result"
        }
      ],
      "source": [
        "data.shape"
      ]
    },
    {
      "cell_type": "code",
      "execution_count": 250,
      "metadata": {
        "colab": {
          "base_uri": "https://localhost:8080/",
          "height": 393
        },
        "id": "0FWZN6r_uWWS",
        "outputId": "8df91289-dfe3-4e06-c71d-0ff9a2e48944"
      },
      "outputs": [
        {
          "data": {
            "text/html": [
              "<div>\n",
              "<style scoped>\n",
              "    .dataframe tbody tr th:only-of-type {\n",
              "        vertical-align: middle;\n",
              "    }\n",
              "\n",
              "    .dataframe tbody tr th {\n",
              "        vertical-align: top;\n",
              "    }\n",
              "\n",
              "    .dataframe thead th {\n",
              "        text-align: right;\n",
              "    }\n",
              "</style>\n",
              "<table border=\"1\" class=\"dataframe\">\n",
              "  <thead>\n",
              "    <tr style=\"text-align: right;\">\n",
              "      <th></th>\n",
              "      <th>id</th>\n",
              "      <th>Make</th>\n",
              "      <th>link</th>\n",
              "      <th>City - Cold Weather</th>\n",
              "      <th>Highway - Cold Weather</th>\n",
              "      <th>Combined - Cold Weather</th>\n",
              "      <th>City - Mild Weather</th>\n",
              "      <th>Highway - Mild Weather</th>\n",
              "      <th>Combined - Mild Weather</th>\n",
              "      <th>Acceleration 0 - 100 km/h</th>\n",
              "      <th>...</th>\n",
              "      <th>Charge Speed</th>\n",
              "      <th>Fastcharge Speed</th>\n",
              "      <th>Length</th>\n",
              "      <th>Width</th>\n",
              "      <th>Height</th>\n",
              "      <th>Wheelbase</th>\n",
              "      <th>Gross Vehicle Weight (GVWR)</th>\n",
              "      <th>Max. Payload</th>\n",
              "      <th>Cargo Volume</th>\n",
              "      <th>Seats</th>\n",
              "    </tr>\n",
              "  </thead>\n",
              "  <tbody>\n",
              "    <tr>\n",
              "      <th>0</th>\n",
              "      <td>1647</td>\n",
              "      <td>Genesis</td>\n",
              "      <td>https://ev-database.org/car/1647/Genesis-GV60-...</td>\n",
              "      <td>390</td>\n",
              "      <td>275</td>\n",
              "      <td>330</td>\n",
              "      <td>575</td>\n",
              "      <td>355</td>\n",
              "      <td>445</td>\n",
              "      <td>7.8</td>\n",
              "      <td>...</td>\n",
              "      <td>49</td>\n",
              "      <td>1020</td>\n",
              "      <td>4515</td>\n",
              "      <td>1890</td>\n",
              "      <td>1580</td>\n",
              "      <td>2900</td>\n",
              "      <td>2495</td>\n",
              "      <td>595</td>\n",
              "      <td>432</td>\n",
              "      <td>5</td>\n",
              "    </tr>\n",
              "    <tr>\n",
              "      <th>1</th>\n",
              "      <td>1493</td>\n",
              "      <td>Mercedes</td>\n",
              "      <td>https://ev-database.org/car/1493/Mercedes-EQB-...</td>\n",
              "      <td>330</td>\n",
              "      <td>235</td>\n",
              "      <td>280</td>\n",
              "      <td>480</td>\n",
              "      <td>300</td>\n",
              "      <td>375</td>\n",
              "      <td>6.2</td>\n",
              "      <td>...</td>\n",
              "      <td>46</td>\n",
              "      <td>470</td>\n",
              "      <td>4684</td>\n",
              "      <td>1834</td>\n",
              "      <td>1701</td>\n",
              "      <td>2829</td>\n",
              "      <td>2580</td>\n",
              "      <td>480</td>\n",
              "      <td>495</td>\n",
              "      <td>7</td>\n",
              "    </tr>\n",
              "    <tr>\n",
              "      <th>2</th>\n",
              "      <td>1229</td>\n",
              "      <td>Porsche</td>\n",
              "      <td>https://ev-database.org/car/1229/Porsche-Tayca...</td>\n",
              "      <td>400</td>\n",
              "      <td>305</td>\n",
              "      <td>350</td>\n",
              "      <td>580</td>\n",
              "      <td>385</td>\n",
              "      <td>470</td>\n",
              "      <td>3.2</td>\n",
              "      <td>...</td>\n",
              "      <td>46</td>\n",
              "      <td>1020</td>\n",
              "      <td>4963</td>\n",
              "      <td>1966</td>\n",
              "      <td>1381</td>\n",
              "      <td>2900</td>\n",
              "      <td>2880</td>\n",
              "      <td>575</td>\n",
              "      <td>366</td>\n",
              "      <td>4</td>\n",
              "    </tr>\n",
              "  </tbody>\n",
              "</table>\n",
              "<p>3 rows × 27 columns</p>\n",
              "</div>"
            ],
            "text/plain": [
              "     id      Make                                               link  \\\n",
              "0  1647   Genesis  https://ev-database.org/car/1647/Genesis-GV60-...   \n",
              "1  1493  Mercedes  https://ev-database.org/car/1493/Mercedes-EQB-...   \n",
              "2  1229   Porsche  https://ev-database.org/car/1229/Porsche-Tayca...   \n",
              "\n",
              "   City - Cold Weather  Highway - Cold Weather  Combined - Cold Weather  \\\n",
              "0                  390                     275                      330   \n",
              "1                  330                     235                      280   \n",
              "2                  400                     305                      350   \n",
              "\n",
              "   City - Mild Weather  Highway - Mild Weather  Combined - Mild Weather  \\\n",
              "0                  575                     355                      445   \n",
              "1                  480                     300                      375   \n",
              "2                  580                     385                      470   \n",
              "\n",
              "   Acceleration 0 - 100 km/h  ...  Charge Speed  Fastcharge Speed  Length  \\\n",
              "0                        7.8  ...            49              1020    4515   \n",
              "1                        6.2  ...            46               470    4684   \n",
              "2                        3.2  ...            46              1020    4963   \n",
              "\n",
              "   Width Height  Wheelbase  Gross Vehicle Weight (GVWR)  Max. Payload  \\\n",
              "0   1890   1580       2900                         2495           595   \n",
              "1   1834   1701       2829                         2580           480   \n",
              "2   1966   1381       2900                         2880           575   \n",
              "\n",
              "   Cargo Volume  Seats  \n",
              "0           432      5  \n",
              "1           495      7  \n",
              "2           366      4  \n",
              "\n",
              "[3 rows x 27 columns]"
            ]
          },
          "execution_count": 250,
          "metadata": {},
          "output_type": "execute_result"
        }
      ],
      "source": [
        "data.head(3)"
      ]
    },
    {
      "cell_type": "code",
      "execution_count": 251,
      "metadata": {
        "colab": {
          "base_uri": "https://localhost:8080/"
        },
        "id": "4mAyYtdduWWU",
        "outputId": "b4a056de-dbfc-4823-adc7-b4a544df2dcf"
      },
      "outputs": [
        {
          "data": {
            "text/plain": [
              "id                             0\n",
              "Make                           0\n",
              "link                           0\n",
              "City - Cold Weather            0\n",
              "Highway - Cold Weather         0\n",
              "Combined - Cold Weather        0\n",
              "City - Mild Weather            0\n",
              "Highway - Mild Weather         0\n",
              "Combined - Mild Weather        0\n",
              "Acceleration 0 - 100 km/h      0\n",
              "Top Speed                      0\n",
              "Electric Range                 0\n",
              "Total Power                    0\n",
              "Total Torque                   0\n",
              "Drive                          0\n",
              "Battery Capacity               0\n",
              "Charge Power                   0\n",
              "Charge Speed                   0\n",
              "Fastcharge Speed               0\n",
              "Length                         0\n",
              "Width                          0\n",
              "Height                         0\n",
              "Wheelbase                      0\n",
              "Gross Vehicle Weight (GVWR)    0\n",
              "Max. Payload                   0\n",
              "Cargo Volume                   0\n",
              "Seats                          0\n",
              "dtype: int64"
            ]
          },
          "execution_count": 251,
          "metadata": {},
          "output_type": "execute_result"
        }
      ],
      "source": [
        "# Vemos la cantidad de valores nulos\n",
        "data.isnull().sum()"
      ]
    },
    {
      "cell_type": "code",
      "execution_count": 252,
      "metadata": {
        "colab": {
          "base_uri": "https://localhost:8080/"
        },
        "id": "zPeNORvIuWWX",
        "outputId": "35c1ace1-8090-470a-981c-ceb9f728b271"
      },
      "outputs": [
        {
          "name": "stdout",
          "output_type": "stream",
          "text": [
            "<class 'pandas.core.frame.DataFrame'>\n",
            "RangeIndex: 194 entries, 0 to 193\n",
            "Data columns (total 27 columns):\n",
            " #   Column                       Non-Null Count  Dtype  \n",
            "---  ------                       --------------  -----  \n",
            " 0   id                           194 non-null    int64  \n",
            " 1   Make                         194 non-null    object \n",
            " 2   link                         194 non-null    object \n",
            " 3   City - Cold Weather          194 non-null    int64  \n",
            " 4   Highway - Cold Weather       194 non-null    int64  \n",
            " 5   Combined - Cold Weather      194 non-null    int64  \n",
            " 6   City - Mild Weather          194 non-null    int64  \n",
            " 7   Highway - Mild Weather       194 non-null    int64  \n",
            " 8   Combined - Mild Weather      194 non-null    int64  \n",
            " 9   Acceleration 0 - 100 km/h    194 non-null    float64\n",
            " 10  Top Speed                    194 non-null    int64  \n",
            " 11  Electric Range               194 non-null    int64  \n",
            " 12  Total Power                  194 non-null    int64  \n",
            " 13  Total Torque                 194 non-null    int64  \n",
            " 14  Drive                        194 non-null    object \n",
            " 15  Battery Capacity             194 non-null    float64\n",
            " 16  Charge Power                 194 non-null    float64\n",
            " 17  Charge Speed                 194 non-null    int64  \n",
            " 18  Fastcharge Speed             194 non-null    int64  \n",
            " 19  Length                       194 non-null    int64  \n",
            " 20  Width                        194 non-null    int64  \n",
            " 21  Height                       194 non-null    int64  \n",
            " 22  Wheelbase                    194 non-null    int64  \n",
            " 23  Gross Vehicle Weight (GVWR)  194 non-null    int64  \n",
            " 24  Max. Payload                 194 non-null    int64  \n",
            " 25  Cargo Volume                 194 non-null    int64  \n",
            " 26  Seats                        194 non-null    int64  \n",
            "dtypes: float64(3), int64(21), object(3)\n",
            "memory usage: 41.0+ KB\n"
          ]
        }
      ],
      "source": [
        "data.info()"
      ]
    },
    {
      "cell_type": "code",
      "execution_count": 253,
      "metadata": {
        "colab": {
          "base_uri": "https://localhost:8080/"
        },
        "id": "vOvjXcr6uWWY",
        "outputId": "cc1d89af-714a-4e5f-96d2-e2f734f371fd"
      },
      "outputs": [
        {
          "data": {
            "text/plain": [
              "array(['Genesis', 'Mercedes', 'Porsche', 'BMW', 'Volkswagen', 'CUPRA',\n",
              "       'Skoda', 'MG', 'Volvo', 'Fiat', 'Smart', 'Hyundai', 'Peugeot',\n",
              "       'Citroen', 'Audi', 'Polestar', 'Toyota', 'Kia', 'DS', 'Ford',\n",
              "       'Honda', 'JAC', 'Nissan', 'Renault', 'Opel', 'Hongqi', 'Lexus',\n",
              "       'Dacia', 'Mazda', 'Seres', 'Tesla', 'Jaguar', 'Mini', 'Subaru'],\n",
              "      dtype=object)"
            ]
          },
          "execution_count": 253,
          "metadata": {},
          "output_type": "execute_result"
        }
      ],
      "source": [
        "data['Make'].unique()"
      ]
    },
    {
      "cell_type": "code",
      "execution_count": 254,
      "metadata": {
        "colab": {
          "base_uri": "https://localhost:8080/"
        },
        "id": "NprW6GR0uWWa",
        "outputId": "17bcd511-2998-4efb-d1e4-acb6a9fabde1"
      },
      "outputs": [
        {
          "data": {
            "text/plain": [
              "Mercedes      24\n",
              "Porsche       18\n",
              "Audi          16\n",
              "Volkswagen    13\n",
              "Peugeot       12\n",
              "Citroen       11\n",
              "Toyota         8\n",
              "BMW            8\n",
              "MG             8\n",
              "Fiat           8\n",
              "Ford           7\n",
              "Kia            6\n",
              "Opel           6\n",
              "Hyundai        5\n",
              "Renault        5\n",
              "Skoda          5\n",
              "Tesla          4\n",
              "Genesis        4\n",
              "Volvo          4\n",
              "CUPRA          4\n",
              "Polestar       2\n",
              "Honda          2\n",
              "Smart          2\n",
              "Hongqi         2\n",
              "DS             1\n",
              "JAC            1\n",
              "Nissan         1\n",
              "Lexus          1\n",
              "Dacia          1\n",
              "Mazda          1\n",
              "Seres          1\n",
              "Jaguar         1\n",
              "Mini           1\n",
              "Subaru         1\n",
              "Name: Make, dtype: int64"
            ]
          },
          "execution_count": 254,
          "metadata": {},
          "output_type": "execute_result"
        }
      ],
      "source": [
        "data['Make'].value_counts()"
      ]
    },
    {
      "cell_type": "code",
      "execution_count": 255,
      "metadata": {
        "colab": {
          "base_uri": "https://localhost:8080/"
        },
        "id": "uIGU5XqAuWWb",
        "outputId": "4a5bd1f3-bade-4e8e-8df3-6b13bdc077e9"
      },
      "outputs": [
        {
          "data": {
            "text/plain": [
              "Index(['id', 'Make', 'link', 'City - Cold Weather', 'Highway - Cold Weather',\n",
              "       'Combined - Cold Weather', 'City - Mild Weather',\n",
              "       'Highway - Mild Weather', 'Combined - Mild Weather',\n",
              "       'Acceleration 0 - 100 km/h', 'Top Speed', 'Electric Range',\n",
              "       'Total Power', 'Total Torque', 'Drive', 'Battery Capacity',\n",
              "       'Charge Power', 'Charge Speed', 'Fastcharge Speed', 'Length', 'Width',\n",
              "       'Height', 'Wheelbase', 'Gross Vehicle Weight (GVWR)', 'Max. Payload',\n",
              "       'Cargo Volume', 'Seats'],\n",
              "      dtype='object')"
            ]
          },
          "execution_count": 255,
          "metadata": {},
          "output_type": "execute_result"
        }
      ],
      "source": [
        "data.columns"
      ]
    },
    {
      "cell_type": "markdown",
      "metadata": {},
      "source": [
        "### Creamos un dataframe para explicar cada variable"
      ]
    },
    {
      "cell_type": "code",
      "execution_count": 256,
      "metadata": {},
      "outputs": [],
      "source": [
        "variables = [\n",
        "    {'id': 'Nº de referencia', 'Make': 'Empresa fabricante', 'City - Cold Weather': 'KMS de autonomía en ciudad con frío','Highway - Cold Weather': 'KMS de autonomía en autopista con frío','Combined - Cold Weather': 'KMS de autonomía en combinado con frío', 'City - Mild Weather': 'KMS de autonomía en ciudad con calor','Highway - Mild Weather': 'KMS de autonomía en autopista con calor','Combined - Mild Weather': 'KMS de autonomía en combinado con calor','Acceleration 0 - 100 km/h' : 'Segundos de aceleración de 0 a 100 km/h','Top Speed':'Velocidad Máxima','Electric Range':'Autonomía eléctrica según fabricante','Total Power':'Autonomía a velocidad máxima','Total Torque':'Fuerza del vehículo','Drive':'Tipo de tracción (Delantera:1)(Trasera:2)(4X4:3)','Battery Capacity':'KW de capacidad de carga','Charge Power':'KW de potencia de carga','Charge speed':'KMs de autonomía tras una hora de carga','Fastcharge Speed':'KMs de autonomía tras una hora de carga rápida','Length':'Longitud del vehículo','Width':'Anchura del vehículo','Height':'Altura del vehículo','Wheelbase':'Distancia entre los ejes','Gross Vehicle Weight':'Peso bruto del vehículo','Max. Payload':'Carga máxima del vehículo','Cargo Volume':'Volumen de carga','Seats':'Nº de asientos'}\n",
        ",]\n",
        "\n",
        "dfnuevo = pd.DataFrame(variables)\n",
        "\n",
        "dfnuevo=dfnuevo.set_index('id')"
      ]
    },
    {
      "cell_type": "code",
      "execution_count": 257,
      "metadata": {},
      "outputs": [],
      "source": [
        "dfnuevo.to_csv('dfnuevo.csv')\n"
      ]
    },
    {
      "cell_type": "markdown",
      "metadata": {},
      "source": [
        "### Vemos las correlaciones entre variables"
      ]
    },
    {
      "cell_type": "code",
      "execution_count": 258,
      "metadata": {
        "colab": {
          "base_uri": "https://localhost:8080/",
          "height": 853
        },
        "id": "3A-_v6QruWWc",
        "outputId": "6381cb01-9645-45bf-eb3b-7c7d6cd3118c"
      },
      "outputs": [
        {
          "name": "stderr",
          "output_type": "stream",
          "text": [
            "C:\\Users\\Nacho\\AppData\\Local\\Temp\\ipykernel_8248\\2194189982.py:1: FutureWarning:\n",
            "\n",
            "The default value of numeric_only in DataFrame.corr is deprecated. In a future version, it will default to False. Select only valid columns or specify the value of numeric_only to silence this warning.\n",
            "\n",
            "C:\\Users\\Nacho\\AppData\\Local\\Temp\\ipykernel_8248\\2194189982.py:3: DeprecationWarning:\n",
            "\n",
            "`np.bool` is a deprecated alias for the builtin `bool`. To silence this warning, use `bool` by itself. Doing this will not modify any behavior and is safe. If you specifically wanted the numpy scalar type, use `np.bool_` here.\n",
            "Deprecated in NumPy 1.20; for more details and guidance: https://numpy.org/devdocs/release/1.20.0-notes.html#deprecations\n",
            "\n"
          ]
        },
        {
          "data": {
            "image/png": "[encoded data removed]",
            "text/plain": [
              "<Figure size 4000x1000 with 2 Axes>"
            ]
          },
          "metadata": {},
          "output_type": "display_data"
        }
      ],
      "source": [
        "corr = data.corr(method = 'pearson').sort_values(by = 'Top Speed', axis = 0, ascending = False).sort_values(by = 'Top Speed', axis = 1, ascending = False)\n",
        "# Generate a mask for the upper triangle\n",
        "mask = np.triu(np.ones_like(corr, dtype=np.bool))\n",
        " \n",
        "# Set up the matplotlib figure\n",
        "f, ax = plt.subplots(figsize=(40,10))\n",
        " \n",
        "# Generate a custom diverging colormap\n",
        "cmap = sns.diverging_palette(250, 1112, as_cmap=True)\n",
        " \n",
        "# Draw the heatmap with the mask and correct aspect ratio\n",
        "corr = sns.heatmap(corr.iloc[0:50,0:50], mask=mask[0:50,0:50], cmap=cmap, vmax=0.5, center=0,\n",
        "            square=True, linewidths=2, cbar_kws={\"shrink\": .8}, annot = True)\n",
        "\n",
        "plt.savefig('corr.png')"
      ]
    },
    {
      "cell_type": "markdown",
      "metadata": {
        "id": "tgHq6nCIuWWe"
      },
      "source": [
        "## Como tenemos una correlación tan fuerte entre 'Electric Range' y los tipos de conducción según el clima, podemos proseguir"
      ]
    },
    {
      "cell_type": "code",
      "execution_count": 259,
      "metadata": {},
      "outputs": [
        {
          "data": {
            "image/png": "[encoded data removed]",
            "text/plain": [
              "<Figure size 1500x800 with 1 Axes>"
            ]
          },
          "metadata": {},
          "output_type": "display_data"
        }
      ],
      "source": [
        "ma=data['Make'].value_counts()\n",
        "ma = ma.sort_values()\n",
        "ma.plot(kind='barh',stacked=True, color = ['g'],\n",
        "              linewidth = 1, grid=True, figsize=(15,8), width=1)\n",
        "plt.savefig('ma.png')"
      ]
    },
    {
      "cell_type": "code",
      "execution_count": 260,
      "metadata": {
        "colab": {
          "base_uri": "https://localhost:8080/",
          "height": 522
        },
        "id": "dDfvy36CuWWf",
        "outputId": "9963e994-8019-4068-f608-f2eb3fc69856"
      },
      "outputs": [
        {
          "data": {
            "image/png": "[encoded data removed]",
            "text/plain": [
              "<Figure size 1500x800 with 1 Axes>"
            ]
          },
          "metadata": {},
          "output_type": "display_data"
        }
      ],
      "source": [
        "marca = data.groupby(['Make','Drive']).Drive.count()\n",
        "marca = marca.unstack()\n",
        "marca['total'] = marca['AWD'].fillna(0) + marca['Front'].fillna(0) + marca['Rear'].fillna(0)\n",
        "marca = marca.sort_values(by=['total'])\n",
        "marca = marca.drop(['total'],axis=1)\n",
        "\n",
        "\n",
        "\n",
        "marca.plot(kind='barh',stacked=True, color = [\"g\",\"b\",\"r\"],\n",
        "              linewidth = 1, grid=True, figsize=(15,8), width=1)\n",
        "plt.title('Marcas y tipo de tracción', fontsize=18)\n",
        "plt.legend(title='Tracción',labels=['4 ruedas', 'Delantera', 'Trasera'])\n",
        "plt.xlabel('Cantidad de vehículos por marca', fontsize=14)\n",
        "plt.ylabel(\"\")\n",
        "plt.rc('ytick', labelsize=13)\n",
        "plt.savefig('matt.png')"
      ]
    },
    {
      "cell_type": "code",
      "execution_count": 261,
      "metadata": {},
      "outputs": [
        {
          "data": {
            "application/vnd.plotly.v1+json": {
              "config": {
                "plotlyServerURL": "https://plot.ly"
              },
              "data": [
                {
                  "hovertemplate": "variable=Electric Range<br>Make=%{x}<br>value=%{y}<extra></extra>",
                  "legendgroup": "Electric Range",
                  "marker": {
                    "color": "green",
                    "symbol": "circle"
                  },
                  "mode": "markers",
                  "name": "Electric Range",
                  "orientation": "v",
                  "showlegend": false,
                  "type": "scatter",
                  "x": [
                    "Mercedes",
                    "Tesla",
                    "BMW",
                    "Porsche",
                    "Ford",
                    "Polestar",
                    "Volkswagen",
                    "Skoda",
                    "Jaguar",
                    "Genesis",
                    "Audi",
                    "Subaru",
                    "CUPRA",
                    "Kia",
                    "Hyundai",
                    "Smart",
                    "Nissan",
                    "Volvo",
                    "Hongqi",
                    "Renault",
                    "MG",
                    "Seres",
                    "Toyota",
                    "DS",
                    "Opel",
                    "Lexus",
                    "JAC",
                    "Peugeot",
                    "Citroen",
                    "Fiat",
                    "Mini",
                    "Honda",
                    "Mazda",
                    "Dacia"
                  ],
                  "xaxis": "x",
                  "y": [
                    456.0416666666667,
                    448.75,
                    438.125,
                    416.1111111111111,
                    411.42857142857144,
                    410,
                    387.6923076923077,
                    386,
                    380,
                    371.25,
                    360.9375,
                    355,
                    355,
                    349.1666666666667,
                    343,
                    342.5,
                    340,
                    338.75,
                    330,
                    320,
                    318.75,
                    270,
                    267.5,
                    260,
                    236.66666666666666,
                    235,
                    225,
                    224.58333333333334,
                    220,
                    214.375,
                    180,
                    170,
                    170,
                    155
                  ],
                  "yaxis": "y"
                }
              ],
              "layout": {
                "legend": {
                  "title": {
                    "text": "variable"
                  },
                  "tracegroupgap": 0
                },
                "margin": {
                  "t": 60
                },
                "template": {
                  "data": {
                    "bar": [
                      {
                        "error_x": {
                          "color": "#2a3f5f"
                        },
                        "error_y": {
                          "color": "#2a3f5f"
                        },
                        "marker": {
                          "line": {
                            "color": "#E5ECF6",
                            "width": 0.5
                          },
                          "pattern": {
                            "fillmode": "overlay",
                            "size": 10,
                            "solidity": 0.2
                          }
                        },
                        "type": "bar"
                      }
                    ],
                    "barpolar": [
                      {
                        "marker": {
                          "line": {
                            "color": "#E5ECF6",
                            "width": 0.5
                          },
                          "pattern": {
                            "fillmode": "overlay",
                            "size": 10,
                            "solidity": 0.2
                          }
                        },
                        "type": "barpolar"
                      }
                    ],
                    "carpet": [
                      {
                        "aaxis": {
                          "endlinecolor": "#2a3f5f",
                          "gridcolor": "white",
                          "linecolor": "white",
                          "minorgridcolor": "white",
                          "startlinecolor": "#2a3f5f"
                        },
                        "baxis": {
                          "endlinecolor": "#2a3f5f",
                          "gridcolor": "white",
                          "linecolor": "white",
                          "minorgridcolor": "white",
                          "startlinecolor": "#2a3f5f"
                        },
                        "type": "carpet"
                      }
                    ],
                    "choropleth": [
                      {
                        "colorbar": {
                          "outlinewidth": 0,
                          "ticks": ""
                        },
                        "type": "choropleth"
                      }
                    ],
                    "contour": [
                      {
                        "colorbar": {
                          "outlinewidth": 0,
                          "ticks": ""
                        },
                        "colorscale": [
                          [
                            0,
                            "#0d0887"
                          ],
                          [
                            0.1111111111111111,
                            "#46039f"
                          ],
                          [
                            0.2222222222222222,
                            "#7201a8"
                          ],
                          [
                            0.3333333333333333,
                            "#9c179e"
                          ],
                          [
                            0.4444444444444444,
                            "#bd3786"
                          ],
                          [
                            0.5555555555555556,
                            "#d8576b"
                          ],
                          [
                            0.6666666666666666,
                            "#ed7953"
                          ],
                          [
                            0.7777777777777778,
                            "#fb9f3a"
                          ],
                          [
                            0.8888888888888888,
                            "#fdca26"
                          ],
                          [
                            1,
                            "#f0f921"
                          ]
                        ],
                        "type": "contour"
                      }
                    ],
                    "contourcarpet": [
                      {
                        "colorbar": {
                          "outlinewidth": 0,
                          "ticks": ""
                        },
                        "type": "contourcarpet"
                      }
                    ],
                    "heatmap": [
                      {
                        "colorbar": {
                          "outlinewidth": 0,
                          "ticks": ""
                        },
                        "colorscale": [
                          [
                            0,
                            "#0d0887"
                          ],
                          [
                            0.1111111111111111,
                            "#46039f"
                          ],
                          [
                            0.2222222222222222,
                            "#7201a8"
                          ],
                          [
                            0.3333333333333333,
                            "#9c179e"
                          ],
                          [
                            0.4444444444444444,
                            "#bd3786"
                          ],
                          [
                            0.5555555555555556,
                            "#d8576b"
                          ],
                          [
                            0.6666666666666666,
                            "#ed7953"
                          ],
                          [
                            0.7777777777777778,
                            "#fb9f3a"
                          ],
                          [
                            0.8888888888888888,
                            "#fdca26"
                          ],
                          [
                            1,
                            "#f0f921"
                          ]
                        ],
                        "type": "heatmap"
                      }
                    ],
                    "heatmapgl": [
                      {
                        "colorbar": {
                          "outlinewidth": 0,
                          "ticks": ""
                        },
                        "colorscale": [
                          [
                            0,
                            "#0d0887"
                          ],
                          [
                            0.1111111111111111,
                            "#46039f"
                          ],
                          [
                            0.2222222222222222,
                            "#7201a8"
                          ],
                          [
                            0.3333333333333333,
                            "#9c179e"
                          ],
                          [
                            0.4444444444444444,
                            "#bd3786"
                          ],
                          [
                            0.5555555555555556,
                            "#d8576b"
                          ],
                          [
                            0.6666666666666666,
                            "#ed7953"
                          ],
                          [
                            0.7777777777777778,
                            "#fb9f3a"
                          ],
                          [
                            0.8888888888888888,
                            "#fdca26"
                          ],
                          [
                            1,
                            "#f0f921"
                          ]
                        ],
                        "type": "heatmapgl"
                      }
                    ],
                    "histogram": [
                      {
                        "marker": {
                          "pattern": {
                            "fillmode": "overlay",
                            "size": 10,
                            "solidity": 0.2
                          }
                        },
                        "type": "histogram"
                      }
                    ],
                    "histogram2d": [
                      {
                        "colorbar": {
                          "outlinewidth": 0,
                          "ticks": ""
                        },
                        "colorscale": [
                          [
                            0,
                            "#0d0887"
                          ],
                          [
                            0.1111111111111111,
                            "#46039f"
                          ],
                          [
                            0.2222222222222222,
                            "#7201a8"
                          ],
                          [
                            0.3333333333333333,
                            "#9c179e"
                          ],
                          [
                            0.4444444444444444,
                            "#bd3786"
                          ],
                          [
                            0.5555555555555556,
                            "#d8576b"
                          ],
                          [
                            0.6666666666666666,
                            "#ed7953"
                          ],
                          [
                            0.7777777777777778,
                            "#fb9f3a"
                          ],
                          [
                            0.8888888888888888,
                            "#fdca26"
                          ],
                          [
                            1,
                            "#f0f921"
                          ]
                        ],
                        "type": "histogram2d"
                      }
                    ],
                    "histogram2dcontour": [
                      {
                        "colorbar": {
                          "outlinewidth": 0,
                          "ticks": ""
                        },
                        "colorscale": [
                          [
                            0,
                            "#0d0887"
                          ],
                          [
                            0.1111111111111111,
                            "#46039f"
                          ],
                          [
                            0.2222222222222222,
                            "#7201a8"
                          ],
                          [
                            0.3333333333333333,
                            "#9c179e"
                          ],
                          [
                            0.4444444444444444,
                            "#bd3786"
                          ],
                          [
                            0.5555555555555556,
                            "#d8576b"
                          ],
                          [
                            0.6666666666666666,
                            "#ed7953"
                          ],
                          [
                            0.7777777777777778,
                            "#fb9f3a"
                          ],
                          [
                            0.8888888888888888,
                            "#fdca26"
                          ],
                          [
                            1,
                            "#f0f921"
                          ]
                        ],
                        "type": "histogram2dcontour"
                      }
                    ],
                    "mesh3d": [
                      {
                        "colorbar": {
                          "outlinewidth": 0,
                          "ticks": ""
                        },
                        "type": "mesh3d"
                      }
                    ],
                    "parcoords": [
                      {
                        "line": {
                          "colorbar": {
                            "outlinewidth": 0,
                            "ticks": ""
                          }
                        },
                        "type": "parcoords"
                      }
                    ],
                    "pie": [
                      {
                        "automargin": true,
                        "type": "pie"
                      }
                    ],
                    "scatter": [
                      {
                        "fillpattern": {
                          "fillmode": "overlay",
                          "size": 10,
                          "solidity": 0.2
                        },
                        "type": "scatter"
                      }
                    ],
                    "scatter3d": [
                      {
                        "line": {
                          "colorbar": {
                            "outlinewidth": 0,
                            "ticks": ""
                          }
                        },
                        "marker": {
                          "colorbar": {
                            "outlinewidth": 0,
                            "ticks": ""
                          }
                        },
                        "type": "scatter3d"
                      }
                    ],
                    "scattercarpet": [
                      {
                        "marker": {
                          "colorbar": {
                            "outlinewidth": 0,
                            "ticks": ""
                          }
                        },
                        "type": "scattercarpet"
                      }
                    ],
                    "scattergeo": [
                      {
                        "marker": {
                          "colorbar": {
                            "outlinewidth": 0,
                            "ticks": ""
                          }
                        },
                        "type": "scattergeo"
                      }
                    ],
                    "scattergl": [
                      {
                        "marker": {
                          "colorbar": {
                            "outlinewidth": 0,
                            "ticks": ""
                          }
                        },
                        "type": "scattergl"
                      }
                    ],
                    "scattermapbox": [
                      {
                        "marker": {
                          "colorbar": {
                            "outlinewidth": 0,
                            "ticks": ""
                          }
                        },
                        "type": "scattermapbox"
                      }
                    ],
                    "scatterpolar": [
                      {
                        "marker": {
                          "colorbar": {
                            "outlinewidth": 0,
                            "ticks": ""
                          }
                        },
                        "type": "scatterpolar"
                      }
                    ],
                    "scatterpolargl": [
                      {
                        "marker": {
                          "colorbar": {
                            "outlinewidth": 0,
                            "ticks": ""
                          }
                        },
                        "type": "scatterpolargl"
                      }
                    ],
                    "scatterternary": [
                      {
                        "marker": {
                          "colorbar": {
                            "outlinewidth": 0,
                            "ticks": ""
                          }
                        },
                        "type": "scatterternary"
                      }
                    ],
                    "surface": [
                      {
                        "colorbar": {
                          "outlinewidth": 0,
                          "ticks": ""
                        },
                        "colorscale": [
                          [
                            0,
                            "#0d0887"
                          ],
                          [
                            0.1111111111111111,
                            "#46039f"
                          ],
                          [
                            0.2222222222222222,
                            "#7201a8"
                          ],
                          [
                            0.3333333333333333,
                            "#9c179e"
                          ],
                          [
                            0.4444444444444444,
                            "#bd3786"
                          ],
                          [
                            0.5555555555555556,
                            "#d8576b"
                          ],
                          [
                            0.6666666666666666,
                            "#ed7953"
                          ],
                          [
                            0.7777777777777778,
                            "#fb9f3a"
                          ],
                          [
                            0.8888888888888888,
                            "#fdca26"
                          ],
                          [
                            1,
                            "#f0f921"
                          ]
                        ],
                        "type": "surface"
                      }
                    ],
                    "table": [
                      {
                        "cells": {
                          "fill": {
                            "color": "#EBF0F8"
                          },
                          "line": {
                            "color": "white"
                          }
                        },
                        "header": {
                          "fill": {
                            "color": "#C8D4E3"
                          },
                          "line": {
                            "color": "white"
                          }
                        },
                        "type": "table"
                      }
                    ]
                  },
                  "layout": {
                    "annotationdefaults": {
                      "arrowcolor": "#2a3f5f",
                      "arrowhead": 0,
                      "arrowwidth": 1
                    },
                    "autotypenumbers": "strict",
                    "coloraxis": {
                      "colorbar": {
                        "outlinewidth": 0,
                        "ticks": ""
                      }
                    },
                    "colorscale": {
                      "diverging": [
                        [
                          0,
                          "#8e0152"
                        ],
                        [
                          0.1,
                          "#c51b7d"
                        ],
                        [
                          0.2,
                          "#de77ae"
                        ],
                        [
                          0.3,
                          "#f1b6da"
                        ],
                        [
                          0.4,
                          "#fde0ef"
                        ],
                        [
                          0.5,
                          "#f7f7f7"
                        ],
                        [
                          0.6,
                          "#e6f5d0"
                        ],
                        [
                          0.7,
                          "#b8e186"
                        ],
                        [
                          0.8,
                          "#7fbc41"
                        ],
                        [
                          0.9,
                          "#4d9221"
                        ],
                        [
                          1,
                          "#276419"
                        ]
                      ],
                      "sequential": [
                        [
                          0,
                          "#0d0887"
                        ],
                        [
                          0.1111111111111111,
                          "#46039f"
                        ],
                        [
                          0.2222222222222222,
                          "#7201a8"
                        ],
                        [
                          0.3333333333333333,
                          "#9c179e"
                        ],
                        [
                          0.4444444444444444,
                          "#bd3786"
                        ],
                        [
                          0.5555555555555556,
                          "#d8576b"
                        ],
                        [
                          0.6666666666666666,
                          "#ed7953"
                        ],
                        [
                          0.7777777777777778,
                          "#fb9f3a"
                        ],
                        [
                          0.8888888888888888,
                          "#fdca26"
                        ],
                        [
                          1,
                          "#f0f921"
                        ]
                      ],
                      "sequentialminus": [
                        [
                          0,
                          "#0d0887"
                        ],
                        [
                          0.1111111111111111,
                          "#46039f"
                        ],
                        [
                          0.2222222222222222,
                          "#7201a8"
                        ],
                        [
                          0.3333333333333333,
                          "#9c179e"
                        ],
                        [
                          0.4444444444444444,
                          "#bd3786"
                        ],
                        [
                          0.5555555555555556,
                          "#d8576b"
                        ],
                        [
                          0.6666666666666666,
                          "#ed7953"
                        ],
                        [
                          0.7777777777777778,
                          "#fb9f3a"
                        ],
                        [
                          0.8888888888888888,
                          "#fdca26"
                        ],
                        [
                          1,
                          "#f0f921"
                        ]
                      ]
                    },
                    "colorway": [
                      "#636efa",
                      "#EF553B",
                      "#00cc96",
                      "#ab63fa",
                      "#FFA15A",
                      "#19d3f3",
                      "#FF6692",
                      "#B6E880",
                      "#FF97FF",
                      "#FECB52"
                    ],
                    "font": {
                      "color": "#2a3f5f"
                    },
                    "geo": {
                      "bgcolor": "white",
                      "lakecolor": "white",
                      "landcolor": "#E5ECF6",
                      "showlakes": true,
                      "showland": true,
                      "subunitcolor": "white"
                    },
                    "hoverlabel": {
                      "align": "left"
                    },
                    "hovermode": "closest",
                    "mapbox": {
                      "style": "light"
                    },
                    "paper_bgcolor": "white",
                    "plot_bgcolor": "#E5ECF6",
                    "polar": {
                      "angularaxis": {
                        "gridcolor": "white",
                        "linecolor": "white",
                        "ticks": ""
                      },
                      "bgcolor": "#E5ECF6",
                      "radialaxis": {
                        "gridcolor": "white",
                        "linecolor": "white",
                        "ticks": ""
                      }
                    },
                    "scene": {
                      "xaxis": {
                        "backgroundcolor": "#E5ECF6",
                        "gridcolor": "white",
                        "gridwidth": 2,
                        "linecolor": "white",
                        "showbackground": true,
                        "ticks": "",
                        "zerolinecolor": "white"
                      },
                      "yaxis": {
                        "backgroundcolor": "#E5ECF6",
                        "gridcolor": "white",
                        "gridwidth": 2,
                        "linecolor": "white",
                        "showbackground": true,
                        "ticks": "",
                        "zerolinecolor": "white"
                      },
                      "zaxis": {
                        "backgroundcolor": "#E5ECF6",
                        "gridcolor": "white",
                        "gridwidth": 2,
                        "linecolor": "white",
                        "showbackground": true,
                        "ticks": "",
                        "zerolinecolor": "white"
                      }
                    },
                    "shapedefaults": {
                      "line": {
                        "color": "#2a3f5f"
                      }
                    },
                    "ternary": {
                      "aaxis": {
                        "gridcolor": "white",
                        "linecolor": "white",
                        "ticks": ""
                      },
                      "baxis": {
                        "gridcolor": "white",
                        "linecolor": "white",
                        "ticks": ""
                      },
                      "bgcolor": "#E5ECF6",
                      "caxis": {
                        "gridcolor": "white",
                        "linecolor": "white",
                        "ticks": ""
                      }
                    },
                    "title": {
                      "x": 0.05
                    },
                    "xaxis": {
                      "automargin": true,
                      "gridcolor": "white",
                      "linecolor": "white",
                      "ticks": "",
                      "title": {
                        "standoff": 15
                      },
                      "zerolinecolor": "white",
                      "zerolinewidth": 2
                    },
                    "yaxis": {
                      "automargin": true,
                      "gridcolor": "white",
                      "linecolor": "white",
                      "ticks": "",
                      "title": {
                        "standoff": 15
                      },
                      "zerolinecolor": "white",
                      "zerolinewidth": 2
                    }
                  }
                },
                "xaxis": {
                  "anchor": "y",
                  "domain": [
                    0,
                    1
                  ],
                  "tickangle": 90,
                  "title": {
                    "text": "Make"
                  }
                },
                "yaxis": {
                  "anchor": "x",
                  "domain": [
                    0,
                    1
                  ],
                  "title": {
                    "text": "value"
                  }
                }
              }
            }
          },
          "metadata": {},
          "output_type": "display_data"
        }
      ],
      "source": [
        "# Vemos la media de autonomía según la marca\n",
        "data3 = data.groupby('Make')['Electric Range'].mean().sort_values(ascending=False)\n",
        "me = px.scatter(data3)\n",
        "me.update_traces(marker=dict(\n",
        "        color='green'),showlegend=False)\n",
        "me.update_xaxes(tickangle=90)"
      ]
    },
    {
      "cell_type": "code",
      "execution_count": 262,
      "metadata": {},
      "outputs": [],
      "source": [
        "me.write_html(\"me.html\")"
      ]
    },
    {
      "cell_type": "code",
      "execution_count": 263,
      "metadata": {},
      "outputs": [
        {
          "data": {
            "application/vnd.plotly.v1+json": {
              "config": {
                "plotlyServerURL": "https://plot.ly"
              },
              "data": [
                {
                  "labels": [
                    "Mercedes",
                    "Tesla",
                    "BMW",
                    "Porsche",
                    "Ford",
                    "Polestar",
                    "Volkswagen",
                    "Skoda",
                    "Jaguar",
                    "Genesis"
                  ],
                  "textinfo": "label+percent",
                  "type": "pie",
                  "values": [
                    456.0416666666667,
                    448.75,
                    438.125,
                    416.1111111111111,
                    411.42857142857144,
                    410,
                    387.6923076923077,
                    386,
                    380,
                    371.25
                  ]
                }
              ],
              "layout": {
                "template": {
                  "data": {
                    "bar": [
                      {
                        "error_x": {
                          "color": "#2a3f5f"
                        },
                        "error_y": {
                          "color": "#2a3f5f"
                        },
                        "marker": {
                          "line": {
                            "color": "#E5ECF6",
                            "width": 0.5
                          },
                          "pattern": {
                            "fillmode": "overlay",
                            "size": 10,
                            "solidity": 0.2
                          }
                        },
                        "type": "bar"
                      }
                    ],
                    "barpolar": [
                      {
                        "marker": {
                          "line": {
                            "color": "#E5ECF6",
                            "width": 0.5
                          },
                          "pattern": {
                            "fillmode": "overlay",
                            "size": 10,
                            "solidity": 0.2
                          }
                        },
                        "type": "barpolar"
                      }
                    ],
                    "carpet": [
                      {
                        "aaxis": {
                          "endlinecolor": "#2a3f5f",
                          "gridcolor": "white",
                          "linecolor": "white",
                          "minorgridcolor": "white",
                          "startlinecolor": "#2a3f5f"
                        },
                        "baxis": {
                          "endlinecolor": "#2a3f5f",
                          "gridcolor": "white",
                          "linecolor": "white",
                          "minorgridcolor": "white",
                          "startlinecolor": "#2a3f5f"
                        },
                        "type": "carpet"
                      }
                    ],
                    "choropleth": [
                      {
                        "colorbar": {
                          "outlinewidth": 0,
                          "ticks": ""
                        },
                        "type": "choropleth"
                      }
                    ],
                    "contour": [
                      {
                        "colorbar": {
                          "outlinewidth": 0,
                          "ticks": ""
                        },
                        "colorscale": [
                          [
                            0,
                            "#0d0887"
                          ],
                          [
                            0.1111111111111111,
                            "#46039f"
                          ],
                          [
                            0.2222222222222222,
                            "#7201a8"
                          ],
                          [
                            0.3333333333333333,
                            "#9c179e"
                          ],
                          [
                            0.4444444444444444,
                            "#bd3786"
                          ],
                          [
                            0.5555555555555556,
                            "#d8576b"
                          ],
                          [
                            0.6666666666666666,
                            "#ed7953"
                          ],
                          [
                            0.7777777777777778,
                            "#fb9f3a"
                          ],
                          [
                            0.8888888888888888,
                            "#fdca26"
                          ],
                          [
                            1,
                            "#f0f921"
                          ]
                        ],
                        "type": "contour"
                      }
                    ],
                    "contourcarpet": [
                      {
                        "colorbar": {
                          "outlinewidth": 0,
                          "ticks": ""
                        },
                        "type": "contourcarpet"
                      }
                    ],
                    "heatmap": [
                      {
                        "colorbar": {
                          "outlinewidth": 0,
                          "ticks": ""
                        },
                        "colorscale": [
                          [
                            0,
                            "#0d0887"
                          ],
                          [
                            0.1111111111111111,
                            "#46039f"
                          ],
                          [
                            0.2222222222222222,
                            "#7201a8"
                          ],
                          [
                            0.3333333333333333,
                            "#9c179e"
                          ],
                          [
                            0.4444444444444444,
                            "#bd3786"
                          ],
                          [
                            0.5555555555555556,
                            "#d8576b"
                          ],
                          [
                            0.6666666666666666,
                            "#ed7953"
                          ],
                          [
                            0.7777777777777778,
                            "#fb9f3a"
                          ],
                          [
                            0.8888888888888888,
                            "#fdca26"
                          ],
                          [
                            1,
                            "#f0f921"
                          ]
                        ],
                        "type": "heatmap"
                      }
                    ],
                    "heatmapgl": [
                      {
                        "colorbar": {
                          "outlinewidth": 0,
                          "ticks": ""
                        },
                        "colorscale": [
                          [
                            0,
                            "#0d0887"
                          ],
                          [
                            0.1111111111111111,
                            "#46039f"
                          ],
                          [
                            0.2222222222222222,
                            "#7201a8"
                          ],
                          [
                            0.3333333333333333,
                            "#9c179e"
                          ],
                          [
                            0.4444444444444444,
                            "#bd3786"
                          ],
                          [
                            0.5555555555555556,
                            "#d8576b"
                          ],
                          [
                            0.6666666666666666,
                            "#ed7953"
                          ],
                          [
                            0.7777777777777778,
                            "#fb9f3a"
                          ],
                          [
                            0.8888888888888888,
                            "#fdca26"
                          ],
                          [
                            1,
                            "#f0f921"
                          ]
                        ],
                        "type": "heatmapgl"
                      }
                    ],
                    "histogram": [
                      {
                        "marker": {
                          "pattern": {
                            "fillmode": "overlay",
                            "size": 10,
                            "solidity": 0.2
                          }
                        },
                        "type": "histogram"
                      }
                    ],
                    "histogram2d": [
                      {
                        "colorbar": {
                          "outlinewidth": 0,
                          "ticks": ""
                        },
                        "colorscale": [
                          [
                            0,
                            "#0d0887"
                          ],
                          [
                            0.1111111111111111,
                            "#46039f"
                          ],
                          [
                            0.2222222222222222,
                            "#7201a8"
                          ],
                          [
                            0.3333333333333333,
                            "#9c179e"
                          ],
                          [
                            0.4444444444444444,
                            "#bd3786"
                          ],
                          [
                            0.5555555555555556,
                            "#d8576b"
                          ],
                          [
                            0.6666666666666666,
                            "#ed7953"
                          ],
                          [
                            0.7777777777777778,
                            "#fb9f3a"
                          ],
                          [
                            0.8888888888888888,
                            "#fdca26"
                          ],
                          [
                            1,
                            "#f0f921"
                          ]
                        ],
                        "type": "histogram2d"
                      }
                    ],
                    "histogram2dcontour": [
                      {
                        "colorbar": {
                          "outlinewidth": 0,
                          "ticks": ""
                        },
                        "colorscale": [
                          [
                            0,
                            "#0d0887"
                          ],
                          [
                            0.1111111111111111,
                            "#46039f"
                          ],
                          [
                            0.2222222222222222,
                            "#7201a8"
                          ],
                          [
                            0.3333333333333333,
                            "#9c179e"
                          ],
                          [
                            0.4444444444444444,
                            "#bd3786"
                          ],
                          [
                            0.5555555555555556,
                            "#d8576b"
                          ],
                          [
                            0.6666666666666666,
                            "#ed7953"
                          ],
                          [
                            0.7777777777777778,
                            "#fb9f3a"
                          ],
                          [
                            0.8888888888888888,
                            "#fdca26"
                          ],
                          [
                            1,
                            "#f0f921"
                          ]
                        ],
                        "type": "histogram2dcontour"
                      }
                    ],
                    "mesh3d": [
                      {
                        "colorbar": {
                          "outlinewidth": 0,
                          "ticks": ""
                        },
                        "type": "mesh3d"
                      }
                    ],
                    "parcoords": [
                      {
                        "line": {
                          "colorbar": {
                            "outlinewidth": 0,
                            "ticks": ""
                          }
                        },
                        "type": "parcoords"
                      }
                    ],
                    "pie": [
                      {
                        "automargin": true,
                        "type": "pie"
                      }
                    ],
                    "scatter": [
                      {
                        "fillpattern": {
                          "fillmode": "overlay",
                          "size": 10,
                          "solidity": 0.2
                        },
                        "type": "scatter"
                      }
                    ],
                    "scatter3d": [
                      {
                        "line": {
                          "colorbar": {
                            "outlinewidth": 0,
                            "ticks": ""
                          }
                        },
                        "marker": {
                          "colorbar": {
                            "outlinewidth": 0,
                            "ticks": ""
                          }
                        },
                        "type": "scatter3d"
                      }
                    ],
                    "scattercarpet": [
                      {
                        "marker": {
                          "colorbar": {
                            "outlinewidth": 0,
                            "ticks": ""
                          }
                        },
                        "type": "scattercarpet"
                      }
                    ],
                    "scattergeo": [
                      {
                        "marker": {
                          "colorbar": {
                            "outlinewidth": 0,
                            "ticks": ""
                          }
                        },
                        "type": "scattergeo"
                      }
                    ],
                    "scattergl": [
                      {
                        "marker": {
                          "colorbar": {
                            "outlinewidth": 0,
                            "ticks": ""
                          }
                        },
                        "type": "scattergl"
                      }
                    ],
                    "scattermapbox": [
                      {
                        "marker": {
                          "colorbar": {
                            "outlinewidth": 0,
                            "ticks": ""
                          }
                        },
                        "type": "scattermapbox"
                      }
                    ],
                    "scatterpolar": [
                      {
                        "marker": {
                          "colorbar": {
                            "outlinewidth": 0,
                            "ticks": ""
                          }
                        },
                        "type": "scatterpolar"
                      }
                    ],
                    "scatterpolargl": [
                      {
                        "marker": {
                          "colorbar": {
                            "outlinewidth": 0,
                            "ticks": ""
                          }
                        },
                        "type": "scatterpolargl"
                      }
                    ],
                    "scatterternary": [
                      {
                        "marker": {
                          "colorbar": {
                            "outlinewidth": 0,
                            "ticks": ""
                          }
                        },
                        "type": "scatterternary"
                      }
                    ],
                    "surface": [
                      {
                        "colorbar": {
                          "outlinewidth": 0,
                          "ticks": ""
                        },
                        "colorscale": [
                          [
                            0,
                            "#0d0887"
                          ],
                          [
                            0.1111111111111111,
                            "#46039f"
                          ],
                          [
                            0.2222222222222222,
                            "#7201a8"
                          ],
                          [
                            0.3333333333333333,
                            "#9c179e"
                          ],
                          [
                            0.4444444444444444,
                            "#bd3786"
                          ],
                          [
                            0.5555555555555556,
                            "#d8576b"
                          ],
                          [
                            0.6666666666666666,
                            "#ed7953"
                          ],
                          [
                            0.7777777777777778,
                            "#fb9f3a"
                          ],
                          [
                            0.8888888888888888,
                            "#fdca26"
                          ],
                          [
                            1,
                            "#f0f921"
                          ]
                        ],
                        "type": "surface"
                      }
                    ],
                    "table": [
                      {
                        "cells": {
                          "fill": {
                            "color": "#EBF0F8"
                          },
                          "line": {
                            "color": "white"
                          }
                        },
                        "header": {
                          "fill": {
                            "color": "#C8D4E3"
                          },
                          "line": {
                            "color": "white"
                          }
                        },
                        "type": "table"
                      }
                    ]
                  },
                  "layout": {
                    "annotationdefaults": {
                      "arrowcolor": "#2a3f5f",
                      "arrowhead": 0,
                      "arrowwidth": 1
                    },
                    "autotypenumbers": "strict",
                    "coloraxis": {
                      "colorbar": {
                        "outlinewidth": 0,
                        "ticks": ""
                      }
                    },
                    "colorscale": {
                      "diverging": [
                        [
                          0,
                          "#8e0152"
                        ],
                        [
                          0.1,
                          "#c51b7d"
                        ],
                        [
                          0.2,
                          "#de77ae"
                        ],
                        [
                          0.3,
                          "#f1b6da"
                        ],
                        [
                          0.4,
                          "#fde0ef"
                        ],
                        [
                          0.5,
                          "#f7f7f7"
                        ],
                        [
                          0.6,
                          "#e6f5d0"
                        ],
                        [
                          0.7,
                          "#b8e186"
                        ],
                        [
                          0.8,
                          "#7fbc41"
                        ],
                        [
                          0.9,
                          "#4d9221"
                        ],
                        [
                          1,
                          "#276419"
                        ]
                      ],
                      "sequential": [
                        [
                          0,
                          "#0d0887"
                        ],
                        [
                          0.1111111111111111,
                          "#46039f"
                        ],
                        [
                          0.2222222222222222,
                          "#7201a8"
                        ],
                        [
                          0.3333333333333333,
                          "#9c179e"
                        ],
                        [
                          0.4444444444444444,
                          "#bd3786"
                        ],
                        [
                          0.5555555555555556,
                          "#d8576b"
                        ],
                        [
                          0.6666666666666666,
                          "#ed7953"
                        ],
                        [
                          0.7777777777777778,
                          "#fb9f3a"
                        ],
                        [
                          0.8888888888888888,
                          "#fdca26"
                        ],
                        [
                          1,
                          "#f0f921"
                        ]
                      ],
                      "sequentialminus": [
                        [
                          0,
                          "#0d0887"
                        ],
                        [
                          0.1111111111111111,
                          "#46039f"
                        ],
                        [
                          0.2222222222222222,
                          "#7201a8"
                        ],
                        [
                          0.3333333333333333,
                          "#9c179e"
                        ],
                        [
                          0.4444444444444444,
                          "#bd3786"
                        ],
                        [
                          0.5555555555555556,
                          "#d8576b"
                        ],
                        [
                          0.6666666666666666,
                          "#ed7953"
                        ],
                        [
                          0.7777777777777778,
                          "#fb9f3a"
                        ],
                        [
                          0.8888888888888888,
                          "#fdca26"
                        ],
                        [
                          1,
                          "#f0f921"
                        ]
                      ]
                    },
                    "colorway": [
                      "#636efa",
                      "#EF553B",
                      "#00cc96",
                      "#ab63fa",
                      "#FFA15A",
                      "#19d3f3",
                      "#FF6692",
                      "#B6E880",
                      "#FF97FF",
                      "#FECB52"
                    ],
                    "font": {
                      "color": "#2a3f5f"
                    },
                    "geo": {
                      "bgcolor": "white",
                      "lakecolor": "white",
                      "landcolor": "#E5ECF6",
                      "showlakes": true,
                      "showland": true,
                      "subunitcolor": "white"
                    },
                    "hoverlabel": {
                      "align": "left"
                    },
                    "hovermode": "closest",
                    "mapbox": {
                      "style": "light"
                    },
                    "paper_bgcolor": "white",
                    "plot_bgcolor": "#E5ECF6",
                    "polar": {
                      "angularaxis": {
                        "gridcolor": "white",
                        "linecolor": "white",
                        "ticks": ""
                      },
                      "bgcolor": "#E5ECF6",
                      "radialaxis": {
                        "gridcolor": "white",
                        "linecolor": "white",
                        "ticks": ""
                      }
                    },
                    "scene": {
                      "xaxis": {
                        "backgroundcolor": "#E5ECF6",
                        "gridcolor": "white",
                        "gridwidth": 2,
                        "linecolor": "white",
                        "showbackground": true,
                        "ticks": "",
                        "zerolinecolor": "white"
                      },
                      "yaxis": {
                        "backgroundcolor": "#E5ECF6",
                        "gridcolor": "white",
                        "gridwidth": 2,
                        "linecolor": "white",
                        "showbackground": true,
                        "ticks": "",
                        "zerolinecolor": "white"
                      },
                      "zaxis": {
                        "backgroundcolor": "#E5ECF6",
                        "gridcolor": "white",
                        "gridwidth": 2,
                        "linecolor": "white",
                        "showbackground": true,
                        "ticks": "",
                        "zerolinecolor": "white"
                      }
                    },
                    "shapedefaults": {
                      "line": {
                        "color": "#2a3f5f"
                      }
                    },
                    "ternary": {
                      "aaxis": {
                        "gridcolor": "white",
                        "linecolor": "white",
                        "ticks": ""
                      },
                      "baxis": {
                        "gridcolor": "white",
                        "linecolor": "white",
                        "ticks": ""
                      },
                      "bgcolor": "#E5ECF6",
                      "caxis": {
                        "gridcolor": "white",
                        "linecolor": "white",
                        "ticks": ""
                      }
                    },
                    "title": {
                      "x": 0.05
                    },
                    "xaxis": {
                      "automargin": true,
                      "gridcolor": "white",
                      "linecolor": "white",
                      "ticks": "",
                      "title": {
                        "standoff": 15
                      },
                      "zerolinecolor": "white",
                      "zerolinewidth": 2
                    },
                    "yaxis": {
                      "automargin": true,
                      "gridcolor": "white",
                      "linecolor": "white",
                      "ticks": "",
                      "title": {
                        "standoff": 15
                      },
                      "zerolinecolor": "white",
                      "zerolinewidth": 2
                    }
                  }
                }
              }
            }
          },
          "metadata": {},
          "output_type": "display_data"
        }
      ],
      "source": [
        "#top 10 marcas por autonomía\n",
        "data2 = data.groupby('Make')['Electric Range'].mean().sort_values(ascending=False).head(n=10) \n",
        "data2\n",
        "fig = go.Figure(data =[go.Pie (labels=data2.index.values, values= data2,textinfo='label+percent')])\n",
        "fig.show()\n",
        "fig.write_html(\"marcauto.html\")"
      ]
    },
    {
      "cell_type": "code",
      "execution_count": 264,
      "metadata": {
        "colab": {
          "base_uri": "https://localhost:8080/",
          "height": 542
        },
        "id": "bRus3hV3uWWh",
        "outputId": "fc5d5b8b-da2a-442d-dc59-bf8ce148ed63"
      },
      "outputs": [
        {
          "data": {
            "application/vnd.plotly.v1+json": {
              "config": {
                "plotlyServerURL": "https://plot.ly"
              },
              "data": [
                {
                  "labels": [
                    "AWD",
                    "Front",
                    "Rear"
                  ],
                  "textinfo": "label+percent",
                  "type": "pie",
                  "values": [
                    75,
                    73,
                    46
                  ]
                }
              ],
              "layout": {
                "showlegend": false,
                "template": {
                  "data": {
                    "bar": [
                      {
                        "error_x": {
                          "color": "#2a3f5f"
                        },
                        "error_y": {
                          "color": "#2a3f5f"
                        },
                        "marker": {
                          "line": {
                            "color": "#E5ECF6",
                            "width": 0.5
                          },
                          "pattern": {
                            "fillmode": "overlay",
                            "size": 10,
                            "solidity": 0.2
                          }
                        },
                        "type": "bar"
                      }
                    ],
                    "barpolar": [
                      {
                        "marker": {
                          "line": {
                            "color": "#E5ECF6",
                            "width": 0.5
                          },
                          "pattern": {
                            "fillmode": "overlay",
                            "size": 10,
                            "solidity": 0.2
                          }
                        },
                        "type": "barpolar"
                      }
                    ],
                    "carpet": [
                      {
                        "aaxis": {
                          "endlinecolor": "#2a3f5f",
                          "gridcolor": "white",
                          "linecolor": "white",
                          "minorgridcolor": "white",
                          "startlinecolor": "#2a3f5f"
                        },
                        "baxis": {
                          "endlinecolor": "#2a3f5f",
                          "gridcolor": "white",
                          "linecolor": "white",
                          "minorgridcolor": "white",
                          "startlinecolor": "#2a3f5f"
                        },
                        "type": "carpet"
                      }
                    ],
                    "choropleth": [
                      {
                        "colorbar": {
                          "outlinewidth": 0,
                          "ticks": ""
                        },
                        "type": "choropleth"
                      }
                    ],
                    "contour": [
                      {
                        "colorbar": {
                          "outlinewidth": 0,
                          "ticks": ""
                        },
                        "colorscale": [
                          [
                            0,
                            "#0d0887"
                          ],
                          [
                            0.1111111111111111,
                            "#46039f"
                          ],
                          [
                            0.2222222222222222,
                            "#7201a8"
                          ],
                          [
                            0.3333333333333333,
                            "#9c179e"
                          ],
                          [
                            0.4444444444444444,
                            "#bd3786"
                          ],
                          [
                            0.5555555555555556,
                            "#d8576b"
                          ],
                          [
                            0.6666666666666666,
                            "#ed7953"
                          ],
                          [
                            0.7777777777777778,
                            "#fb9f3a"
                          ],
                          [
                            0.8888888888888888,
                            "#fdca26"
                          ],
                          [
                            1,
                            "#f0f921"
                          ]
                        ],
                        "type": "contour"
                      }
                    ],
                    "contourcarpet": [
                      {
                        "colorbar": {
                          "outlinewidth": 0,
                          "ticks": ""
                        },
                        "type": "contourcarpet"
                      }
                    ],
                    "heatmap": [
                      {
                        "colorbar": {
                          "outlinewidth": 0,
                          "ticks": ""
                        },
                        "colorscale": [
                          [
                            0,
                            "#0d0887"
                          ],
                          [
                            0.1111111111111111,
                            "#46039f"
                          ],
                          [
                            0.2222222222222222,
                            "#7201a8"
                          ],
                          [
                            0.3333333333333333,
                            "#9c179e"
                          ],
                          [
                            0.4444444444444444,
                            "#bd3786"
                          ],
                          [
                            0.5555555555555556,
                            "#d8576b"
                          ],
                          [
                            0.6666666666666666,
                            "#ed7953"
                          ],
                          [
                            0.7777777777777778,
                            "#fb9f3a"
                          ],
                          [
                            0.8888888888888888,
                            "#fdca26"
                          ],
                          [
                            1,
                            "#f0f921"
                          ]
                        ],
                        "type": "heatmap"
                      }
                    ],
                    "heatmapgl": [
                      {
                        "colorbar": {
                          "outlinewidth": 0,
                          "ticks": ""
                        },
                        "colorscale": [
                          [
                            0,
                            "#0d0887"
                          ],
                          [
                            0.1111111111111111,
                            "#46039f"
                          ],
                          [
                            0.2222222222222222,
                            "#7201a8"
                          ],
                          [
                            0.3333333333333333,
                            "#9c179e"
                          ],
                          [
                            0.4444444444444444,
                            "#bd3786"
                          ],
                          [
                            0.5555555555555556,
                            "#d8576b"
                          ],
                          [
                            0.6666666666666666,
                            "#ed7953"
                          ],
                          [
                            0.7777777777777778,
                            "#fb9f3a"
                          ],
                          [
                            0.8888888888888888,
                            "#fdca26"
                          ],
                          [
                            1,
                            "#f0f921"
                          ]
                        ],
                        "type": "heatmapgl"
                      }
                    ],
                    "histogram": [
                      {
                        "marker": {
                          "pattern": {
                            "fillmode": "overlay",
                            "size": 10,
                            "solidity": 0.2
                          }
                        },
                        "type": "histogram"
                      }
                    ],
                    "histogram2d": [
                      {
                        "colorbar": {
                          "outlinewidth": 0,
                          "ticks": ""
                        },
                        "colorscale": [
                          [
                            0,
                            "#0d0887"
                          ],
                          [
                            0.1111111111111111,
                            "#46039f"
                          ],
                          [
                            0.2222222222222222,
                            "#7201a8"
                          ],
                          [
                            0.3333333333333333,
                            "#9c179e"
                          ],
                          [
                            0.4444444444444444,
                            "#bd3786"
                          ],
                          [
                            0.5555555555555556,
                            "#d8576b"
                          ],
                          [
                            0.6666666666666666,
                            "#ed7953"
                          ],
                          [
                            0.7777777777777778,
                            "#fb9f3a"
                          ],
                          [
                            0.8888888888888888,
                            "#fdca26"
                          ],
                          [
                            1,
                            "#f0f921"
                          ]
                        ],
                        "type": "histogram2d"
                      }
                    ],
                    "histogram2dcontour": [
                      {
                        "colorbar": {
                          "outlinewidth": 0,
                          "ticks": ""
                        },
                        "colorscale": [
                          [
                            0,
                            "#0d0887"
                          ],
                          [
                            0.1111111111111111,
                            "#46039f"
                          ],
                          [
                            0.2222222222222222,
                            "#7201a8"
                          ],
                          [
                            0.3333333333333333,
                            "#9c179e"
                          ],
                          [
                            0.4444444444444444,
                            "#bd3786"
                          ],
                          [
                            0.5555555555555556,
                            "#d8576b"
                          ],
                          [
                            0.6666666666666666,
                            "#ed7953"
                          ],
                          [
                            0.7777777777777778,
                            "#fb9f3a"
                          ],
                          [
                            0.8888888888888888,
                            "#fdca26"
                          ],
                          [
                            1,
                            "#f0f921"
                          ]
                        ],
                        "type": "histogram2dcontour"
                      }
                    ],
                    "mesh3d": [
                      {
                        "colorbar": {
                          "outlinewidth": 0,
                          "ticks": ""
                        },
                        "type": "mesh3d"
                      }
                    ],
                    "parcoords": [
                      {
                        "line": {
                          "colorbar": {
                            "outlinewidth": 0,
                            "ticks": ""
                          }
                        },
                        "type": "parcoords"
                      }
                    ],
                    "pie": [
                      {
                        "automargin": true,
                        "type": "pie"
                      }
                    ],
                    "scatter": [
                      {
                        "fillpattern": {
                          "fillmode": "overlay",
                          "size": 10,
                          "solidity": 0.2
                        },
                        "type": "scatter"
                      }
                    ],
                    "scatter3d": [
                      {
                        "line": {
                          "colorbar": {
                            "outlinewidth": 0,
                            "ticks": ""
                          }
                        },
                        "marker": {
                          "colorbar": {
                            "outlinewidth": 0,
                            "ticks": ""
                          }
                        },
                        "type": "scatter3d"
                      }
                    ],
                    "scattercarpet": [
                      {
                        "marker": {
                          "colorbar": {
                            "outlinewidth": 0,
                            "ticks": ""
                          }
                        },
                        "type": "scattercarpet"
                      }
                    ],
                    "scattergeo": [
                      {
                        "marker": {
                          "colorbar": {
                            "outlinewidth": 0,
                            "ticks": ""
                          }
                        },
                        "type": "scattergeo"
                      }
                    ],
                    "scattergl": [
                      {
                        "marker": {
                          "colorbar": {
                            "outlinewidth": 0,
                            "ticks": ""
                          }
                        },
                        "type": "scattergl"
                      }
                    ],
                    "scattermapbox": [
                      {
                        "marker": {
                          "colorbar": {
                            "outlinewidth": 0,
                            "ticks": ""
                          }
                        },
                        "type": "scattermapbox"
                      }
                    ],
                    "scatterpolar": [
                      {
                        "marker": {
                          "colorbar": {
                            "outlinewidth": 0,
                            "ticks": ""
                          }
                        },
                        "type": "scatterpolar"
                      }
                    ],
                    "scatterpolargl": [
                      {
                        "marker": {
                          "colorbar": {
                            "outlinewidth": 0,
                            "ticks": ""
                          }
                        },
                        "type": "scatterpolargl"
                      }
                    ],
                    "scatterternary": [
                      {
                        "marker": {
                          "colorbar": {
                            "outlinewidth": 0,
                            "ticks": ""
                          }
                        },
                        "type": "scatterternary"
                      }
                    ],
                    "surface": [
                      {
                        "colorbar": {
                          "outlinewidth": 0,
                          "ticks": ""
                        },
                        "colorscale": [
                          [
                            0,
                            "#0d0887"
                          ],
                          [
                            0.1111111111111111,
                            "#46039f"
                          ],
                          [
                            0.2222222222222222,
                            "#7201a8"
                          ],
                          [
                            0.3333333333333333,
                            "#9c179e"
                          ],
                          [
                            0.4444444444444444,
                            "#bd3786"
                          ],
                          [
                            0.5555555555555556,
                            "#d8576b"
                          ],
                          [
                            0.6666666666666666,
                            "#ed7953"
                          ],
                          [
                            0.7777777777777778,
                            "#fb9f3a"
                          ],
                          [
                            0.8888888888888888,
                            "#fdca26"
                          ],
                          [
                            1,
                            "#f0f921"
                          ]
                        ],
                        "type": "surface"
                      }
                    ],
                    "table": [
                      {
                        "cells": {
                          "fill": {
                            "color": "#EBF0F8"
                          },
                          "line": {
                            "color": "white"
                          }
                        },
                        "header": {
                          "fill": {
                            "color": "#C8D4E3"
                          },
                          "line": {
                            "color": "white"
                          }
                        },
                        "type": "table"
                      }
                    ]
                  },
                  "layout": {
                    "annotationdefaults": {
                      "arrowcolor": "#2a3f5f",
                      "arrowhead": 0,
                      "arrowwidth": 1
                    },
                    "autotypenumbers": "strict",
                    "coloraxis": {
                      "colorbar": {
                        "outlinewidth": 0,
                        "ticks": ""
                      }
                    },
                    "colorscale": {
                      "diverging": [
                        [
                          0,
                          "#8e0152"
                        ],
                        [
                          0.1,
                          "#c51b7d"
                        ],
                        [
                          0.2,
                          "#de77ae"
                        ],
                        [
                          0.3,
                          "#f1b6da"
                        ],
                        [
                          0.4,
                          "#fde0ef"
                        ],
                        [
                          0.5,
                          "#f7f7f7"
                        ],
                        [
                          0.6,
                          "#e6f5d0"
                        ],
                        [
                          0.7,
                          "#b8e186"
                        ],
                        [
                          0.8,
                          "#7fbc41"
                        ],
                        [
                          0.9,
                          "#4d9221"
                        ],
                        [
                          1,
                          "#276419"
                        ]
                      ],
                      "sequential": [
                        [
                          0,
                          "#0d0887"
                        ],
                        [
                          0.1111111111111111,
                          "#46039f"
                        ],
                        [
                          0.2222222222222222,
                          "#7201a8"
                        ],
                        [
                          0.3333333333333333,
                          "#9c179e"
                        ],
                        [
                          0.4444444444444444,
                          "#bd3786"
                        ],
                        [
                          0.5555555555555556,
                          "#d8576b"
                        ],
                        [
                          0.6666666666666666,
                          "#ed7953"
                        ],
                        [
                          0.7777777777777778,
                          "#fb9f3a"
                        ],
                        [
                          0.8888888888888888,
                          "#fdca26"
                        ],
                        [
                          1,
                          "#f0f921"
                        ]
                      ],
                      "sequentialminus": [
                        [
                          0,
                          "#0d0887"
                        ],
                        [
                          0.1111111111111111,
                          "#46039f"
                        ],
                        [
                          0.2222222222222222,
                          "#7201a8"
                        ],
                        [
                          0.3333333333333333,
                          "#9c179e"
                        ],
                        [
                          0.4444444444444444,
                          "#bd3786"
                        ],
                        [
                          0.5555555555555556,
                          "#d8576b"
                        ],
                        [
                          0.6666666666666666,
                          "#ed7953"
                        ],
                        [
                          0.7777777777777778,
                          "#fb9f3a"
                        ],
                        [
                          0.8888888888888888,
                          "#fdca26"
                        ],
                        [
                          1,
                          "#f0f921"
                        ]
                      ]
                    },
                    "colorway": [
                      "#636efa",
                      "#EF553B",
                      "#00cc96",
                      "#ab63fa",
                      "#FFA15A",
                      "#19d3f3",
                      "#FF6692",
                      "#B6E880",
                      "#FF97FF",
                      "#FECB52"
                    ],
                    "font": {
                      "color": "#2a3f5f"
                    },
                    "geo": {
                      "bgcolor": "white",
                      "lakecolor": "white",
                      "landcolor": "#E5ECF6",
                      "showlakes": true,
                      "showland": true,
                      "subunitcolor": "white"
                    },
                    "hoverlabel": {
                      "align": "left"
                    },
                    "hovermode": "closest",
                    "mapbox": {
                      "style": "light"
                    },
                    "paper_bgcolor": "white",
                    "plot_bgcolor": "#E5ECF6",
                    "polar": {
                      "angularaxis": {
                        "gridcolor": "white",
                        "linecolor": "white",
                        "ticks": ""
                      },
                      "bgcolor": "#E5ECF6",
                      "radialaxis": {
                        "gridcolor": "white",
                        "linecolor": "white",
                        "ticks": ""
                      }
                    },
                    "scene": {
                      "xaxis": {
                        "backgroundcolor": "#E5ECF6",
                        "gridcolor": "white",
                        "gridwidth": 2,
                        "linecolor": "white",
                        "showbackground": true,
                        "ticks": "",
                        "zerolinecolor": "white"
                      },
                      "yaxis": {
                        "backgroundcolor": "#E5ECF6",
                        "gridcolor": "white",
                        "gridwidth": 2,
                        "linecolor": "white",
                        "showbackground": true,
                        "ticks": "",
                        "zerolinecolor": "white"
                      },
                      "zaxis": {
                        "backgroundcolor": "#E5ECF6",
                        "gridcolor": "white",
                        "gridwidth": 2,
                        "linecolor": "white",
                        "showbackground": true,
                        "ticks": "",
                        "zerolinecolor": "white"
                      }
                    },
                    "shapedefaults": {
                      "line": {
                        "color": "#2a3f5f"
                      }
                    },
                    "ternary": {
                      "aaxis": {
                        "gridcolor": "white",
                        "linecolor": "white",
                        "ticks": ""
                      },
                      "baxis": {
                        "gridcolor": "white",
                        "linecolor": "white",
                        "ticks": ""
                      },
                      "bgcolor": "#E5ECF6",
                      "caxis": {
                        "gridcolor": "white",
                        "linecolor": "white",
                        "ticks": ""
                      }
                    },
                    "title": {
                      "x": 0.05
                    },
                    "xaxis": {
                      "automargin": true,
                      "gridcolor": "white",
                      "linecolor": "white",
                      "ticks": "",
                      "title": {
                        "standoff": 15
                      },
                      "zerolinecolor": "white",
                      "zerolinewidth": 2
                    },
                    "yaxis": {
                      "automargin": true,
                      "gridcolor": "white",
                      "linecolor": "white",
                      "ticks": "",
                      "title": {
                        "standoff": 15
                      },
                      "zerolinecolor": "white",
                      "zerolinewidth": 2
                    }
                  }
                }
              }
            }
          },
          "metadata": {},
          "output_type": "display_data"
        }
      ],
      "source": [
        "# Distribución de coches según la tracción\n",
        "data1 = data['Drive'].value_counts()\n",
        "data1\n",
        "#graficamos\n",
        "fig = go.Figure(data =[go.Pie (labels=data1.index.values, values= data1,textinfo='label+percent')])\n",
        "fig.update_layout(showlegend=False)\n",
        "fig.show()\n",
        "fig.write_html(\"trac.html\")"
      ]
    },
    {
      "cell_type": "code",
      "execution_count": 265,
      "metadata": {},
      "outputs": [
        {
          "name": "stderr",
          "output_type": "stream",
          "text": [
            "c:\\Users\\Nacho\\AppData\\Local\\Programs\\Python\\Python310\\lib\\site-packages\\plotly\\express\\_core.py:279: FutureWarning:\n",
            "\n",
            "iteritems is deprecated and will be removed in a future version. Use .items instead.\n",
            "\n"
          ]
        },
        {
          "data": {
            "application/vnd.plotly.v1+json": {
              "config": {
                "plotlyServerURL": "https://plot.ly"
              },
              "data": [
                {
                  "dimensions": [
                    {
                      "axis": {
                        "matches": true
                      },
                      "label": "Electric Range",
                      "values": [
                        390,
                        380,
                        365,
                        350
                      ]
                    },
                    {
                      "axis": {
                        "matches": true
                      },
                      "label": "Drive",
                      "values": [
                        "Rear",
                        "AWD",
                        "AWD",
                        "AWD"
                      ]
                    }
                  ],
                  "hovertemplate": "Make=Genesis<br>%{xaxis.title.text}=%{x}<br>%{yaxis.title.text}=%{y}<extra></extra>",
                  "legendgroup": "Genesis",
                  "marker": {
                    "color": "#636efa",
                    "symbol": "circle"
                  },
                  "name": "Genesis",
                  "showlegend": true,
                  "type": "splom"
                },
                {
                  "dimensions": [
                    {
                      "axis": {
                        "matches": true
                      },
                      "label": "Electric Range",
                      "values": [
                        330,
                        480,
                        605,
                        350,
                        375,
                        350,
                        565,
                        305,
                        500,
                        355,
                        605,
                        370,
                        500,
                        485,
                        495,
                        515,
                        525,
                        305,
                        485,
                        515,
                        640,
                        330,
                        345,
                        615
                      ]
                    },
                    {
                      "axis": {
                        "matches": true
                      },
                      "label": "Drive",
                      "values": [
                        "AWD",
                        "AWD",
                        "AWD",
                        "AWD",
                        "Front",
                        "AWD",
                        "AWD",
                        "Front",
                        "AWD",
                        "Front",
                        "AWD",
                        "AWD",
                        "AWD",
                        "AWD",
                        "Rear",
                        "Rear",
                        "Rear",
                        "Front",
                        "AWD",
                        "Rear",
                        "Rear",
                        "AWD",
                        "Front",
                        "AWD"
                      ]
                    }
                  ],
                  "hovertemplate": "Make=Mercedes<br>%{xaxis.title.text}=%{x}<br>%{yaxis.title.text}=%{y}<extra></extra>",
                  "legendgroup": "Mercedes",
                  "marker": {
                    "color": "#EF553B",
                    "symbol": "circle"
                  },
                  "name": "Mercedes",
                  "showlegend": true,
                  "type": "splom"
                },
                {
                  "dimensions": [
                    {
                      "axis": {
                        "matches": true
                      },
                      "label": "Electric Range",
                      "values": [
                        415,
                        400,
                        405,
                        425,
                        430,
                        450,
                        395,
                        380,
                        425,
                        410,
                        385,
                        395,
                        445,
                        460,
                        425,
                        370,
                        475,
                        400
                      ]
                    },
                    {
                      "axis": {
                        "matches": true
                      },
                      "label": "Drive",
                      "values": [
                        "AWD",
                        "AWD",
                        "AWD",
                        "AWD",
                        "AWD",
                        "AWD",
                        "AWD",
                        "Rear",
                        "AWD",
                        "Rear",
                        "AWD",
                        "AWD",
                        "Rear",
                        "AWD",
                        "AWD",
                        "AWD",
                        "Rear",
                        "AWD"
                      ]
                    }
                  ],
                  "hovertemplate": "Make=Porsche<br>%{xaxis.title.text}=%{x}<br>%{yaxis.title.text}=%{y}<extra></extra>",
                  "legendgroup": "Porsche",
                  "marker": {
                    "color": "#00cc96",
                    "symbol": "circle"
                  },
                  "name": "Porsche",
                  "showlegend": true,
                  "type": "splom"
                },
                {
                  "dimensions": [
                    {
                      "axis": {
                        "matches": true
                      },
                      "label": "Electric Range",
                      "values": [
                        470,
                        385,
                        355,
                        485,
                        505,
                        360,
                        510,
                        435
                      ]
                    },
                    {
                      "axis": {
                        "matches": true
                      },
                      "label": "Drive",
                      "values": [
                        "Rear",
                        "Rear",
                        "AWD",
                        "AWD",
                        "AWD",
                        "AWD",
                        "AWD",
                        "AWD"
                      ]
                    }
                  ],
                  "hovertemplate": "Make=BMW<br>%{xaxis.title.text}=%{x}<br>%{yaxis.title.text}=%{y}<extra></extra>",
                  "legendgroup": "BMW",
                  "marker": {
                    "color": "#ab63fa",
                    "symbol": "circle"
                  },
                  "name": "BMW",
                  "showlegend": true,
                  "type": "splom"
                },
                {
                  "dimensions": [
                    {
                      "axis": {
                        "matches": true
                      },
                      "label": "Electric Range",
                      "values": [
                        450,
                        285,
                        410,
                        285,
                        330,
                        430,
                        410,
                        405,
                        405,
                        350,
                        400,
                        430,
                        450
                      ]
                    },
                    {
                      "axis": {
                        "matches": true
                      },
                      "label": "Drive",
                      "values": [
                        "Rear",
                        "Rear",
                        "Rear",
                        "Rear",
                        "Rear",
                        "Rear",
                        "Rear",
                        "AWD",
                        "AWD",
                        "Rear",
                        "AWD",
                        "Rear",
                        "Rear"
                      ]
                    }
                  ],
                  "hovertemplate": "Make=Volkswagen<br>%{xaxis.title.text}=%{x}<br>%{yaxis.title.text}=%{y}<extra></extra>",
                  "legendgroup": "Volkswagen",
                  "marker": {
                    "color": "#FFA15A",
                    "symbol": "circle"
                  },
                  "name": "Volkswagen",
                  "showlegend": true,
                  "type": "splom"
                },
                {
                  "dimensions": [
                    {
                      "axis": {
                        "matches": true
                      },
                      "label": "Electric Range",
                      "values": [
                        275,
                        350,
                        450,
                        345
                      ]
                    },
                    {
                      "axis": {
                        "matches": true
                      },
                      "label": "Drive",
                      "values": [
                        "Rear",
                        "Rear",
                        "Rear",
                        "Rear"
                      ]
                    }
                  ],
                  "hovertemplate": "Make=CUPRA<br>%{xaxis.title.text}=%{x}<br>%{yaxis.title.text}=%{y}<extra></extra>",
                  "legendgroup": "CUPRA",
                  "marker": {
                    "color": "#19d3f3",
                    "symbol": "circle"
                  },
                  "name": "CUPRA",
                  "showlegend": true,
                  "type": "splom"
                },
                {
                  "dimensions": [
                    {
                      "axis": {
                        "matches": true
                      },
                      "label": "Electric Range",
                      "values": [
                        330,
                        400,
                        420,
                        335,
                        445
                      ]
                    },
                    {
                      "axis": {
                        "matches": true
                      },
                      "label": "Drive",
                      "values": [
                        "Rear",
                        "AWD",
                        "Rear",
                        "Rear",
                        "Rear"
                      ]
                    }
                  ],
                  "hovertemplate": "Make=Skoda<br>%{xaxis.title.text}=%{x}<br>%{yaxis.title.text}=%{y}<extra></extra>",
                  "legendgroup": "Skoda",
                  "marker": {
                    "color": "#FF6692",
                    "symbol": "circle"
                  },
                  "name": "Skoda",
                  "showlegend": true,
                  "type": "splom"
                },
                {
                  "dimensions": [
                    {
                      "axis": {
                        "matches": true
                      },
                      "label": "Electric Range",
                      "values": [
                        330,
                        335,
                        260,
                        365,
                        325,
                        365,
                        300,
                        270
                      ]
                    },
                    {
                      "axis": {
                        "matches": true
                      },
                      "label": "Drive",
                      "values": [
                        "AWD",
                        "Rear",
                        "Front",
                        "Rear",
                        "Front",
                        "Front",
                        "Rear",
                        "Front"
                      ]
                    }
                  ],
                  "hovertemplate": "Make=MG<br>%{xaxis.title.text}=%{x}<br>%{yaxis.title.text}=%{y}<extra></extra>",
                  "legendgroup": "MG",
                  "marker": {
                    "color": "#B6E880",
                    "symbol": "circle"
                  },
                  "name": "MG",
                  "showlegend": true,
                  "type": "splom"
                },
                {
                  "dimensions": [
                    {
                      "axis": {
                        "matches": true
                      },
                      "label": "Electric Range",
                      "values": [
                        350,
                        340,
                        335,
                        330
                      ]
                    },
                    {
                      "axis": {
                        "matches": true
                      },
                      "label": "Drive",
                      "values": [
                        "AWD",
                        "AWD",
                        "Front",
                        "Front"
                      ]
                    }
                  ],
                  "hovertemplate": "Make=Volvo<br>%{xaxis.title.text}=%{x}<br>%{yaxis.title.text}=%{y}<extra></extra>",
                  "legendgroup": "Volvo",
                  "marker": {
                    "color": "#FF97FF",
                    "symbol": "circle"
                  },
                  "name": "Volvo",
                  "showlegend": true,
                  "type": "splom"
                },
                {
                  "dimensions": [
                    {
                      "axis": {
                        "matches": true
                      },
                      "label": "Electric Range",
                      "values": [
                        135,
                        180,
                        235,
                        175,
                        235,
                        230,
                        260,
                        265
                      ]
                    },
                    {
                      "axis": {
                        "matches": true
                      },
                      "label": "Drive",
                      "values": [
                        "Front",
                        "Front",
                        "Front",
                        "Front",
                        "Front",
                        "Front",
                        "Front",
                        "Front"
                      ]
                    }
                  ],
                  "hovertemplate": "Make=Fiat<br>%{xaxis.title.text}=%{x}<br>%{yaxis.title.text}=%{y}<extra></extra>",
                  "legendgroup": "Fiat",
                  "marker": {
                    "color": "#FECB52",
                    "symbol": "circle"
                  },
                  "name": "Fiat",
                  "showlegend": true,
                  "type": "splom"
                },
                {
                  "dimensions": [
                    {
                      "axis": {
                        "matches": true
                      },
                      "label": "Electric Range",
                      "values": [
                        350,
                        335
                      ]
                    },
                    {
                      "axis": {
                        "matches": true
                      },
                      "label": "Drive",
                      "values": [
                        "Rear",
                        "AWD"
                      ]
                    }
                  ],
                  "hovertemplate": "Make=Smart<br>%{xaxis.title.text}=%{x}<br>%{yaxis.title.text}=%{y}<extra></extra>",
                  "legendgroup": "Smart",
                  "marker": {
                    "color": "#636efa",
                    "symbol": "circle"
                  },
                  "name": "Smart",
                  "showlegend": true,
                  "type": "splom"
                },
                {
                  "dimensions": [
                    {
                      "axis": {
                        "matches": true
                      },
                      "label": "Electric Range",
                      "values": [
                        390,
                        395,
                        295,
                        250,
                        385
                      ]
                    },
                    {
                      "axis": {
                        "matches": true
                      },
                      "label": "Drive",
                      "values": [
                        "Rear",
                        "Front",
                        "Rear",
                        "Front",
                        "AWD"
                      ]
                    }
                  ],
                  "hovertemplate": "Make=Hyundai<br>%{xaxis.title.text}=%{x}<br>%{yaxis.title.text}=%{y}<extra></extra>",
                  "legendgroup": "Hyundai",
                  "marker": {
                    "color": "#EF553B",
                    "symbol": "circle"
                  },
                  "name": "Hyundai",
                  "showlegend": true,
                  "type": "splom"
                },
                {
                  "dimensions": [
                    {
                      "axis": {
                        "matches": true
                      },
                      "label": "Electric Range",
                      "values": [
                        200,
                        255,
                        180,
                        180,
                        260,
                        175,
                        285,
                        195,
                        175,
                        265,
                        260,
                        265
                      ]
                    },
                    {
                      "axis": {
                        "matches": true
                      },
                      "label": "Drive",
                      "values": [
                        "Front",
                        "Front",
                        "Front",
                        "Front",
                        "Front",
                        "Front",
                        "Front",
                        "Front",
                        "Front",
                        "Front",
                        "Front",
                        "Front"
                      ]
                    }
                  ],
                  "hovertemplate": "Make=Peugeot<br>%{xaxis.title.text}=%{x}<br>%{yaxis.title.text}=%{y}<extra></extra>",
                  "legendgroup": "Peugeot",
                  "marker": {
                    "color": "#00cc96",
                    "symbol": "circle"
                  },
                  "name": "Peugeot",
                  "showlegend": true,
                  "type": "splom"
                },
                {
                  "dimensions": [
                    {
                      "axis": {
                        "matches": true
                      },
                      "label": "Electric Range",
                      "values": [
                        200,
                        180,
                        175,
                        265,
                        175,
                        260,
                        260,
                        180,
                        265,
                        265,
                        195
                      ]
                    },
                    {
                      "axis": {
                        "matches": true
                      },
                      "label": "Drive",
                      "values": [
                        "Front",
                        "Front",
                        "Front",
                        "Front",
                        "Front",
                        "Front",
                        "Front",
                        "Front",
                        "Front",
                        "Front",
                        "Front"
                      ]
                    }
                  ],
                  "hovertemplate": "Make=Citroen<br>%{xaxis.title.text}=%{x}<br>%{yaxis.title.text}=%{y}<extra></extra>",
                  "legendgroup": "Citroen",
                  "marker": {
                    "color": "#ab63fa",
                    "symbol": "circle"
                  },
                  "name": "Citroen",
                  "showlegend": true,
                  "type": "splom"
                },
                {
                  "dimensions": [
                    {
                      "axis": {
                        "matches": true
                      },
                      "label": "Electric Range",
                      "values": [
                        405,
                        295,
                        330,
                        385,
                        320,
                        285,
                        280,
                        405,
                        365,
                        400,
                        420,
                        385,
                        295,
                        380,
                        425,
                        400
                      ]
                    },
                    {
                      "axis": {
                        "matches": true
                      },
                      "label": "Drive",
                      "values": [
                        "Rear",
                        "Rear",
                        "AWD",
                        "AWD",
                        "AWD",
                        "Rear",
                        "AWD",
                        "AWD",
                        "AWD",
                        "AWD",
                        "AWD",
                        "AWD",
                        "AWD",
                        "AWD",
                        "Rear",
                        "AWD"
                      ]
                    }
                  ],
                  "hovertemplate": "Make=Audi<br>%{xaxis.title.text}=%{x}<br>%{yaxis.title.text}=%{y}<extra></extra>",
                  "legendgroup": "Audi",
                  "marker": {
                    "color": "#FFA15A",
                    "symbol": "circle"
                  },
                  "name": "Audi",
                  "showlegend": true,
                  "type": "splom"
                },
                {
                  "dimensions": [
                    {
                      "axis": {
                        "matches": true
                      },
                      "label": "Electric Range",
                      "values": [
                        395,
                        425
                      ]
                    },
                    {
                      "axis": {
                        "matches": true
                      },
                      "label": "Drive",
                      "values": [
                        "AWD",
                        "Front"
                      ]
                    }
                  ],
                  "hovertemplate": "Make=Polestar<br>%{xaxis.title.text}=%{x}<br>%{yaxis.title.text}=%{y}<extra></extra>",
                  "legendgroup": "Polestar",
                  "marker": {
                    "color": "#19d3f3",
                    "symbol": "circle"
                  },
                  "name": "Polestar",
                  "showlegend": true,
                  "type": "splom"
                },
                {
                  "dimensions": [
                    {
                      "axis": {
                        "matches": true
                      },
                      "label": "Electric Range",
                      "values": [
                        370,
                        175,
                        265,
                        260,
                        260,
                        175,
                        260,
                        375
                      ]
                    },
                    {
                      "axis": {
                        "matches": true
                      },
                      "label": "Drive",
                      "values": [
                        "AWD",
                        "Front",
                        "Front",
                        "Front",
                        "Front",
                        "Front",
                        "Front",
                        "Front"
                      ]
                    }
                  ],
                  "hovertemplate": "Make=Toyota<br>%{xaxis.title.text}=%{x}<br>%{yaxis.title.text}=%{y}<extra></extra>",
                  "legendgroup": "Toyota",
                  "marker": {
                    "color": "#FF6692",
                    "symbol": "circle"
                  },
                  "name": "Toyota",
                  "showlegend": true,
                  "type": "splom"
                },
                {
                  "dimensions": [
                    {
                      "axis": {
                        "matches": true
                      },
                      "label": "Electric Range",
                      "values": [
                        380,
                        370,
                        400,
                        410,
                        230,
                        305
                      ]
                    },
                    {
                      "axis": {
                        "matches": true
                      },
                      "label": "Drive",
                      "values": [
                        "Front",
                        "AWD",
                        "AWD",
                        "Rear",
                        "Front",
                        "Rear"
                      ]
                    }
                  ],
                  "hovertemplate": "Make=Kia<br>%{xaxis.title.text}=%{x}<br>%{yaxis.title.text}=%{y}<extra></extra>",
                  "legendgroup": "Kia",
                  "marker": {
                    "color": "#B6E880",
                    "symbol": "circle"
                  },
                  "name": "Kia",
                  "showlegend": true,
                  "type": "splom"
                },
                {
                  "dimensions": [
                    {
                      "axis": {
                        "matches": true
                      },
                      "label": "Electric Range",
                      "values": [
                        260
                      ]
                    },
                    {
                      "axis": {
                        "matches": true
                      },
                      "label": "Drive",
                      "values": [
                        "Front"
                      ]
                    }
                  ],
                  "hovertemplate": "Make=DS<br>%{xaxis.title.text}=%{x}<br>%{yaxis.title.text}=%{y}<extra></extra>",
                  "legendgroup": "DS",
                  "marker": {
                    "color": "#FF97FF",
                    "symbol": "circle"
                  },
                  "name": "DS",
                  "showlegend": true,
                  "type": "splom"
                },
                {
                  "dimensions": [
                    {
                      "axis": {
                        "matches": true
                      },
                      "label": "Electric Range",
                      "values": [
                        425,
                        455,
                        435,
                        440,
                        425,
                        355,
                        345
                      ]
                    },
                    {
                      "axis": {
                        "matches": true
                      },
                      "label": "Drive",
                      "values": [
                        "AWD",
                        "Rear",
                        "AWD",
                        "AWD",
                        "AWD",
                        "Rear",
                        "AWD"
                      ]
                    }
                  ],
                  "hovertemplate": "Make=Ford<br>%{xaxis.title.text}=%{x}<br>%{yaxis.title.text}=%{y}<extra></extra>",
                  "legendgroup": "Ford",
                  "marker": {
                    "color": "#FECB52",
                    "symbol": "circle"
                  },
                  "name": "Ford",
                  "showlegend": true,
                  "type": "splom"
                },
                {
                  "dimensions": [
                    {
                      "axis": {
                        "matches": true
                      },
                      "label": "Electric Range",
                      "values": [
                        170,
                        170
                      ]
                    },
                    {
                      "axis": {
                        "matches": true
                      },
                      "label": "Drive",
                      "values": [
                        "Rear",
                        "Rear"
                      ]
                    }
                  ],
                  "hovertemplate": "Make=Honda<br>%{xaxis.title.text}=%{x}<br>%{yaxis.title.text}=%{y}<extra></extra>",
                  "legendgroup": "Honda",
                  "marker": {
                    "color": "#636efa",
                    "symbol": "circle"
                  },
                  "name": "Honda",
                  "showlegend": true,
                  "type": "splom"
                },
                {
                  "dimensions": [
                    {
                      "axis": {
                        "matches": true
                      },
                      "label": "Electric Range",
                      "values": [
                        225
                      ]
                    },
                    {
                      "axis": {
                        "matches": true
                      },
                      "label": "Drive",
                      "values": [
                        "Front"
                      ]
                    }
                  ],
                  "hovertemplate": "Make=JAC<br>%{xaxis.title.text}=%{x}<br>%{yaxis.title.text}=%{y}<extra></extra>",
                  "legendgroup": "JAC",
                  "marker": {
                    "color": "#EF553B",
                    "symbol": "circle"
                  },
                  "name": "JAC",
                  "showlegend": true,
                  "type": "splom"
                },
                {
                  "dimensions": [
                    {
                      "axis": {
                        "matches": true
                      },
                      "label": "Electric Range",
                      "values": [
                        340
                      ]
                    },
                    {
                      "axis": {
                        "matches": true
                      },
                      "label": "Drive",
                      "values": [
                        "Front"
                      ]
                    }
                  ],
                  "hovertemplate": "Make=Nissan<br>%{xaxis.title.text}=%{x}<br>%{yaxis.title.text}=%{y}<extra></extra>",
                  "legendgroup": "Nissan",
                  "marker": {
                    "color": "#00cc96",
                    "symbol": "circle"
                  },
                  "name": "Nissan",
                  "showlegend": true,
                  "type": "splom"
                },
                {
                  "dimensions": [
                    {
                      "axis": {
                        "matches": true
                      },
                      "label": "Electric Range",
                      "values": [
                        365,
                        250,
                        315,
                        360,
                        310
                      ]
                    },
                    {
                      "axis": {
                        "matches": true
                      },
                      "label": "Drive",
                      "values": [
                        "Front",
                        "Front",
                        "Front",
                        "Front",
                        "Front"
                      ]
                    }
                  ],
                  "hovertemplate": "Make=Renault<br>%{xaxis.title.text}=%{x}<br>%{yaxis.title.text}=%{y}<extra></extra>",
                  "legendgroup": "Renault",
                  "marker": {
                    "color": "#ab63fa",
                    "symbol": "circle"
                  },
                  "name": "Renault",
                  "showlegend": true,
                  "type": "splom"
                },
                {
                  "dimensions": [
                    {
                      "axis": {
                        "matches": true
                      },
                      "label": "Electric Range",
                      "values": [
                        265,
                        175,
                        255,
                        180,
                        285,
                        260
                      ]
                    },
                    {
                      "axis": {
                        "matches": true
                      },
                      "label": "Drive",
                      "values": [
                        "Front",
                        "Front",
                        "Front",
                        "Front",
                        "Front",
                        "Front"
                      ]
                    }
                  ],
                  "hovertemplate": "Make=Opel<br>%{xaxis.title.text}=%{x}<br>%{yaxis.title.text}=%{y}<extra></extra>",
                  "legendgroup": "Opel",
                  "marker": {
                    "color": "#FFA15A",
                    "symbol": "circle"
                  },
                  "name": "Opel",
                  "showlegend": true,
                  "type": "splom"
                },
                {
                  "dimensions": [
                    {
                      "axis": {
                        "matches": true
                      },
                      "label": "Electric Range",
                      "values": [
                        355,
                        305
                      ]
                    },
                    {
                      "axis": {
                        "matches": true
                      },
                      "label": "Drive",
                      "values": [
                        "AWD",
                        "AWD"
                      ]
                    }
                  ],
                  "hovertemplate": "Make=Hongqi<br>%{xaxis.title.text}=%{x}<br>%{yaxis.title.text}=%{y}<extra></extra>",
                  "legendgroup": "Hongqi",
                  "marker": {
                    "color": "#19d3f3",
                    "symbol": "circle"
                  },
                  "name": "Hongqi",
                  "showlegend": true,
                  "type": "splom"
                },
                {
                  "dimensions": [
                    {
                      "axis": {
                        "matches": true
                      },
                      "label": "Electric Range",
                      "values": [
                        235
                      ]
                    },
                    {
                      "axis": {
                        "matches": true
                      },
                      "label": "Drive",
                      "values": [
                        "Front"
                      ]
                    }
                  ],
                  "hovertemplate": "Make=Lexus<br>%{xaxis.title.text}=%{x}<br>%{yaxis.title.text}=%{y}<extra></extra>",
                  "legendgroup": "Lexus",
                  "marker": {
                    "color": "#FF6692",
                    "symbol": "circle"
                  },
                  "name": "Lexus",
                  "showlegend": true,
                  "type": "splom"
                },
                {
                  "dimensions": [
                    {
                      "axis": {
                        "matches": true
                      },
                      "label": "Electric Range",
                      "values": [
                        155
                      ]
                    },
                    {
                      "axis": {
                        "matches": true
                      },
                      "label": "Drive",
                      "values": [
                        "Front"
                      ]
                    }
                  ],
                  "hovertemplate": "Make=Dacia<br>%{xaxis.title.text}=%{x}<br>%{yaxis.title.text}=%{y}<extra></extra>",
                  "legendgroup": "Dacia",
                  "marker": {
                    "color": "#B6E880",
                    "symbol": "circle"
                  },
                  "name": "Dacia",
                  "showlegend": true,
                  "type": "splom"
                },
                {
                  "dimensions": [
                    {
                      "axis": {
                        "matches": true
                      },
                      "label": "Electric Range",
                      "values": [
                        170
                      ]
                    },
                    {
                      "axis": {
                        "matches": true
                      },
                      "label": "Drive",
                      "values": [
                        "Front"
                      ]
                    }
                  ],
                  "hovertemplate": "Make=Mazda<br>%{xaxis.title.text}=%{x}<br>%{yaxis.title.text}=%{y}<extra></extra>",
                  "legendgroup": "Mazda",
                  "marker": {
                    "color": "#FF97FF",
                    "symbol": "circle"
                  },
                  "name": "Mazda",
                  "showlegend": true,
                  "type": "splom"
                },
                {
                  "dimensions": [
                    {
                      "axis": {
                        "matches": true
                      },
                      "label": "Electric Range",
                      "values": [
                        270
                      ]
                    },
                    {
                      "axis": {
                        "matches": true
                      },
                      "label": "Drive",
                      "values": [
                        "Front"
                      ]
                    }
                  ],
                  "hovertemplate": "Make=Seres<br>%{xaxis.title.text}=%{x}<br>%{yaxis.title.text}=%{y}<extra></extra>",
                  "legendgroup": "Seres",
                  "marker": {
                    "color": "#FECB52",
                    "symbol": "circle"
                  },
                  "name": "Seres",
                  "showlegend": true,
                  "type": "splom"
                },
                {
                  "dimensions": [
                    {
                      "axis": {
                        "matches": true
                      },
                      "label": "Electric Range",
                      "values": [
                        485,
                        435,
                        415,
                        460
                      ]
                    },
                    {
                      "axis": {
                        "matches": true
                      },
                      "label": "Drive",
                      "values": [
                        "AWD",
                        "AWD",
                        "AWD",
                        "AWD"
                      ]
                    }
                  ],
                  "hovertemplate": "Make=Tesla<br>%{xaxis.title.text}=%{x}<br>%{yaxis.title.text}=%{y}<extra></extra>",
                  "legendgroup": "Tesla",
                  "marker": {
                    "color": "#636efa",
                    "symbol": "circle"
                  },
                  "name": "Tesla",
                  "showlegend": true,
                  "type": "splom"
                },
                {
                  "dimensions": [
                    {
                      "axis": {
                        "matches": true
                      },
                      "label": "Electric Range",
                      "values": [
                        380
                      ]
                    },
                    {
                      "axis": {
                        "matches": true
                      },
                      "label": "Drive",
                      "values": [
                        "AWD"
                      ]
                    }
                  ],
                  "hovertemplate": "Make=Jaguar<br>%{xaxis.title.text}=%{x}<br>%{yaxis.title.text}=%{y}<extra></extra>",
                  "legendgroup": "Jaguar",
                  "marker": {
                    "color": "#EF553B",
                    "symbol": "circle"
                  },
                  "name": "Jaguar",
                  "showlegend": true,
                  "type": "splom"
                },
                {
                  "dimensions": [
                    {
                      "axis": {
                        "matches": true
                      },
                      "label": "Electric Range",
                      "values": [
                        180
                      ]
                    },
                    {
                      "axis": {
                        "matches": true
                      },
                      "label": "Drive",
                      "values": [
                        "Front"
                      ]
                    }
                  ],
                  "hovertemplate": "Make=Mini<br>%{xaxis.title.text}=%{x}<br>%{yaxis.title.text}=%{y}<extra></extra>",
                  "legendgroup": "Mini",
                  "marker": {
                    "color": "#00cc96",
                    "symbol": "circle"
                  },
                  "name": "Mini",
                  "showlegend": true,
                  "type": "splom"
                },
                {
                  "dimensions": [
                    {
                      "axis": {
                        "matches": true
                      },
                      "label": "Electric Range",
                      "values": [
                        355
                      ]
                    },
                    {
                      "axis": {
                        "matches": true
                      },
                      "label": "Drive",
                      "values": [
                        "AWD"
                      ]
                    }
                  ],
                  "hovertemplate": "Make=Subaru<br>%{xaxis.title.text}=%{x}<br>%{yaxis.title.text}=%{y}<extra></extra>",
                  "legendgroup": "Subaru",
                  "marker": {
                    "color": "#ab63fa",
                    "symbol": "circle"
                  },
                  "name": "Subaru",
                  "showlegend": true,
                  "type": "splom"
                }
              ],
              "layout": {
                "dragmode": "select",
                "legend": {
                  "title": {
                    "text": "Make"
                  },
                  "tracegroupgap": 0
                },
                "margin": {
                  "t": 60
                },
                "template": {
                  "data": {
                    "bar": [
                      {
                        "error_x": {
                          "color": "#2a3f5f"
                        },
                        "error_y": {
                          "color": "#2a3f5f"
                        },
                        "marker": {
                          "line": {
                            "color": "#E5ECF6",
                            "width": 0.5
                          },
                          "pattern": {
                            "fillmode": "overlay",
                            "size": 10,
                            "solidity": 0.2
                          }
                        },
                        "type": "bar"
                      }
                    ],
                    "barpolar": [
                      {
                        "marker": {
                          "line": {
                            "color": "#E5ECF6",
                            "width": 0.5
                          },
                          "pattern": {
                            "fillmode": "overlay",
                            "size": 10,
                            "solidity": 0.2
                          }
                        },
                        "type": "barpolar"
                      }
                    ],
                    "carpet": [
                      {
                        "aaxis": {
                          "endlinecolor": "#2a3f5f",
                          "gridcolor": "white",
                          "linecolor": "white",
                          "minorgridcolor": "white",
                          "startlinecolor": "#2a3f5f"
                        },
                        "baxis": {
                          "endlinecolor": "#2a3f5f",
                          "gridcolor": "white",
                          "linecolor": "white",
                          "minorgridcolor": "white",
                          "startlinecolor": "#2a3f5f"
                        },
                        "type": "carpet"
                      }
                    ],
                    "choropleth": [
                      {
                        "colorbar": {
                          "outlinewidth": 0,
                          "ticks": ""
                        },
                        "type": "choropleth"
                      }
                    ],
                    "contour": [
                      {
                        "colorbar": {
                          "outlinewidth": 0,
                          "ticks": ""
                        },
                        "colorscale": [
                          [
                            0,
                            "#0d0887"
                          ],
                          [
                            0.1111111111111111,
                            "#46039f"
                          ],
                          [
                            0.2222222222222222,
                            "#7201a8"
                          ],
                          [
                            0.3333333333333333,
                            "#9c179e"
                          ],
                          [
                            0.4444444444444444,
                            "#bd3786"
                          ],
                          [
                            0.5555555555555556,
                            "#d8576b"
                          ],
                          [
                            0.6666666666666666,
                            "#ed7953"
                          ],
                          [
                            0.7777777777777778,
                            "#fb9f3a"
                          ],
                          [
                            0.8888888888888888,
                            "#fdca26"
                          ],
                          [
                            1,
                            "#f0f921"
                          ]
                        ],
                        "type": "contour"
                      }
                    ],
                    "contourcarpet": [
                      {
                        "colorbar": {
                          "outlinewidth": 0,
                          "ticks": ""
                        },
                        "type": "contourcarpet"
                      }
                    ],
                    "heatmap": [
                      {
                        "colorbar": {
                          "outlinewidth": 0,
                          "ticks": ""
                        },
                        "colorscale": [
                          [
                            0,
                            "#0d0887"
                          ],
                          [
                            0.1111111111111111,
                            "#46039f"
                          ],
                          [
                            0.2222222222222222,
                            "#7201a8"
                          ],
                          [
                            0.3333333333333333,
                            "#9c179e"
                          ],
                          [
                            0.4444444444444444,
                            "#bd3786"
                          ],
                          [
                            0.5555555555555556,
                            "#d8576b"
                          ],
                          [
                            0.6666666666666666,
                            "#ed7953"
                          ],
                          [
                            0.7777777777777778,
                            "#fb9f3a"
                          ],
                          [
                            0.8888888888888888,
                            "#fdca26"
                          ],
                          [
                            1,
                            "#f0f921"
                          ]
                        ],
                        "type": "heatmap"
                      }
                    ],
                    "heatmapgl": [
                      {
                        "colorbar": {
                          "outlinewidth": 0,
                          "ticks": ""
                        },
                        "colorscale": [
                          [
                            0,
                            "#0d0887"
                          ],
                          [
                            0.1111111111111111,
                            "#46039f"
                          ],
                          [
                            0.2222222222222222,
                            "#7201a8"
                          ],
                          [
                            0.3333333333333333,
                            "#9c179e"
                          ],
                          [
                            0.4444444444444444,
                            "#bd3786"
                          ],
                          [
                            0.5555555555555556,
                            "#d8576b"
                          ],
                          [
                            0.6666666666666666,
                            "#ed7953"
                          ],
                          [
                            0.7777777777777778,
                            "#fb9f3a"
                          ],
                          [
                            0.8888888888888888,
                            "#fdca26"
                          ],
                          [
                            1,
                            "#f0f921"
                          ]
                        ],
                        "type": "heatmapgl"
                      }
                    ],
                    "histogram": [
                      {
                        "marker": {
                          "pattern": {
                            "fillmode": "overlay",
                            "size": 10,
                            "solidity": 0.2
                          }
                        },
                        "type": "histogram"
                      }
                    ],
                    "histogram2d": [
                      {
                        "colorbar": {
                          "outlinewidth": 0,
                          "ticks": ""
                        },
                        "colorscale": [
                          [
                            0,
                            "#0d0887"
                          ],
                          [
                            0.1111111111111111,
                            "#46039f"
                          ],
                          [
                            0.2222222222222222,
                            "#7201a8"
                          ],
                          [
                            0.3333333333333333,
                            "#9c179e"
                          ],
                          [
                            0.4444444444444444,
                            "#bd3786"
                          ],
                          [
                            0.5555555555555556,
                            "#d8576b"
                          ],
                          [
                            0.6666666666666666,
                            "#ed7953"
                          ],
                          [
                            0.7777777777777778,
                            "#fb9f3a"
                          ],
                          [
                            0.8888888888888888,
                            "#fdca26"
                          ],
                          [
                            1,
                            "#f0f921"
                          ]
                        ],
                        "type": "histogram2d"
                      }
                    ],
                    "histogram2dcontour": [
                      {
                        "colorbar": {
                          "outlinewidth": 0,
                          "ticks": ""
                        },
                        "colorscale": [
                          [
                            0,
                            "#0d0887"
                          ],
                          [
                            0.1111111111111111,
                            "#46039f"
                          ],
                          [
                            0.2222222222222222,
                            "#7201a8"
                          ],
                          [
                            0.3333333333333333,
                            "#9c179e"
                          ],
                          [
                            0.4444444444444444,
                            "#bd3786"
                          ],
                          [
                            0.5555555555555556,
                            "#d8576b"
                          ],
                          [
                            0.6666666666666666,
                            "#ed7953"
                          ],
                          [
                            0.7777777777777778,
                            "#fb9f3a"
                          ],
                          [
                            0.8888888888888888,
                            "#fdca26"
                          ],
                          [
                            1,
                            "#f0f921"
                          ]
                        ],
                        "type": "histogram2dcontour"
                      }
                    ],
                    "mesh3d": [
                      {
                        "colorbar": {
                          "outlinewidth": 0,
                          "ticks": ""
                        },
                        "type": "mesh3d"
                      }
                    ],
                    "parcoords": [
                      {
                        "line": {
                          "colorbar": {
                            "outlinewidth": 0,
                            "ticks": ""
                          }
                        },
                        "type": "parcoords"
                      }
                    ],
                    "pie": [
                      {
                        "automargin": true,
                        "type": "pie"
                      }
                    ],
                    "scatter": [
                      {
                        "fillpattern": {
                          "fillmode": "overlay",
                          "size": 10,
                          "solidity": 0.2
                        },
                        "type": "scatter"
                      }
                    ],
                    "scatter3d": [
                      {
                        "line": {
                          "colorbar": {
                            "outlinewidth": 0,
                            "ticks": ""
                          }
                        },
                        "marker": {
                          "colorbar": {
                            "outlinewidth": 0,
                            "ticks": ""
                          }
                        },
                        "type": "scatter3d"
                      }
                    ],
                    "scattercarpet": [
                      {
                        "marker": {
                          "colorbar": {
                            "outlinewidth": 0,
                            "ticks": ""
                          }
                        },
                        "type": "scattercarpet"
                      }
                    ],
                    "scattergeo": [
                      {
                        "marker": {
                          "colorbar": {
                            "outlinewidth": 0,
                            "ticks": ""
                          }
                        },
                        "type": "scattergeo"
                      }
                    ],
                    "scattergl": [
                      {
                        "marker": {
                          "colorbar": {
                            "outlinewidth": 0,
                            "ticks": ""
                          }
                        },
                        "type": "scattergl"
                      }
                    ],
                    "scattermapbox": [
                      {
                        "marker": {
                          "colorbar": {
                            "outlinewidth": 0,
                            "ticks": ""
                          }
                        },
                        "type": "scattermapbox"
                      }
                    ],
                    "scatterpolar": [
                      {
                        "marker": {
                          "colorbar": {
                            "outlinewidth": 0,
                            "ticks": ""
                          }
                        },
                        "type": "scatterpolar"
                      }
                    ],
                    "scatterpolargl": [
                      {
                        "marker": {
                          "colorbar": {
                            "outlinewidth": 0,
                            "ticks": ""
                          }
                        },
                        "type": "scatterpolargl"
                      }
                    ],
                    "scatterternary": [
                      {
                        "marker": {
                          "colorbar": {
                            "outlinewidth": 0,
                            "ticks": ""
                          }
                        },
                        "type": "scatterternary"
                      }
                    ],
                    "surface": [
                      {
                        "colorbar": {
                          "outlinewidth": 0,
                          "ticks": ""
                        },
                        "colorscale": [
                          [
                            0,
                            "#0d0887"
                          ],
                          [
                            0.1111111111111111,
                            "#46039f"
                          ],
                          [
                            0.2222222222222222,
                            "#7201a8"
                          ],
                          [
                            0.3333333333333333,
                            "#9c179e"
                          ],
                          [
                            0.4444444444444444,
                            "#bd3786"
                          ],
                          [
                            0.5555555555555556,
                            "#d8576b"
                          ],
                          [
                            0.6666666666666666,
                            "#ed7953"
                          ],
                          [
                            0.7777777777777778,
                            "#fb9f3a"
                          ],
                          [
                            0.8888888888888888,
                            "#fdca26"
                          ],
                          [
                            1,
                            "#f0f921"
                          ]
                        ],
                        "type": "surface"
                      }
                    ],
                    "table": [
                      {
                        "cells": {
                          "fill": {
                            "color": "#EBF0F8"
                          },
                          "line": {
                            "color": "white"
                          }
                        },
                        "header": {
                          "fill": {
                            "color": "#C8D4E3"
                          },
                          "line": {
                            "color": "white"
                          }
                        },
                        "type": "table"
                      }
                    ]
                  },
                  "layout": {
                    "annotationdefaults": {
                      "arrowcolor": "#2a3f5f",
                      "arrowhead": 0,
                      "arrowwidth": 1
                    },
                    "autotypenumbers": "strict",
                    "coloraxis": {
                      "colorbar": {
                        "outlinewidth": 0,
                        "ticks": ""
                      }
                    },
                    "colorscale": {
                      "diverging": [
                        [
                          0,
                          "#8e0152"
                        ],
                        [
                          0.1,
                          "#c51b7d"
                        ],
                        [
                          0.2,
                          "#de77ae"
                        ],
                        [
                          0.3,
                          "#f1b6da"
                        ],
                        [
                          0.4,
                          "#fde0ef"
                        ],
                        [
                          0.5,
                          "#f7f7f7"
                        ],
                        [
                          0.6,
                          "#e6f5d0"
                        ],
                        [
                          0.7,
                          "#b8e186"
                        ],
                        [
                          0.8,
                          "#7fbc41"
                        ],
                        [
                          0.9,
                          "#4d9221"
                        ],
                        [
                          1,
                          "#276419"
                        ]
                      ],
                      "sequential": [
                        [
                          0,
                          "#0d0887"
                        ],
                        [
                          0.1111111111111111,
                          "#46039f"
                        ],
                        [
                          0.2222222222222222,
                          "#7201a8"
                        ],
                        [
                          0.3333333333333333,
                          "#9c179e"
                        ],
                        [
                          0.4444444444444444,
                          "#bd3786"
                        ],
                        [
                          0.5555555555555556,
                          "#d8576b"
                        ],
                        [
                          0.6666666666666666,
                          "#ed7953"
                        ],
                        [
                          0.7777777777777778,
                          "#fb9f3a"
                        ],
                        [
                          0.8888888888888888,
                          "#fdca26"
                        ],
                        [
                          1,
                          "#f0f921"
                        ]
                      ],
                      "sequentialminus": [
                        [
                          0,
                          "#0d0887"
                        ],
                        [
                          0.1111111111111111,
                          "#46039f"
                        ],
                        [
                          0.2222222222222222,
                          "#7201a8"
                        ],
                        [
                          0.3333333333333333,
                          "#9c179e"
                        ],
                        [
                          0.4444444444444444,
                          "#bd3786"
                        ],
                        [
                          0.5555555555555556,
                          "#d8576b"
                        ],
                        [
                          0.6666666666666666,
                          "#ed7953"
                        ],
                        [
                          0.7777777777777778,
                          "#fb9f3a"
                        ],
                        [
                          0.8888888888888888,
                          "#fdca26"
                        ],
                        [
                          1,
                          "#f0f921"
                        ]
                      ]
                    },
                    "colorway": [
                      "#636efa",
                      "#EF553B",
                      "#00cc96",
                      "#ab63fa",
                      "#FFA15A",
                      "#19d3f3",
                      "#FF6692",
                      "#B6E880",
                      "#FF97FF",
                      "#FECB52"
                    ],
                    "font": {
                      "color": "#2a3f5f"
                    },
                    "geo": {
                      "bgcolor": "white",
                      "lakecolor": "white",
                      "landcolor": "#E5ECF6",
                      "showlakes": true,
                      "showland": true,
                      "subunitcolor": "white"
                    },
                    "hoverlabel": {
                      "align": "left"
                    },
                    "hovermode": "closest",
                    "mapbox": {
                      "style": "light"
                    },
                    "paper_bgcolor": "white",
                    "plot_bgcolor": "#E5ECF6",
                    "polar": {
                      "angularaxis": {
                        "gridcolor": "white",
                        "linecolor": "white",
                        "ticks": ""
                      },
                      "bgcolor": "#E5ECF6",
                      "radialaxis": {
                        "gridcolor": "white",
                        "linecolor": "white",
                        "ticks": ""
                      }
                    },
                    "scene": {
                      "xaxis": {
                        "backgroundcolor": "#E5ECF6",
                        "gridcolor": "white",
                        "gridwidth": 2,
                        "linecolor": "white",
                        "showbackground": true,
                        "ticks": "",
                        "zerolinecolor": "white"
                      },
                      "yaxis": {
                        "backgroundcolor": "#E5ECF6",
                        "gridcolor": "white",
                        "gridwidth": 2,
                        "linecolor": "white",
                        "showbackground": true,
                        "ticks": "",
                        "zerolinecolor": "white"
                      },
                      "zaxis": {
                        "backgroundcolor": "#E5ECF6",
                        "gridcolor": "white",
                        "gridwidth": 2,
                        "linecolor": "white",
                        "showbackground": true,
                        "ticks": "",
                        "zerolinecolor": "white"
                      }
                    },
                    "shapedefaults": {
                      "line": {
                        "color": "#2a3f5f"
                      }
                    },
                    "ternary": {
                      "aaxis": {
                        "gridcolor": "white",
                        "linecolor": "white",
                        "ticks": ""
                      },
                      "baxis": {
                        "gridcolor": "white",
                        "linecolor": "white",
                        "ticks": ""
                      },
                      "bgcolor": "#E5ECF6",
                      "caxis": {
                        "gridcolor": "white",
                        "linecolor": "white",
                        "ticks": ""
                      }
                    },
                    "title": {
                      "x": 0.05
                    },
                    "xaxis": {
                      "automargin": true,
                      "gridcolor": "white",
                      "linecolor": "white",
                      "ticks": "",
                      "title": {
                        "standoff": 15
                      },
                      "zerolinecolor": "white",
                      "zerolinewidth": 2
                    },
                    "yaxis": {
                      "automargin": true,
                      "gridcolor": "white",
                      "linecolor": "white",
                      "ticks": "",
                      "title": {
                        "standoff": 15
                      },
                      "zerolinecolor": "white",
                      "zerolinewidth": 2
                    }
                  }
                }
              }
            }
          },
          "metadata": {},
          "output_type": "display_data"
        }
      ],
      "source": [
        "fig = px.scatter_matrix (data, dimensions=['Electric Range','Drive'], color ='Make') \n",
        "fig.show()"
      ]
    },
    {
      "cell_type": "code",
      "execution_count": 266,
      "metadata": {},
      "outputs": [],
      "source": [
        "fig.write_html(r\"auton.html\")"
      ]
    },
    {
      "cell_type": "code",
      "execution_count": 267,
      "metadata": {
        "colab": {
          "base_uri": "https://localhost:8080/",
          "height": 295
        },
        "id": "w1SaSd1JuWWi",
        "outputId": "4be82439-26e2-4eb5-b6ef-b2cbd5a75a9c"
      },
      "outputs": [
        {
          "data": {
            "image/png": "[encoded data removed]",
            "text/plain": [
              "<Figure size 640x480 with 1 Axes>"
            ]
          },
          "metadata": {},
          "output_type": "display_data"
        }
      ],
      "source": [
        "sns.kdeplot(data['City - Cold Weather'])\n",
        "sns.kdeplot(data['Highway - Cold Weather'])\n",
        "sns.kdeplot(data['Combined - Cold Weather'])\n",
        "sns.kdeplot(data['Electric Range'])\n",
        "plt.title('Autonomía en clima frío')\n",
        "plt.legend(title='Tipo de conducción',labels=['Ciudad', 'Autopista', 'Combinado', 'Eléctrico'])\n",
        "plt.savefig('frio.png')"
      ]
    },
    {
      "cell_type": "code",
      "execution_count": 268,
      "metadata": {
        "colab": {
          "base_uri": "https://localhost:8080/",
          "height": 295
        },
        "id": "Xpovs17OuWWj",
        "outputId": "cf74d046-fede-4958-d84f-1d91f0a9ef6d"
      },
      "outputs": [
        {
          "data": {
            "image/png": "[encoded data removed]",
            "text/plain": [
              "<Figure size 640x480 with 1 Axes>"
            ]
          },
          "metadata": {},
          "output_type": "display_data"
        }
      ],
      "source": [
        "sns.kdeplot(data['City - Mild Weather'])\n",
        "sns.kdeplot(data['Highway - Mild Weather'])\n",
        "sns.kdeplot(data['Combined - Mild Weather'])\n",
        "sns.kdeplot(data['Electric Range'])\n",
        "plt.title('Autonomía en clima cálido')\n",
        "plt.legend(title='Tipo de conducción', labels=['Ciudad', 'Autopista', 'Combinado', 'Eléctrico'])\n",
        "plt.savefig('caliente.png')\n"
      ]
    },
    {
      "cell_type": "markdown",
      "metadata": {
        "id": "qwZq-Uw3uWWl"
      },
      "source": [
        "# Sustituimos las columnas de clima y tipo de conducción por la media de los tipos de conducción agrupados en clima"
      ]
    },
    {
      "cell_type": "code",
      "execution_count": 269,
      "metadata": {
        "id": "BBuoHqVuuWWm"
      },
      "outputs": [],
      "source": [
        "data['Range Cold Weather'] = (data['City - Cold Weather']+data['Highway - Cold Weather']+data['Combined - Cold Weather'])/3"
      ]
    },
    {
      "cell_type": "code",
      "execution_count": 270,
      "metadata": {
        "id": "Cx1CM6TRuWWn"
      },
      "outputs": [],
      "source": [
        "data['Range Hot Weather'] = (data['City - Mild Weather']+data['Highway - Mild Weather']+data['Combined - Mild Weather'])/3"
      ]
    },
    {
      "cell_type": "code",
      "execution_count": 271,
      "metadata": {
        "colab": {
          "base_uri": "https://localhost:8080/",
          "height": 261
        },
        "id": "gj3wzzWbuWWn",
        "outputId": "31d178bc-072d-4aaa-f416-82dae862769d"
      },
      "outputs": [
        {
          "data": {
            "text/html": [
              "<div>\n",
              "<style scoped>\n",
              "    .dataframe tbody tr th:only-of-type {\n",
              "        vertical-align: middle;\n",
              "    }\n",
              "\n",
              "    .dataframe tbody tr th {\n",
              "        vertical-align: top;\n",
              "    }\n",
              "\n",
              "    .dataframe thead th {\n",
              "        text-align: right;\n",
              "    }\n",
              "</style>\n",
              "<table border=\"1\" class=\"dataframe\">\n",
              "  <thead>\n",
              "    <tr style=\"text-align: right;\">\n",
              "      <th></th>\n",
              "      <th>id</th>\n",
              "      <th>Make</th>\n",
              "      <th>link</th>\n",
              "      <th>City - Cold Weather</th>\n",
              "      <th>Highway - Cold Weather</th>\n",
              "      <th>Combined - Cold Weather</th>\n",
              "      <th>City - Mild Weather</th>\n",
              "      <th>Highway - Mild Weather</th>\n",
              "      <th>Combined - Mild Weather</th>\n",
              "      <th>Acceleration 0 - 100 km/h</th>\n",
              "      <th>...</th>\n",
              "      <th>Length</th>\n",
              "      <th>Width</th>\n",
              "      <th>Height</th>\n",
              "      <th>Wheelbase</th>\n",
              "      <th>Gross Vehicle Weight (GVWR)</th>\n",
              "      <th>Max. Payload</th>\n",
              "      <th>Cargo Volume</th>\n",
              "      <th>Seats</th>\n",
              "      <th>Range Cold Weather</th>\n",
              "      <th>Range Hot Weather</th>\n",
              "    </tr>\n",
              "  </thead>\n",
              "  <tbody>\n",
              "    <tr>\n",
              "      <th>0</th>\n",
              "      <td>1647</td>\n",
              "      <td>Genesis</td>\n",
              "      <td>https://ev-database.org/car/1647/Genesis-GV60-...</td>\n",
              "      <td>390</td>\n",
              "      <td>275</td>\n",
              "      <td>330</td>\n",
              "      <td>575</td>\n",
              "      <td>355</td>\n",
              "      <td>445</td>\n",
              "      <td>7.8</td>\n",
              "      <td>...</td>\n",
              "      <td>4515</td>\n",
              "      <td>1890</td>\n",
              "      <td>1580</td>\n",
              "      <td>2900</td>\n",
              "      <td>2495</td>\n",
              "      <td>595</td>\n",
              "      <td>432</td>\n",
              "      <td>5</td>\n",
              "      <td>331.666667</td>\n",
              "      <td>458.333333</td>\n",
              "    </tr>\n",
              "  </tbody>\n",
              "</table>\n",
              "<p>1 rows × 29 columns</p>\n",
              "</div>"
            ],
            "text/plain": [
              "     id     Make                                               link  \\\n",
              "0  1647  Genesis  https://ev-database.org/car/1647/Genesis-GV60-...   \n",
              "\n",
              "   City - Cold Weather  Highway - Cold Weather  Combined - Cold Weather  \\\n",
              "0                  390                     275                      330   \n",
              "\n",
              "   City - Mild Weather  Highway - Mild Weather  Combined - Mild Weather  \\\n",
              "0                  575                     355                      445   \n",
              "\n",
              "   Acceleration 0 - 100 km/h  ...  Length  Width  Height  Wheelbase  \\\n",
              "0                        7.8  ...    4515   1890    1580       2900   \n",
              "\n",
              "  Gross Vehicle Weight (GVWR)  Max. Payload  Cargo Volume  Seats  \\\n",
              "0                        2495           595           432      5   \n",
              "\n",
              "   Range Cold Weather  Range Hot Weather  \n",
              "0          331.666667         458.333333  \n",
              "\n",
              "[1 rows x 29 columns]"
            ]
          },
          "execution_count": 271,
          "metadata": {},
          "output_type": "execute_result"
        }
      ],
      "source": [
        "data.head(1)"
      ]
    },
    {
      "cell_type": "code",
      "execution_count": 272,
      "metadata": {},
      "outputs": [
        {
          "data": {
            "image/png": "[encoded data removed]",
            "text/plain": [
              "<Figure size 640x480 with 1 Axes>"
            ]
          },
          "metadata": {},
          "output_type": "display_data"
        }
      ],
      "source": [
        "sns.kdeplot(data['Range Cold Weather'])\n",
        "sns.kdeplot(data['Range Hot Weather'])\n",
        "plt.title('Diferencia de autonomías según el clima')\n",
        "plt.legend(title='Tipo de conducción', labels=['Clima frío', 'Clima cálido'])\n",
        "plt.savefig('difr.png')"
      ]
    },
    {
      "cell_type": "code",
      "execution_count": 273,
      "metadata": {
        "id": "T9KCvaKZuWWo"
      },
      "outputs": [],
      "source": [
        "# Eliminamos las columnas que nos sobran \n",
        "df = data.drop(['City - Cold Weather','Highway - Cold Weather','Combined - Cold Weather','City - Mild Weather','Highway - Mild Weather','Combined - Mild Weather','link'],axis=1)"
      ]
    },
    {
      "cell_type": "code",
      "execution_count": 274,
      "metadata": {
        "id": "NKvpN3H7uWWp"
      },
      "outputs": [],
      "source": [
        "# Redondeamos las columnas objetivo\n",
        "df = df.round({'Range Cold Weather':2,'Range Hot Weather':2})"
      ]
    },
    {
      "cell_type": "code",
      "execution_count": 275,
      "metadata": {
        "id": "hm5-Kf69uWWq"
      },
      "outputs": [],
      "source": [
        "# Sustituimos las palabras de tipos de tracción por números\n",
        "df['Drive'] = df['Drive'].replace({'Front':1, 'Rear':2, 'AWD':3})\n",
        "df['Drive'] = df['Drive'].astype(float)"
      ]
    },
    {
      "cell_type": "markdown",
      "metadata": {
        "id": "kTDt5uFXuWWr"
      },
      "source": [
        "# Utilizamos One Hot Encoder para cambiar a tipo float las marcas de los coches"
      ]
    },
    {
      "cell_type": "code",
      "execution_count": 276,
      "metadata": {
        "id": "tUVAJo7luWWs"
      },
      "outputs": [],
      "source": [
        "from sklearn.preprocessing import OneHotEncoder #Librería\n",
        "obj_vars = df.select_dtypes(include = 'object').columns #Columnas categóricas\n",
        "encoder = OneHotEncoder() #Encoder\n",
        "for var in obj_vars: #Entrenamos el encoder en cada variable\n",
        "  encoder.fit(df.loc[:,[var]])\n",
        "  enc_data = pd.DataFrame(encoder.transform(df.loc[:,[var]]).toarray(), columns = [var + '_' + typevar for typevar in encoder.categories_[0].tolist()], index = df.index)\n",
        "  df = pd.concat([df, enc_data], axis = 1)\n",
        "  df = df.drop([var], axis = 1)"
      ]
    },
    {
      "cell_type": "markdown",
      "metadata": {
        "id": "IR2kNlBouWWt"
      },
      "source": [
        "# Machine Learning"
      ]
    },
    {
      "cell_type": "code",
      "execution_count": 277,
      "metadata": {
        "id": "2GLJIiT0uWWu"
      },
      "outputs": [],
      "source": [
        "df = df.reset_index()\n",
        "df = df.drop('index', axis = 1)"
      ]
    },
    {
      "cell_type": "code",
      "execution_count": 278,
      "metadata": {
        "id": "Gc56CrdR37cM"
      },
      "outputs": [],
      "source": [
        "df2 = df"
      ]
    },
    {
      "cell_type": "code",
      "execution_count": 279,
      "metadata": {},
      "outputs": [],
      "source": [
        "# Vemos un ejemplo de los coches\n",
        "pers1 = df2.sample().transpose()\n",
        "pers1.to_csv('pers1.csv')"
      ]
    },
    {
      "cell_type": "code",
      "execution_count": 280,
      "metadata": {
        "id": "Xyv6pgeowBXy"
      },
      "outputs": [],
      "source": [
        "X, y = df2.loc[:, ~df.columns.isin(['Range Cold Weather'])], df.loc[:, 'Range Cold Weather']"
      ]
    },
    {
      "cell_type": "code",
      "execution_count": 281,
      "metadata": {},
      "outputs": [],
      "source": [
        "X = X.drop(columns=['Range Hot Weather'])"
      ]
    },
    {
      "cell_type": "code",
      "execution_count": 282,
      "metadata": {},
      "outputs": [
        {
          "data": {
            "text/plain": [
              "Index(['id', 'Acceleration 0 - 100 km/h', 'Top Speed', 'Electric Range',\n",
              "       'Total Power', 'Total Torque', 'Drive', 'Battery Capacity',\n",
              "       'Charge Power', 'Charge Speed', 'Fastcharge Speed', 'Length', 'Width',\n",
              "       'Height', 'Wheelbase', 'Gross Vehicle Weight (GVWR)', 'Max. Payload',\n",
              "       'Cargo Volume', 'Seats', 'Make_Audi', 'Make_BMW', 'Make_CUPRA',\n",
              "       'Make_Citroen', 'Make_DS', 'Make_Dacia', 'Make_Fiat', 'Make_Ford',\n",
              "       'Make_Genesis', 'Make_Honda', 'Make_Hongqi', 'Make_Hyundai', 'Make_JAC',\n",
              "       'Make_Jaguar', 'Make_Kia', 'Make_Lexus', 'Make_MG', 'Make_Mazda',\n",
              "       'Make_Mercedes', 'Make_Mini', 'Make_Nissan', 'Make_Opel',\n",
              "       'Make_Peugeot', 'Make_Polestar', 'Make_Porsche', 'Make_Renault',\n",
              "       'Make_Seres', 'Make_Skoda', 'Make_Smart', 'Make_Subaru', 'Make_Tesla',\n",
              "       'Make_Toyota', 'Make_Volkswagen', 'Make_Volvo'],\n",
              "      dtype='object')"
            ]
          },
          "execution_count": 282,
          "metadata": {},
          "output_type": "execute_result"
        }
      ],
      "source": [
        "X.columns"
      ]
    },
    {
      "cell_type": "markdown",
      "metadata": {
        "id": "P8RSp7BsuWWx"
      },
      "source": [
        "# Modelización"
      ]
    },
    {
      "cell_type": "code",
      "execution_count": 283,
      "metadata": {
        "id": "RPdSVu-6CL0b"
      },
      "outputs": [],
      "source": [
        "import warnings\n",
        "from sklearn.exceptions import ConvergenceWarning\n",
        "warnings.filterwarnings(\"ignore\", category=ConvergenceWarning)"
      ]
    },
    {
      "cell_type": "code",
      "execution_count": 284,
      "metadata": {
        "colab": {
          "base_uri": "https://localhost:8080/",
          "height": 235
        },
        "id": "DJl_W176uWW2",
        "outputId": "3205f8e2-7e9e-440b-9cef-490d786b45fc"
      },
      "outputs": [
        {
          "name": "stdout",
          "output_type": "stream",
          "text": [
            "Probamos modelo OLS:\n",
            "El RMSE medio de las estimaciones es: 0.000\n",
            "Probamos modelo SVR:\n",
            "El RMSE medio de las estimaciones es: 329.571\n",
            "Probamos modelo Ridge:\n",
            "El RMSE medio de las estimaciones es: 6.649\n",
            "Probamos modelo Lasso:\n",
            "El RMSE medio de las estimaciones es: 5.995\n",
            "Probamos modelo ElasticNet:\n",
            "El RMSE medio de las estimaciones es: 62.122\n",
            "Probamos modelo RandomForest:\n",
            "El RMSE medio de las estimaciones es: 22.598\n",
            "Probamos modelo XGB:\n",
            "El RMSE medio de las estimaciones es: 66.049\n"
          ]
        }
      ],
      "source": [
        "from sklearn.model_selection import train_test_split\n",
        "X_train, X_test, y_train, y_test = train_test_split(X, y, test_size=.2, random_state=123)\n",
        "\n",
        "#Partición de los datos\n",
        "from sklearn.model_selection import KFold\n",
        "\n",
        "#Escalado de datos\n",
        "from sklearn.preprocessing import StandardScaler\n",
        "\n",
        "#Modelos\n",
        "from sklearn.linear_model import LinearRegression, Ridge, Lasso, ElasticNet\n",
        "from sklearn.svm import SVR\n",
        "from sklearn.ensemble import RandomForestRegressor, GradientBoostingRegressor\n",
        "\n",
        "\n",
        "#Escalado de datos         //El escalado de datos, ahora mismo, no hace falta.\n",
        "scaler = StandardScaler()\n",
        "scaler.fit(df2)\n",
        "X_train = scaler.transform(df2.iloc[X_train.index,:])\n",
        "X_test = scaler.transform(df2.iloc[X_test.index,:])\n",
        "\n",
        "\n",
        "#Partición de datos de entrenamiento para analizar modelos\n",
        "n_splits = 8\n",
        "kf = KFold(n_splits = n_splits)\n",
        "\n",
        "#Diccionario de modelos\n",
        "models={'OLS': LinearRegression(),\n",
        "        'SVR': SVR(),\n",
        "        'Ridge': Ridge(),\n",
        "        'Lasso': Lasso(),\n",
        "        'ElasticNet': ElasticNet(),\n",
        "        'RandomForest': RandomForestRegressor(),\n",
        "        'XGB': GradientBoostingRegressor(n_estimators=300, learning_rate=0.05, max_depth=4, max_features='sqrt', min_samples_leaf=15, min_samples_split=10, loss='huber', random_state =5)\n",
        "       }\n",
        "\n",
        "\n",
        "#Bucle\n",
        "for name, model in models.items():\n",
        "  print('Probamos modelo {}:'.format(name))\n",
        "  rsme = []\n",
        "  for train_idx, test_idx in kf.split(X_train, y_train):\n",
        "    model.fit(X_train[train_idx,:], y_train.values[train_idx])\n",
        "    y_pred = model.predict(X_train[test_idx,:])\n",
        "    rsme.append(np.sqrt(sum((y_train.iloc[test_idx]-y_pred)**2)))\n",
        "  print('El RMSE medio de las estimaciones es: {:.3f}'.format(np.mean(rsme)))"
      ]
    },
    {
      "cell_type": "code",
      "execution_count": 285,
      "metadata": {},
      "outputs": [
        {
          "data": {
            "text/plain": [
              "array([220.  , 380.  , 233.33, 431.67, 330.  , 513.33, 311.67, 385.  ,\n",
              "       255.  , 375.  , 230.  , 325.  , 295.  , 340.  , 243.33, 361.67,\n",
              "       133.33, 286.67, 343.33, 151.67, 318.33, 376.67, 328.33, 230.  ,\n",
              "       330.  , 226.67, 233.33, 475.  , 325.  , 345.  , 346.67, 156.67,\n",
              "       200.  , 315.  , 216.67, 233.33, 441.67, 156.67, 156.67])"
            ]
          },
          "execution_count": 285,
          "metadata": {},
          "output_type": "execute_result"
        }
      ],
      "source": [
        "# Predecir la autonomía según el X_test\n",
        "from sklearn import linear_model\n",
        "clf = linear_model.LinearRegression()\n",
        "clf.fit(X_train,y_train)\n",
        "clf.predict(X_test)"
      ]
    },
    {
      "cell_type": "code",
      "execution_count": 286,
      "metadata": {},
      "outputs": [
        {
          "data": {
            "text/plain": [
              "31     220.00\n",
              "4      380.00\n",
              "80     233.33\n",
              "165    431.67\n",
              "122    330.00\n",
              "178    513.33\n",
              "81     311.67\n",
              "177    385.00\n",
              "88     255.00\n",
              "140    375.00\n",
              "162    230.00\n",
              "20     325.00\n",
              "144    295.00\n",
              "90     340.00\n",
              "100    243.33\n",
              "19     361.67\n",
              "121    133.33\n",
              "37     286.67\n",
              "141    343.33\n",
              "176    151.67\n",
              "79     318.33\n",
              "112    376.67\n",
              "26     328.33\n",
              "156    230.00\n",
              "148    330.00\n",
              "41     226.67\n",
              "166    233.33\n",
              "50     475.00\n",
              "168    325.00\n",
              "107    345.00\n",
              "136    346.67\n",
              "62     156.67\n",
              "114    200.00\n",
              "172    315.00\n",
              "146    216.67\n",
              "95     233.33\n",
              "108    441.67\n",
              "33     156.67\n",
              "23     156.67\n",
              "Name: Range Cold Weather, dtype: float64"
            ]
          },
          "execution_count": 286,
          "metadata": {},
          "output_type": "execute_result"
        }
      ],
      "source": [
        "y_test"
      ]
    },
    {
      "cell_type": "code",
      "execution_count": 300,
      "metadata": {},
      "outputs": [
        {
          "data": {
            "text/plain": [
              "Index(['id', 'Acceleration_0_-_100_km/h', 'Top_Speed', 'Electric_Range',\n",
              "       'Total_Power', 'Total_Torque', 'Drive', 'Battery_Capacity',\n",
              "       'Charge_Power', 'Charge_Speed', 'Fastcharge_Speed', 'Length', 'Width',\n",
              "       'Height', 'Wheelbase', 'Gross_Vehicle_Weight_(GVWR)', 'Max._Payload',\n",
              "       'Cargo_Volume', 'Seats', 'Range_Cold_Weather', 'Range_Hot_Weather',\n",
              "       'Make_Audi', 'Make_BMW', 'Make_CUPRA', 'Make_Citroen', 'Make_DS',\n",
              "       'Make_Dacia', 'Make_Fiat', 'Make_Ford', 'Make_Genesis', 'Make_Honda',\n",
              "       'Make_Hongqi', 'Make_Hyundai', 'Make_JAC', 'Make_Jaguar', 'Make_Kia',\n",
              "       'Make_Lexus', 'Make_MG', 'Make_Mazda', 'Make_Mercedes', 'Make_Mini',\n",
              "       'Make_Nissan', 'Make_Opel', 'Make_Peugeot', 'Make_Polestar',\n",
              "       'Make_Porsche', 'Make_Renault', 'Make_Seres', 'Make_Skoda',\n",
              "       'Make_Smart', 'Make_Subaru', 'Make_Tesla', 'Make_Toyota',\n",
              "       'Make_Volkswagen', 'Make_Volvo'],\n",
              "      dtype='object')"
            ]
          },
          "execution_count": 300,
          "metadata": {},
          "output_type": "execute_result"
        }
      ],
      "source": [
        "def change_column_names(df):\n",
        "    df.columns = df.columns.str.replace(' ', '_')\n",
        "    return df\n",
        "change_column_names(df2)\n",
        "df2.columns"
      ]
    },
    {
      "cell_type": "code",
      "execution_count": 290,
      "metadata": {},
      "outputs": [
        {
          "data": {
            "text/plain": [
              "Index(['id', 'Acceleration 0 - 100 km/h', 'Top Speed', 'Electric Range',\n",
              "       'Total Power', 'Total Torque', 'Drive', 'Battery Capacity',\n",
              "       'Charge Power', 'Charge Speed', 'Fastcharge Speed', 'Length', 'Width',\n",
              "       'Height', 'Wheelbase', 'Gross Vehicle Weight (GVWR)', 'Max. Payload',\n",
              "       'Cargo Volume', 'Seats', 'Range Cold Weather', 'Range Hot Weather',\n",
              "       'Make_Audi', 'Make_BMW', 'Make_CUPRA', 'Make_Citroen', 'Make_DS',\n",
              "       'Make_Dacia', 'Make_Fiat', 'Make_Ford', 'Make_Genesis', 'Make_Honda',\n",
              "       'Make_Hongqi', 'Make_Hyundai', 'Make_JAC', 'Make_Jaguar', 'Make_Kia',\n",
              "       'Make_Lexus', 'Make_MG', 'Make_Mazda', 'Make_Mercedes', 'Make_Mini',\n",
              "       'Make_Nissan', 'Make_Opel', 'Make_Peugeot', 'Make_Polestar',\n",
              "       'Make_Porsche', 'Make_Renault', 'Make_Seres', 'Make_Skoda',\n",
              "       'Make_Smart', 'Make_Subaru', 'Make_Tesla', 'Make_Toyota',\n",
              "       'Make_Volkswagen', 'Make_Volvo'],\n",
              "      dtype='object')"
            ]
          },
          "execution_count": 290,
          "metadata": {},
          "output_type": "execute_result"
        }
      ],
      "source": [
        "df.columns"
      ]
    },
    {
      "cell_type": "code",
      "execution_count": 291,
      "metadata": {},
      "outputs": [],
      "source": [
        "# Guardamos el modelo\n",
        "pickle.dump(clf, open('Frio.pkl', 'wb'))"
      ]
    },
    {
      "cell_type": "markdown",
      "metadata": {},
      "source": [
        "### Hemos comprobado que para la variable objetivo 'Range Cold Weather' tenemos un error de 0.00 con lo cual la predicción va a ser perfecta. Ahora es hora de hacer lo mismo pero con 'Range Hot Weather'"
      ]
    },
    {
      "cell_type": "code",
      "execution_count": 292,
      "metadata": {},
      "outputs": [],
      "source": [
        "df3 = df"
      ]
    },
    {
      "cell_type": "code",
      "execution_count": 293,
      "metadata": {},
      "outputs": [],
      "source": [
        "X1, y1 = df3.loc[:, ~df.columns.isin(['Range Hot Weather'])], df.loc[:, 'Range Hot Weather']"
      ]
    },
    {
      "cell_type": "code",
      "execution_count": 294,
      "metadata": {},
      "outputs": [],
      "source": [
        "X1 = X1.drop(columns=['Range Cold Weather'])"
      ]
    },
    {
      "cell_type": "code",
      "execution_count": 295,
      "metadata": {},
      "outputs": [
        {
          "name": "stdout",
          "output_type": "stream",
          "text": [
            "Probamos modelo OLS:\n",
            "El RMSE medio de las estimaciones es: 0.000\n",
            "Probamos modelo SVR:\n",
            "El RMSE medio de las estimaciones es: 474.852\n",
            "Probamos modelo Ridge:\n",
            "El RMSE medio de las estimaciones es: 10.717\n",
            "Probamos modelo Lasso:\n",
            "El RMSE medio de las estimaciones es: 7.705\n",
            "Probamos modelo ElasticNet:\n",
            "El RMSE medio de las estimaciones es: 91.650\n",
            "Probamos modelo RandomForest:\n",
            "El RMSE medio de las estimaciones es: 27.752\n",
            "Probamos modelo XGB:\n",
            "El RMSE medio de las estimaciones es: 93.052\n"
          ]
        }
      ],
      "source": [
        "from sklearn.model_selection import train_test_split\n",
        "X_train, X_test, y_train, y_test = train_test_split(X1, y1, test_size=.2, random_state=123)\n",
        "\n",
        "#Partición de los datos\n",
        "from sklearn.model_selection import KFold\n",
        "\n",
        "#Escalado de datos\n",
        "from sklearn.preprocessing import StandardScaler\n",
        "\n",
        "#Modelos\n",
        "from sklearn.linear_model import LinearRegression, Ridge, Lasso, ElasticNet\n",
        "from sklearn.svm import SVR\n",
        "from sklearn.ensemble import RandomForestRegressor, GradientBoostingRegressor\n",
        "\n",
        "\n",
        "#Escalado de datos         //El escalado de datos, ahora mismo, no hace falta.\n",
        "scaler = StandardScaler()\n",
        "scaler.fit(df3)\n",
        "X_train = scaler.transform(df3.iloc[X_train.index,:])\n",
        "X_test = scaler.transform(df3.iloc[X_test.index,:])\n",
        "\n",
        "\n",
        "#Partición de datos de entrenamiento para analizar modelos\n",
        "n_splits = 8\n",
        "kf = KFold(n_splits = n_splits)\n",
        "\n",
        "#Diccionario de modelos\n",
        "models={'OLS': LinearRegression(),\n",
        "        'SVR': SVR(),\n",
        "        'Ridge': Ridge(),\n",
        "        'Lasso': Lasso(),\n",
        "        'ElasticNet': ElasticNet(),\n",
        "        'RandomForest': RandomForestRegressor(),\n",
        "        'XGB': GradientBoostingRegressor(n_estimators=300, learning_rate=0.05, max_depth=4, max_features='sqrt', min_samples_leaf=15, min_samples_split=10, loss='huber', random_state =5)\n",
        "       }\n",
        "\n",
        "\n",
        "#Bucle\n",
        "for name, model in models.items():\n",
        "  print('Probamos modelo {}:'.format(name))\n",
        "  rsme = []\n",
        "  for train_idx, test_idx in kf.split(X_train, y_train):\n",
        "    model.fit(X_train[train_idx,:], y_train.values[train_idx])\n",
        "    y_pred = model.predict(X_train[test_idx,:])\n",
        "    rsme.append(np.sqrt(sum((y_train.iloc[test_idx]-y_pred)**2)))\n",
        "  print('El RMSE medio de las estimaciones es: {:.3f}'.format(np.mean(rsme)))"
      ]
    },
    {
      "cell_type": "code",
      "execution_count": 296,
      "metadata": {},
      "outputs": [
        {
          "data": {
            "text/plain": [
              "array([305.  , 531.67, 306.67, 591.67, 445.  , 715.  , 430.  , 541.67,\n",
              "       355.  , 518.33, 301.67, 445.  , 411.67, 470.  , 326.67, 496.67,\n",
              "       188.33, 393.33, 471.67, 216.67, 430.  , 528.33, 450.  , 301.67,\n",
              "       443.33, 316.67, 306.67, 653.33, 435.  , 466.67, 476.67, 208.33,\n",
              "       276.67, 431.67, 301.67, 306.67, 616.67, 208.33, 208.33])"
            ]
          },
          "execution_count": 296,
          "metadata": {},
          "output_type": "execute_result"
        }
      ],
      "source": [
        "# Predecir la autonomía según el X_test\n",
        "from sklearn import linear_model\n",
        "clf = linear_model.LinearRegression()\n",
        "clf.fit(X_train,y_train)\n",
        "clf.predict(X_test)"
      ]
    },
    {
      "cell_type": "code",
      "execution_count": 297,
      "metadata": {},
      "outputs": [
        {
          "data": {
            "text/plain": [
              "31     305.00\n",
              "4      531.67\n",
              "80     306.67\n",
              "165    591.67\n",
              "122    445.00\n",
              "178    715.00\n",
              "81     430.00\n",
              "177    541.67\n",
              "88     355.00\n",
              "140    518.33\n",
              "162    301.67\n",
              "20     445.00\n",
              "144    411.67\n",
              "90     470.00\n",
              "100    326.67\n",
              "19     496.67\n",
              "121    188.33\n",
              "37     393.33\n",
              "141    471.67\n",
              "176    216.67\n",
              "79     430.00\n",
              "112    528.33\n",
              "26     450.00\n",
              "156    301.67\n",
              "148    443.33\n",
              "41     316.67\n",
              "166    306.67\n",
              "50     653.33\n",
              "168    435.00\n",
              "107    466.67\n",
              "136    476.67\n",
              "62     208.33\n",
              "114    276.67\n",
              "172    431.67\n",
              "146    301.67\n",
              "95     306.67\n",
              "108    616.67\n",
              "33     208.33\n",
              "23     208.33\n",
              "Name: Range Hot Weather, dtype: float64"
            ]
          },
          "execution_count": 297,
          "metadata": {},
          "output_type": "execute_result"
        }
      ],
      "source": [
        "y_test"
      ]
    },
    {
      "cell_type": "code",
      "execution_count": 298,
      "metadata": {},
      "outputs": [
        {
          "data": {
            "text/plain": [
              "Index(['id', 'Acceleration_0_-_100_km/h', 'Top_Speed', 'Electric_Range',\n",
              "       'Total_Power', 'Total_Torque', 'Drive', 'Battery_Capacity',\n",
              "       'Charge_Power', 'Charge_Speed', 'Fastcharge_Speed', 'Length', 'Width',\n",
              "       'Height', 'Wheelbase', 'Gross_Vehicle_Weight_(GVWR)', 'Max._Payload',\n",
              "       'Cargo_Volume', 'Seats', 'Range_Cold_Weather', 'Range_Hot_Weather',\n",
              "       'Make_Audi', 'Make_BMW', 'Make_CUPRA', 'Make_Citroen', 'Make_DS',\n",
              "       'Make_Dacia', 'Make_Fiat', 'Make_Ford', 'Make_Genesis', 'Make_Honda',\n",
              "       'Make_Hongqi', 'Make_Hyundai', 'Make_JAC', 'Make_Jaguar', 'Make_Kia',\n",
              "       'Make_Lexus', 'Make_MG', 'Make_Mazda', 'Make_Mercedes', 'Make_Mini',\n",
              "       'Make_Nissan', 'Make_Opel', 'Make_Peugeot', 'Make_Polestar',\n",
              "       'Make_Porsche', 'Make_Renault', 'Make_Seres', 'Make_Skoda',\n",
              "       'Make_Smart', 'Make_Subaru', 'Make_Tesla', 'Make_Toyota',\n",
              "       'Make_Volkswagen', 'Make_Volvo'],\n",
              "      dtype='object')"
            ]
          },
          "execution_count": 298,
          "metadata": {},
          "output_type": "execute_result"
        }
      ],
      "source": [
        "def change_column_names(df):\n",
        "    df.columns = df.columns.str.replace(' ', '_')\n",
        "    return df\n",
        "change_column_names(df3)\n",
        "df3.columns"
      ]
    },
    {
      "cell_type": "code",
      "execution_count": 299,
      "metadata": {},
      "outputs": [],
      "source": [
        "# Guardamos el modelo\n",
        "pickle.dump(clf, open('Caliente.pkl', 'wb'))"
      ]
    },
    {
      "cell_type": "markdown",
      "metadata": {},
      "source": [
        "### Ya tenemos la predicción hecha para 'Range Hot Weather' con un error de 0.00, con lo cual también va a ser perfecta"
      ]
    }
  ],
  "metadata": {
    "colab": {
      "provenance": []
    },
    "kernelspec": {
      "display_name": "Python 3.10.7 64-bit",
      "language": "python",
      "name": "python3"
    },
    "language_info": {
      "codemirror_mode": {
        "name": "ipython",
        "version": 3
      },
      "file_extension": ".py",
      "mimetype": "text/x-python",
      "name": "python",
      "nbconvert_exporter": "python",
      "pygments_lexer": "ipython3",
      "version": "3.10.7"
    },
    "orig_nbformat": 4,
    "vscode": {
      "interpreter": {
        "hash": "702274da04a07b0b11b52c6c98e8b7d270c88f452d224fa0eb07a28bf401a81b"
      }
    }
  },
  "nbformat": 4,
  "nbformat_minor": 0
}
