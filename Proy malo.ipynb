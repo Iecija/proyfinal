{
 "cells": [
  {
   "cell_type": "code",
   "execution_count": 40,
   "metadata": {},
   "outputs": [],
   "source": [
    "import pandas as pd\n",
    "import numpy as np\n",
    "import seaborn as sns\n",
    "import matplotlib.pyplot as plt\n",
    "import plotly_express as px\n",
    "import plotly.graph_objects as go\n",
    "import sklearn \n",
    "from sklearn.linear_model import LogisticRegression\n",
    "from sklearn.neighbors import KNeighborsClassifier\n",
    "from sklearn.ensemble import RandomForestClassifier, GradientBoostingClassifier\n",
    "from xgboost import XGBClassifier\n",
    "import warnings\n",
    "warnings.simplefilter(action='ignore', category=FutureWarning)"
   ]
  },
  {
   "cell_type": "markdown",
   "metadata": {},
   "source": [
    "# Comenzamos a ver el dataset"
   ]
  },
  {
   "cell_type": "markdown",
   "metadata": {},
   "source": [
    "### Objetivo: Predecir la autonomía (KMS) dependiendo del clima a partir de unos parametros dados"
   ]
  },
  {
   "cell_type": "code",
   "execution_count": 41,
   "metadata": {},
   "outputs": [],
   "source": [
    "data = pd.read_csv('evdataset.csv')"
   ]
  },
  {
   "cell_type": "code",
   "execution_count": 42,
   "metadata": {},
   "outputs": [
    {
     "data": {
      "text/plain": [
       "(194, 27)"
      ]
     },
     "execution_count": 42,
     "metadata": {},
     "output_type": "execute_result"
    }
   ],
   "source": [
    "data.shape"
   ]
  },
  {
   "cell_type": "code",
   "execution_count": 43,
   "metadata": {},
   "outputs": [
    {
     "data": {
      "text/html": [
       "<div>\n",
       "<style scoped>\n",
       "    .dataframe tbody tr th:only-of-type {\n",
       "        vertical-align: middle;\n",
       "    }\n",
       "\n",
       "    .dataframe tbody tr th {\n",
       "        vertical-align: top;\n",
       "    }\n",
       "\n",
       "    .dataframe thead th {\n",
       "        text-align: right;\n",
       "    }\n",
       "</style>\n",
       "<table border=\"1\" class=\"dataframe\">\n",
       "  <thead>\n",
       "    <tr style=\"text-align: right;\">\n",
       "      <th></th>\n",
       "      <th>id</th>\n",
       "      <th>Make</th>\n",
       "      <th>link</th>\n",
       "      <th>City - Cold Weather</th>\n",
       "      <th>Highway - Cold Weather</th>\n",
       "      <th>Combined - Cold Weather</th>\n",
       "      <th>City - Mild Weather</th>\n",
       "      <th>Highway - Mild Weather</th>\n",
       "      <th>Combined - Mild Weather</th>\n",
       "      <th>Acceleration 0 - 100 km/h</th>\n",
       "      <th>...</th>\n",
       "      <th>Charge Speed</th>\n",
       "      <th>Fastcharge Speed</th>\n",
       "      <th>Length</th>\n",
       "      <th>Width</th>\n",
       "      <th>Height</th>\n",
       "      <th>Wheelbase</th>\n",
       "      <th>Gross Vehicle Weight (GVWR)</th>\n",
       "      <th>Max. Payload</th>\n",
       "      <th>Cargo Volume</th>\n",
       "      <th>Seats</th>\n",
       "    </tr>\n",
       "  </thead>\n",
       "  <tbody>\n",
       "    <tr>\n",
       "      <th>0</th>\n",
       "      <td>1647</td>\n",
       "      <td>Genesis</td>\n",
       "      <td>https://ev-database.org/car/1647/Genesis-GV60-...</td>\n",
       "      <td>390</td>\n",
       "      <td>275</td>\n",
       "      <td>330</td>\n",
       "      <td>575</td>\n",
       "      <td>355</td>\n",
       "      <td>445</td>\n",
       "      <td>7.8</td>\n",
       "      <td>...</td>\n",
       "      <td>49</td>\n",
       "      <td>1020</td>\n",
       "      <td>4515</td>\n",
       "      <td>1890</td>\n",
       "      <td>1580</td>\n",
       "      <td>2900</td>\n",
       "      <td>2495</td>\n",
       "      <td>595</td>\n",
       "      <td>432</td>\n",
       "      <td>5</td>\n",
       "    </tr>\n",
       "    <tr>\n",
       "      <th>1</th>\n",
       "      <td>1493</td>\n",
       "      <td>Mercedes</td>\n",
       "      <td>https://ev-database.org/car/1493/Mercedes-EQB-...</td>\n",
       "      <td>330</td>\n",
       "      <td>235</td>\n",
       "      <td>280</td>\n",
       "      <td>480</td>\n",
       "      <td>300</td>\n",
       "      <td>375</td>\n",
       "      <td>6.2</td>\n",
       "      <td>...</td>\n",
       "      <td>46</td>\n",
       "      <td>470</td>\n",
       "      <td>4684</td>\n",
       "      <td>1834</td>\n",
       "      <td>1701</td>\n",
       "      <td>2829</td>\n",
       "      <td>2580</td>\n",
       "      <td>480</td>\n",
       "      <td>495</td>\n",
       "      <td>7</td>\n",
       "    </tr>\n",
       "    <tr>\n",
       "      <th>2</th>\n",
       "      <td>1229</td>\n",
       "      <td>Porsche</td>\n",
       "      <td>https://ev-database.org/car/1229/Porsche-Tayca...</td>\n",
       "      <td>400</td>\n",
       "      <td>305</td>\n",
       "      <td>350</td>\n",
       "      <td>580</td>\n",
       "      <td>385</td>\n",
       "      <td>470</td>\n",
       "      <td>3.2</td>\n",
       "      <td>...</td>\n",
       "      <td>46</td>\n",
       "      <td>1020</td>\n",
       "      <td>4963</td>\n",
       "      <td>1966</td>\n",
       "      <td>1381</td>\n",
       "      <td>2900</td>\n",
       "      <td>2880</td>\n",
       "      <td>575</td>\n",
       "      <td>366</td>\n",
       "      <td>4</td>\n",
       "    </tr>\n",
       "  </tbody>\n",
       "</table>\n",
       "<p>3 rows × 27 columns</p>\n",
       "</div>"
      ],
      "text/plain": [
       "     id      Make                                               link  \\\n",
       "0  1647   Genesis  https://ev-database.org/car/1647/Genesis-GV60-...   \n",
       "1  1493  Mercedes  https://ev-database.org/car/1493/Mercedes-EQB-...   \n",
       "2  1229   Porsche  https://ev-database.org/car/1229/Porsche-Tayca...   \n",
       "\n",
       "   City - Cold Weather  Highway - Cold Weather  Combined - Cold Weather  \\\n",
       "0                  390                     275                      330   \n",
       "1                  330                     235                      280   \n",
       "2                  400                     305                      350   \n",
       "\n",
       "   City - Mild Weather  Highway - Mild Weather  Combined - Mild Weather  \\\n",
       "0                  575                     355                      445   \n",
       "1                  480                     300                      375   \n",
       "2                  580                     385                      470   \n",
       "\n",
       "   Acceleration 0 - 100 km/h  ...  Charge Speed  Fastcharge Speed  Length  \\\n",
       "0                        7.8  ...            49              1020    4515   \n",
       "1                        6.2  ...            46               470    4684   \n",
       "2                        3.2  ...            46              1020    4963   \n",
       "\n",
       "   Width Height  Wheelbase  Gross Vehicle Weight (GVWR)  Max. Payload  \\\n",
       "0   1890   1580       2900                         2495           595   \n",
       "1   1834   1701       2829                         2580           480   \n",
       "2   1966   1381       2900                         2880           575   \n",
       "\n",
       "   Cargo Volume  Seats  \n",
       "0           432      5  \n",
       "1           495      7  \n",
       "2           366      4  \n",
       "\n",
       "[3 rows x 27 columns]"
      ]
     },
     "execution_count": 43,
     "metadata": {},
     "output_type": "execute_result"
    }
   ],
   "source": [
    "data.head(3)"
   ]
  },
  {
   "cell_type": "code",
   "execution_count": 44,
   "metadata": {},
   "outputs": [
    {
     "data": {
      "text/plain": [
       "0"
      ]
     },
     "execution_count": 44,
     "metadata": {},
     "output_type": "execute_result"
    }
   ],
   "source": [
    "# Vemos la cantidad de valores nulos\n",
    "data.isnull().sum().sum()"
   ]
  },
  {
   "cell_type": "code",
   "execution_count": 45,
   "metadata": {},
   "outputs": [
    {
     "name": "stdout",
     "output_type": "stream",
     "text": [
      "<class 'pandas.core.frame.DataFrame'>\n",
      "RangeIndex: 194 entries, 0 to 193\n",
      "Data columns (total 27 columns):\n",
      " #   Column                       Non-Null Count  Dtype  \n",
      "---  ------                       --------------  -----  \n",
      " 0   id                           194 non-null    int64  \n",
      " 1   Make                         194 non-null    object \n",
      " 2   link                         194 non-null    object \n",
      " 3   City - Cold Weather          194 non-null    int64  \n",
      " 4   Highway - Cold Weather       194 non-null    int64  \n",
      " 5   Combined - Cold Weather      194 non-null    int64  \n",
      " 6   City - Mild Weather          194 non-null    int64  \n",
      " 7   Highway - Mild Weather       194 non-null    int64  \n",
      " 8   Combined - Mild Weather      194 non-null    int64  \n",
      " 9   Acceleration 0 - 100 km/h    194 non-null    float64\n",
      " 10  Top Speed                    194 non-null    int64  \n",
      " 11  Electric Range               194 non-null    int64  \n",
      " 12  Total Power                  194 non-null    int64  \n",
      " 13  Total Torque                 194 non-null    int64  \n",
      " 14  Drive                        194 non-null    object \n",
      " 15  Battery Capacity             194 non-null    float64\n",
      " 16  Charge Power                 194 non-null    float64\n",
      " 17  Charge Speed                 194 non-null    int64  \n",
      " 18  Fastcharge Speed             194 non-null    int64  \n",
      " 19  Length                       194 non-null    int64  \n",
      " 20  Width                        194 non-null    int64  \n",
      " 21  Height                       194 non-null    int64  \n",
      " 22  Wheelbase                    194 non-null    int64  \n",
      " 23  Gross Vehicle Weight (GVWR)  194 non-null    int64  \n",
      " 24  Max. Payload                 194 non-null    int64  \n",
      " 25  Cargo Volume                 194 non-null    int64  \n",
      " 26  Seats                        194 non-null    int64  \n",
      "dtypes: float64(3), int64(21), object(3)\n",
      "memory usage: 41.0+ KB\n"
     ]
    }
   ],
   "source": [
    "data.info()"
   ]
  },
  {
   "cell_type": "code",
   "execution_count": 46,
   "metadata": {},
   "outputs": [
    {
     "data": {
      "text/plain": [
       "array(['Genesis', 'Mercedes', 'Porsche', 'BMW', 'Volkswagen', 'CUPRA',\n",
       "       'Skoda', 'MG', 'Volvo', 'Fiat', 'Smart', 'Hyundai', 'Peugeot',\n",
       "       'Citroen', 'Audi', 'Polestar', 'Toyota', 'Kia', 'DS', 'Ford',\n",
       "       'Honda', 'JAC', 'Nissan', 'Renault', 'Opel', 'Hongqi', 'Lexus',\n",
       "       'Dacia', 'Mazda', 'Seres', 'Tesla', 'Jaguar', 'Mini', 'Subaru'],\n",
       "      dtype=object)"
      ]
     },
     "execution_count": 46,
     "metadata": {},
     "output_type": "execute_result"
    }
   ],
   "source": [
    "data['Make'].unique()"
   ]
  },
  {
   "cell_type": "code",
   "execution_count": 47,
   "metadata": {},
   "outputs": [
    {
     "data": {
      "text/plain": [
       "Mercedes      24\n",
       "Porsche       18\n",
       "Audi          16\n",
       "Volkswagen    13\n",
       "Peugeot       12\n",
       "Citroen       11\n",
       "Toyota         8\n",
       "BMW            8\n",
       "MG             8\n",
       "Fiat           8\n",
       "Ford           7\n",
       "Kia            6\n",
       "Opel           6\n",
       "Hyundai        5\n",
       "Renault        5\n",
       "Skoda          5\n",
       "Tesla          4\n",
       "Genesis        4\n",
       "Volvo          4\n",
       "CUPRA          4\n",
       "Polestar       2\n",
       "Honda          2\n",
       "Smart          2\n",
       "Hongqi         2\n",
       "DS             1\n",
       "JAC            1\n",
       "Nissan         1\n",
       "Lexus          1\n",
       "Dacia          1\n",
       "Mazda          1\n",
       "Seres          1\n",
       "Jaguar         1\n",
       "Mini           1\n",
       "Subaru         1\n",
       "Name: Make, dtype: int64"
      ]
     },
     "execution_count": 47,
     "metadata": {},
     "output_type": "execute_result"
    }
   ],
   "source": [
    "data['Make'].value_counts()"
   ]
  },
  {
   "cell_type": "code",
   "execution_count": 48,
   "metadata": {},
   "outputs": [
    {
     "data": {
      "text/plain": [
       "Index(['id', 'Make', 'link', 'City - Cold Weather', 'Highway - Cold Weather',\n",
       "       'Combined - Cold Weather', 'City - Mild Weather',\n",
       "       'Highway - Mild Weather', 'Combined - Mild Weather',\n",
       "       'Acceleration 0 - 100 km/h', 'Top Speed', 'Electric Range',\n",
       "       'Total Power', 'Total Torque', 'Drive', 'Battery Capacity',\n",
       "       'Charge Power', 'Charge Speed', 'Fastcharge Speed', 'Length', 'Width',\n",
       "       'Height', 'Wheelbase', 'Gross Vehicle Weight (GVWR)', 'Max. Payload',\n",
       "       'Cargo Volume', 'Seats'],\n",
       "      dtype='object')"
      ]
     },
     "execution_count": 48,
     "metadata": {},
     "output_type": "execute_result"
    }
   ],
   "source": [
    "data.columns"
   ]
  },
  {
   "cell_type": "code",
   "execution_count": 1,
   "metadata": {},
   "outputs": [
    {
     "ename": "NameError",
     "evalue": "name 'data' is not defined",
     "output_type": "error",
     "traceback": [
      "\u001b[1;31m---------------------------------------------------------------------------\u001b[0m",
      "\u001b[1;31mNameError\u001b[0m                                 Traceback (most recent call last)",
      "Cell \u001b[1;32mIn [1], line 1\u001b[0m\n\u001b[1;32m----> 1\u001b[0m corr \u001b[39m=\u001b[39m data\u001b[39m.\u001b[39mcorr(method \u001b[39m=\u001b[39m \u001b[39m'\u001b[39m\u001b[39mpearson\u001b[39m\u001b[39m'\u001b[39m)\u001b[39m.\u001b[39msort_values(by \u001b[39m=\u001b[39m \u001b[39m'\u001b[39m\u001b[39mTop Speed\u001b[39m\u001b[39m'\u001b[39m, axis \u001b[39m=\u001b[39m \u001b[39m0\u001b[39m, ascending \u001b[39m=\u001b[39m \u001b[39mFalse\u001b[39;00m)\u001b[39m.\u001b[39msort_values(by \u001b[39m=\u001b[39m \u001b[39m'\u001b[39m\u001b[39mTop Speed\u001b[39m\u001b[39m'\u001b[39m, axis \u001b[39m=\u001b[39m \u001b[39m1\u001b[39m, ascending \u001b[39m=\u001b[39m \u001b[39mFalse\u001b[39;00m)\n\u001b[0;32m      2\u001b[0m \u001b[39m# Generate a mask for the upper triangle\u001b[39;00m\n\u001b[0;32m      3\u001b[0m mask \u001b[39m=\u001b[39m np\u001b[39m.\u001b[39mtriu(np\u001b[39m.\u001b[39mones_like(corr, dtype\u001b[39m=\u001b[39mnp\u001b[39m.\u001b[39mbool))\n",
      "\u001b[1;31mNameError\u001b[0m: name 'data' is not defined"
     ]
    }
   ],
   "source": [
    "corr = data.corr(method = 'pearson').sort_values(by = 'Top Speed', axis = 0, ascending = False).sort_values(by = 'Top Speed', axis = 1, ascending = False)\n",
    "# Generate a mask for the upper triangle\n",
    "mask = np.triu(np.ones_like(corr, dtype=np.bool))\n",
    " \n",
    "# Set up the matplotlib figure\n",
    "f, ax = plt.subplots(figsize=(40,10))\n",
    " \n",
    "# Generate a custom diverging colormap\n",
    "cmap = sns.diverging_palette(250, 1112, as_cmap=True)\n",
    " \n",
    "# Draw the heatmap with the mask and correct aspect ratio\n",
    "sns.heatmap(corr.iloc[0:50,0:50], mask=mask[0:50,0:50], cmap=cmap, vmax=0.5, center=0,\n",
    "            square=True, linewidths=2, cbar_kws={\"shrink\": .8}, annot = True)"
   ]
  },
  {
   "cell_type": "markdown",
   "metadata": {},
   "source": [
    "## Como tenemos una correlación tan fuerte entre 'Electric Range' y los tipos de conducción según el clima, podemos proseguir"
   ]
  },
  {
   "cell_type": "code",
   "execution_count": 50,
   "metadata": {},
   "outputs": [
    {
     "data": {
      "image/png": "[encoded data removed]",
      "text/plain": [
       "<Figure size 1500x800 with 1 Axes>"
      ]
     },
     "metadata": {},
     "output_type": "display_data"
    }
   ],
   "source": [
    "marca = data.groupby(['Make','Drive']).Drive.count()\n",
    "marca = marca.unstack()\n",
    "marca = marca.sort_values(by=['Make'])\n",
    "\n",
    "\n",
    "\n",
    "marca.plot(kind='barh',stacked=True, color = [\"g\",\"b\",\"r\"],\n",
    "              linewidth = 1, grid=True, figsize=(15,8), width=1)\n",
    "plt.title('Marcas y tipo de tracción', fontsize=18)\n",
    "plt.legend(title='Tracción',labels=['4 ruedas', 'Delantera', 'Trasera'])\n",
    "plt.xlabel('Cantidad de vehículos por marca', fontsize=14)\n",
    "plt.ylabel(\"\")\n",
    "plt.rc('ytick', labelsize=13)\n",
    "plt.show()"
   ]
  },
  {
   "cell_type": "code",
   "execution_count": 51,
   "metadata": {},
   "outputs": [
    {
     "data": {
      "application/vnd.plotly.v1+json": {
       "config": {
        "plotlyServerURL": "https://plot.ly"
       },
       "data": [
        {
         "labels": [
          "AWD",
          "Front",
          "Rear"
         ],
         "textinfo": "label+percent",
         "type": "pie",
         "values": [
          75,
          73,
          46
         ]
        }
       ],
       "layout": {
        "template": {
         "data": {
          "bar": [
           {
            "error_x": {
             "color": "#2a3f5f"
            },
            "error_y": {
             "color": "#2a3f5f"
            },
            "marker": {
             "line": {
              "color": "#E5ECF6",
              "width": 0.5
             },
             "pattern": {
              "fillmode": "overlay",
              "size": 10,
              "solidity": 0.2
             }
            },
            "type": "bar"
           }
          ],
          "barpolar": [
           {
            "marker": {
             "line": {
              "color": "#E5ECF6",
              "width": 0.5
             },
             "pattern": {
              "fillmode": "overlay",
              "size": 10,
              "solidity": 0.2
             }
            },
            "type": "barpolar"
           }
          ],
          "carpet": [
           {
            "aaxis": {
             "endlinecolor": "#2a3f5f",
             "gridcolor": "white",
             "linecolor": "white",
             "minorgridcolor": "white",
             "startlinecolor": "#2a3f5f"
            },
            "baxis": {
             "endlinecolor": "#2a3f5f",
             "gridcolor": "white",
             "linecolor": "white",
             "minorgridcolor": "white",
             "startlinecolor": "#2a3f5f"
            },
            "type": "carpet"
           }
          ],
          "choropleth": [
           {
            "colorbar": {
             "outlinewidth": 0,
             "ticks": ""
            },
            "type": "choropleth"
           }
          ],
          "contour": [
           {
            "colorbar": {
             "outlinewidth": 0,
             "ticks": ""
            },
            "colorscale": [
             [
              0,
              "#0d0887"
             ],
             [
              0.1111111111111111,
              "#46039f"
             ],
             [
              0.2222222222222222,
              "#7201a8"
             ],
             [
              0.3333333333333333,
              "#9c179e"
             ],
             [
              0.4444444444444444,
              "#bd3786"
             ],
             [
              0.5555555555555556,
              "#d8576b"
             ],
             [
              0.6666666666666666,
              "#ed7953"
             ],
             [
              0.7777777777777778,
              "#fb9f3a"
             ],
             [
              0.8888888888888888,
              "#fdca26"
             ],
             [
              1,
              "#f0f921"
             ]
            ],
            "type": "contour"
           }
          ],
          "contourcarpet": [
           {
            "colorbar": {
             "outlinewidth": 0,
             "ticks": ""
            },
            "type": "contourcarpet"
           }
          ],
          "heatmap": [
           {
            "colorbar": {
             "outlinewidth": 0,
             "ticks": ""
            },
            "colorscale": [
             [
              0,
              "#0d0887"
             ],
             [
              0.1111111111111111,
              "#46039f"
             ],
             [
              0.2222222222222222,
              "#7201a8"
             ],
             [
              0.3333333333333333,
              "#9c179e"
             ],
             [
              0.4444444444444444,
              "#bd3786"
             ],
             [
              0.5555555555555556,
              "#d8576b"
             ],
             [
              0.6666666666666666,
              "#ed7953"
             ],
             [
              0.7777777777777778,
              "#fb9f3a"
             ],
             [
              0.8888888888888888,
              "#fdca26"
             ],
             [
              1,
              "#f0f921"
             ]
            ],
            "type": "heatmap"
           }
          ],
          "heatmapgl": [
           {
            "colorbar": {
             "outlinewidth": 0,
             "ticks": ""
            },
            "colorscale": [
             [
              0,
              "#0d0887"
             ],
             [
              0.1111111111111111,
              "#46039f"
             ],
             [
              0.2222222222222222,
              "#7201a8"
             ],
             [
              0.3333333333333333,
              "#9c179e"
             ],
             [
              0.4444444444444444,
              "#bd3786"
             ],
             [
              0.5555555555555556,
              "#d8576b"
             ],
             [
              0.6666666666666666,
              "#ed7953"
             ],
             [
              0.7777777777777778,
              "#fb9f3a"
             ],
             [
              0.8888888888888888,
              "#fdca26"
             ],
             [
              1,
              "#f0f921"
             ]
            ],
            "type": "heatmapgl"
           }
          ],
          "histogram": [
           {
            "marker": {
             "pattern": {
              "fillmode": "overlay",
              "size": 10,
              "solidity": 0.2
             }
            },
            "type": "histogram"
           }
          ],
          "histogram2d": [
           {
            "colorbar": {
             "outlinewidth": 0,
             "ticks": ""
            },
            "colorscale": [
             [
              0,
              "#0d0887"
             ],
             [
              0.1111111111111111,
              "#46039f"
             ],
             [
              0.2222222222222222,
              "#7201a8"
             ],
             [
              0.3333333333333333,
              "#9c179e"
             ],
             [
              0.4444444444444444,
              "#bd3786"
             ],
             [
              0.5555555555555556,
              "#d8576b"
             ],
             [
              0.6666666666666666,
              "#ed7953"
             ],
             [
              0.7777777777777778,
              "#fb9f3a"
             ],
             [
              0.8888888888888888,
              "#fdca26"
             ],
             [
              1,
              "#f0f921"
             ]
            ],
            "type": "histogram2d"
           }
          ],
          "histogram2dcontour": [
           {
            "colorbar": {
             "outlinewidth": 0,
             "ticks": ""
            },
            "colorscale": [
             [
              0,
              "#0d0887"
             ],
             [
              0.1111111111111111,
              "#46039f"
             ],
             [
              0.2222222222222222,
              "#7201a8"
             ],
             [
              0.3333333333333333,
              "#9c179e"
             ],
             [
              0.4444444444444444,
              "#bd3786"
             ],
             [
              0.5555555555555556,
              "#d8576b"
             ],
             [
              0.6666666666666666,
              "#ed7953"
             ],
             [
              0.7777777777777778,
              "#fb9f3a"
             ],
             [
              0.8888888888888888,
              "#fdca26"
             ],
             [
              1,
              "#f0f921"
             ]
            ],
            "type": "histogram2dcontour"
           }
          ],
          "mesh3d": [
           {
            "colorbar": {
             "outlinewidth": 0,
             "ticks": ""
            },
            "type": "mesh3d"
           }
          ],
          "parcoords": [
           {
            "line": {
             "colorbar": {
              "outlinewidth": 0,
              "ticks": ""
             }
            },
            "type": "parcoords"
           }
          ],
          "pie": [
           {
            "automargin": true,
            "type": "pie"
           }
          ],
          "scatter": [
           {
            "fillpattern": {
             "fillmode": "overlay",
             "size": 10,
             "solidity": 0.2
            },
            "type": "scatter"
           }
          ],
          "scatter3d": [
           {
            "line": {
             "colorbar": {
              "outlinewidth": 0,
              "ticks": ""
             }
            },
            "marker": {
             "colorbar": {
              "outlinewidth": 0,
              "ticks": ""
             }
            },
            "type": "scatter3d"
           }
          ],
          "scattercarpet": [
           {
            "marker": {
             "colorbar": {
              "outlinewidth": 0,
              "ticks": ""
             }
            },
            "type": "scattercarpet"
           }
          ],
          "scattergeo": [
           {
            "marker": {
             "colorbar": {
              "outlinewidth": 0,
              "ticks": ""
             }
            },
            "type": "scattergeo"
           }
          ],
          "scattergl": [
           {
            "marker": {
             "colorbar": {
              "outlinewidth": 0,
              "ticks": ""
             }
            },
            "type": "scattergl"
           }
          ],
          "scattermapbox": [
           {
            "marker": {
             "colorbar": {
              "outlinewidth": 0,
              "ticks": ""
             }
            },
            "type": "scattermapbox"
           }
          ],
          "scatterpolar": [
           {
            "marker": {
             "colorbar": {
              "outlinewidth": 0,
              "ticks": ""
             }
            },
            "type": "scatterpolar"
           }
          ],
          "scatterpolargl": [
           {
            "marker": {
             "colorbar": {
              "outlinewidth": 0,
              "ticks": ""
             }
            },
            "type": "scatterpolargl"
           }
          ],
          "scatterternary": [
           {
            "marker": {
             "colorbar": {
              "outlinewidth": 0,
              "ticks": ""
             }
            },
            "type": "scatterternary"
           }
          ],
          "surface": [
           {
            "colorbar": {
             "outlinewidth": 0,
             "ticks": ""
            },
            "colorscale": [
             [
              0,
              "#0d0887"
             ],
             [
              0.1111111111111111,
              "#46039f"
             ],
             [
              0.2222222222222222,
              "#7201a8"
             ],
             [
              0.3333333333333333,
              "#9c179e"
             ],
             [
              0.4444444444444444,
              "#bd3786"
             ],
             [
              0.5555555555555556,
              "#d8576b"
             ],
             [
              0.6666666666666666,
              "#ed7953"
             ],
             [
              0.7777777777777778,
              "#fb9f3a"
             ],
             [
              0.8888888888888888,
              "#fdca26"
             ],
             [
              1,
              "#f0f921"
             ]
            ],
            "type": "surface"
           }
          ],
          "table": [
           {
            "cells": {
             "fill": {
              "color": "#EBF0F8"
             },
             "line": {
              "color": "white"
             }
            },
            "header": {
             "fill": {
              "color": "#C8D4E3"
             },
             "line": {
              "color": "white"
             }
            },
            "type": "table"
           }
          ]
         },
         "layout": {
          "annotationdefaults": {
           "arrowcolor": "#2a3f5f",
           "arrowhead": 0,
           "arrowwidth": 1
          },
          "autotypenumbers": "strict",
          "coloraxis": {
           "colorbar": {
            "outlinewidth": 0,
            "ticks": ""
           }
          },
          "colorscale": {
           "diverging": [
            [
             0,
             "#8e0152"
            ],
            [
             0.1,
             "#c51b7d"
            ],
            [
             0.2,
             "#de77ae"
            ],
            [
             0.3,
             "#f1b6da"
            ],
            [
             0.4,
             "#fde0ef"
            ],
            [
             0.5,
             "#f7f7f7"
            ],
            [
             0.6,
             "#e6f5d0"
            ],
            [
             0.7,
             "#b8e186"
            ],
            [
             0.8,
             "#7fbc41"
            ],
            [
             0.9,
             "#4d9221"
            ],
            [
             1,
             "#276419"
            ]
           ],
           "sequential": [
            [
             0,
             "#0d0887"
            ],
            [
             0.1111111111111111,
             "#46039f"
            ],
            [
             0.2222222222222222,
             "#7201a8"
            ],
            [
             0.3333333333333333,
             "#9c179e"
            ],
            [
             0.4444444444444444,
             "#bd3786"
            ],
            [
             0.5555555555555556,
             "#d8576b"
            ],
            [
             0.6666666666666666,
             "#ed7953"
            ],
            [
             0.7777777777777778,
             "#fb9f3a"
            ],
            [
             0.8888888888888888,
             "#fdca26"
            ],
            [
             1,
             "#f0f921"
            ]
           ],
           "sequentialminus": [
            [
             0,
             "#0d0887"
            ],
            [
             0.1111111111111111,
             "#46039f"
            ],
            [
             0.2222222222222222,
             "#7201a8"
            ],
            [
             0.3333333333333333,
             "#9c179e"
            ],
            [
             0.4444444444444444,
             "#bd3786"
            ],
            [
             0.5555555555555556,
             "#d8576b"
            ],
            [
             0.6666666666666666,
             "#ed7953"
            ],
            [
             0.7777777777777778,
             "#fb9f3a"
            ],
            [
             0.8888888888888888,
             "#fdca26"
            ],
            [
             1,
             "#f0f921"
            ]
           ]
          },
          "colorway": [
           "#636efa",
           "#EF553B",
           "#00cc96",
           "#ab63fa",
           "#FFA15A",
           "#19d3f3",
           "#FF6692",
           "#B6E880",
           "#FF97FF",
           "#FECB52"
          ],
          "font": {
           "color": "#2a3f5f"
          },
          "geo": {
           "bgcolor": "white",
           "lakecolor": "white",
           "landcolor": "#E5ECF6",
           "showlakes": true,
           "showland": true,
           "subunitcolor": "white"
          },
          "hoverlabel": {
           "align": "left"
          },
          "hovermode": "closest",
          "mapbox": {
           "style": "light"
          },
          "paper_bgcolor": "white",
          "plot_bgcolor": "#E5ECF6",
          "polar": {
           "angularaxis": {
            "gridcolor": "white",
            "linecolor": "white",
            "ticks": ""
           },
           "bgcolor": "#E5ECF6",
           "radialaxis": {
            "gridcolor": "white",
            "linecolor": "white",
            "ticks": ""
           }
          },
          "scene": {
           "xaxis": {
            "backgroundcolor": "#E5ECF6",
            "gridcolor": "white",
            "gridwidth": 2,
            "linecolor": "white",
            "showbackground": true,
            "ticks": "",
            "zerolinecolor": "white"
           },
           "yaxis": {
            "backgroundcolor": "#E5ECF6",
            "gridcolor": "white",
            "gridwidth": 2,
            "linecolor": "white",
            "showbackground": true,
            "ticks": "",
            "zerolinecolor": "white"
           },
           "zaxis": {
            "backgroundcolor": "#E5ECF6",
            "gridcolor": "white",
            "gridwidth": 2,
            "linecolor": "white",
            "showbackground": true,
            "ticks": "",
            "zerolinecolor": "white"
           }
          },
          "shapedefaults": {
           "line": {
            "color": "#2a3f5f"
           }
          },
          "ternary": {
           "aaxis": {
            "gridcolor": "white",
            "linecolor": "white",
            "ticks": ""
           },
           "baxis": {
            "gridcolor": "white",
            "linecolor": "white",
            "ticks": ""
           },
           "bgcolor": "#E5ECF6",
           "caxis": {
            "gridcolor": "white",
            "linecolor": "white",
            "ticks": ""
           }
          },
          "title": {
           "x": 0.05
          },
          "xaxis": {
           "automargin": true,
           "gridcolor": "white",
           "linecolor": "white",
           "ticks": "",
           "title": {
            "standoff": 15
           },
           "zerolinecolor": "white",
           "zerolinewidth": 2
          },
          "yaxis": {
           "automargin": true,
           "gridcolor": "white",
           "linecolor": "white",
           "ticks": "",
           "title": {
            "standoff": 15
           },
           "zerolinecolor": "white",
           "zerolinewidth": 2
          }
         }
        }
       }
      }
     },
     "metadata": {},
     "output_type": "display_data"
    }
   ],
   "source": [
    "data1 = data['Drive'].value_counts()\n",
    "data1\n",
    "#graficamos\n",
    "fig = go.Figure(data =[go.Pie (labels=data1.index.values, values= data1,textinfo='label+percent')])\n",
    "fig.show()"
   ]
  },
  {
   "cell_type": "code",
   "execution_count": 52,
   "metadata": {},
   "outputs": [
    {
     "data": {
      "image/png": "[encoded data removed]",
      "text/plain": [
       "<Figure size 640x480 with 1 Axes>"
      ]
     },
     "metadata": {},
     "output_type": "display_data"
    }
   ],
   "source": [
    "sns.kdeplot(data['City - Cold Weather'])\n",
    "sns.kdeplot(data['Highway - Cold Weather'])\n",
    "sns.kdeplot(data['Combined - Cold Weather'])\n",
    "sns.kdeplot(data['Electric Range'])\n",
    "plt.title('Autonomía en clima frío')\n",
    "plt.legend(title='Tipo de conducción',labels=['Ciudad', 'Autopista', 'Combinado', 'Eléctrico'])\n",
    "plt.show()\n"
   ]
  },
  {
   "cell_type": "code",
   "execution_count": 53,
   "metadata": {},
   "outputs": [
    {
     "data": {
      "image/png": "[encoded data removed]",
      "text/plain": [
       "<Figure size 640x480 with 1 Axes>"
      ]
     },
     "metadata": {},
     "output_type": "display_data"
    }
   ],
   "source": [
    "sns.kdeplot(data['City - Mild Weather'])\n",
    "sns.kdeplot(data['Highway - Mild Weather'])\n",
    "sns.kdeplot(data['Combined - Mild Weather'])\n",
    "sns.kdeplot(data['Electric Range'])\n",
    "plt.title('Autonomía en clima cálido')\n",
    "plt.legend(title='Tipo de conducción', labels=['Ciudad', 'Autopista', 'Combinado', 'Eléctrico'])\n",
    "plt.show()\n"
   ]
  },
  {
   "cell_type": "code",
   "execution_count": 54,
   "metadata": {},
   "outputs": [
    {
     "data": {
      "text/html": [
       "<div>\n",
       "<style scoped>\n",
       "    .dataframe tbody tr th:only-of-type {\n",
       "        vertical-align: middle;\n",
       "    }\n",
       "\n",
       "    .dataframe tbody tr th {\n",
       "        vertical-align: top;\n",
       "    }\n",
       "\n",
       "    .dataframe thead th {\n",
       "        text-align: right;\n",
       "    }\n",
       "</style>\n",
       "<table border=\"1\" class=\"dataframe\">\n",
       "  <thead>\n",
       "    <tr style=\"text-align: right;\">\n",
       "      <th></th>\n",
       "      <th>id</th>\n",
       "      <th>Make</th>\n",
       "      <th>link</th>\n",
       "      <th>City - Cold Weather</th>\n",
       "      <th>Highway - Cold Weather</th>\n",
       "      <th>Combined - Cold Weather</th>\n",
       "      <th>City - Mild Weather</th>\n",
       "      <th>Highway - Mild Weather</th>\n",
       "      <th>Combined - Mild Weather</th>\n",
       "      <th>Acceleration 0 - 100 km/h</th>\n",
       "      <th>...</th>\n",
       "      <th>Charge Speed</th>\n",
       "      <th>Fastcharge Speed</th>\n",
       "      <th>Length</th>\n",
       "      <th>Width</th>\n",
       "      <th>Height</th>\n",
       "      <th>Wheelbase</th>\n",
       "      <th>Gross Vehicle Weight (GVWR)</th>\n",
       "      <th>Max. Payload</th>\n",
       "      <th>Cargo Volume</th>\n",
       "      <th>Seats</th>\n",
       "    </tr>\n",
       "  </thead>\n",
       "  <tbody>\n",
       "    <tr>\n",
       "      <th>0</th>\n",
       "      <td>1647</td>\n",
       "      <td>Genesis</td>\n",
       "      <td>https://ev-database.org/car/1647/Genesis-GV60-...</td>\n",
       "      <td>390</td>\n",
       "      <td>275</td>\n",
       "      <td>330</td>\n",
       "      <td>575</td>\n",
       "      <td>355</td>\n",
       "      <td>445</td>\n",
       "      <td>7.8</td>\n",
       "      <td>...</td>\n",
       "      <td>49</td>\n",
       "      <td>1020</td>\n",
       "      <td>4515</td>\n",
       "      <td>1890</td>\n",
       "      <td>1580</td>\n",
       "      <td>2900</td>\n",
       "      <td>2495</td>\n",
       "      <td>595</td>\n",
       "      <td>432</td>\n",
       "      <td>5</td>\n",
       "    </tr>\n",
       "    <tr>\n",
       "      <th>1</th>\n",
       "      <td>1493</td>\n",
       "      <td>Mercedes</td>\n",
       "      <td>https://ev-database.org/car/1493/Mercedes-EQB-...</td>\n",
       "      <td>330</td>\n",
       "      <td>235</td>\n",
       "      <td>280</td>\n",
       "      <td>480</td>\n",
       "      <td>300</td>\n",
       "      <td>375</td>\n",
       "      <td>6.2</td>\n",
       "      <td>...</td>\n",
       "      <td>46</td>\n",
       "      <td>470</td>\n",
       "      <td>4684</td>\n",
       "      <td>1834</td>\n",
       "      <td>1701</td>\n",
       "      <td>2829</td>\n",
       "      <td>2580</td>\n",
       "      <td>480</td>\n",
       "      <td>495</td>\n",
       "      <td>7</td>\n",
       "    </tr>\n",
       "  </tbody>\n",
       "</table>\n",
       "<p>2 rows × 27 columns</p>\n",
       "</div>"
      ],
      "text/plain": [
       "     id      Make                                               link  \\\n",
       "0  1647   Genesis  https://ev-database.org/car/1647/Genesis-GV60-...   \n",
       "1  1493  Mercedes  https://ev-database.org/car/1493/Mercedes-EQB-...   \n",
       "\n",
       "   City - Cold Weather  Highway - Cold Weather  Combined - Cold Weather  \\\n",
       "0                  390                     275                      330   \n",
       "1                  330                     235                      280   \n",
       "\n",
       "   City - Mild Weather  Highway - Mild Weather  Combined - Mild Weather  \\\n",
       "0                  575                     355                      445   \n",
       "1                  480                     300                      375   \n",
       "\n",
       "   Acceleration 0 - 100 km/h  ...  Charge Speed  Fastcharge Speed  Length  \\\n",
       "0                        7.8  ...            49              1020    4515   \n",
       "1                        6.2  ...            46               470    4684   \n",
       "\n",
       "   Width Height  Wheelbase  Gross Vehicle Weight (GVWR)  Max. Payload  \\\n",
       "0   1890   1580       2900                         2495           595   \n",
       "1   1834   1701       2829                         2580           480   \n",
       "\n",
       "   Cargo Volume  Seats  \n",
       "0           432      5  \n",
       "1           495      7  \n",
       "\n",
       "[2 rows x 27 columns]"
      ]
     },
     "execution_count": 54,
     "metadata": {},
     "output_type": "execute_result"
    }
   ],
   "source": [
    "data.head(2)"
   ]
  },
  {
   "cell_type": "markdown",
   "metadata": {},
   "source": [
    "# Sustituimos las columnas de clima y tipo de conducción por la media de los tipos de conducción agrupados en clima"
   ]
  },
  {
   "cell_type": "code",
   "execution_count": 55,
   "metadata": {},
   "outputs": [],
   "source": [
    "data['Range Cold Weather'] = (data['City - Cold Weather']+data['Highway - Cold Weather']+data['Combined - Cold Weather'])/3"
   ]
  },
  {
   "cell_type": "code",
   "execution_count": 56,
   "metadata": {},
   "outputs": [],
   "source": [
    "data['Range Hot Weather'] = (data['City - Mild Weather']+data['Highway - Mild Weather']+data['Combined - Mild Weather'])/3"
   ]
  },
  {
   "cell_type": "code",
   "execution_count": 57,
   "metadata": {},
   "outputs": [
    {
     "data": {
      "text/html": [
       "<div>\n",
       "<style scoped>\n",
       "    .dataframe tbody tr th:only-of-type {\n",
       "        vertical-align: middle;\n",
       "    }\n",
       "\n",
       "    .dataframe tbody tr th {\n",
       "        vertical-align: top;\n",
       "    }\n",
       "\n",
       "    .dataframe thead th {\n",
       "        text-align: right;\n",
       "    }\n",
       "</style>\n",
       "<table border=\"1\" class=\"dataframe\">\n",
       "  <thead>\n",
       "    <tr style=\"text-align: right;\">\n",
       "      <th></th>\n",
       "      <th>id</th>\n",
       "      <th>Make</th>\n",
       "      <th>link</th>\n",
       "      <th>City - Cold Weather</th>\n",
       "      <th>Highway - Cold Weather</th>\n",
       "      <th>Combined - Cold Weather</th>\n",
       "      <th>City - Mild Weather</th>\n",
       "      <th>Highway - Mild Weather</th>\n",
       "      <th>Combined - Mild Weather</th>\n",
       "      <th>Acceleration 0 - 100 km/h</th>\n",
       "      <th>...</th>\n",
       "      <th>Length</th>\n",
       "      <th>Width</th>\n",
       "      <th>Height</th>\n",
       "      <th>Wheelbase</th>\n",
       "      <th>Gross Vehicle Weight (GVWR)</th>\n",
       "      <th>Max. Payload</th>\n",
       "      <th>Cargo Volume</th>\n",
       "      <th>Seats</th>\n",
       "      <th>Range Cold Weather</th>\n",
       "      <th>Range Hot Weather</th>\n",
       "    </tr>\n",
       "  </thead>\n",
       "  <tbody>\n",
       "    <tr>\n",
       "      <th>0</th>\n",
       "      <td>1647</td>\n",
       "      <td>Genesis</td>\n",
       "      <td>https://ev-database.org/car/1647/Genesis-GV60-...</td>\n",
       "      <td>390</td>\n",
       "      <td>275</td>\n",
       "      <td>330</td>\n",
       "      <td>575</td>\n",
       "      <td>355</td>\n",
       "      <td>445</td>\n",
       "      <td>7.8</td>\n",
       "      <td>...</td>\n",
       "      <td>4515</td>\n",
       "      <td>1890</td>\n",
       "      <td>1580</td>\n",
       "      <td>2900</td>\n",
       "      <td>2495</td>\n",
       "      <td>595</td>\n",
       "      <td>432</td>\n",
       "      <td>5</td>\n",
       "      <td>331.666667</td>\n",
       "      <td>458.333333</td>\n",
       "    </tr>\n",
       "  </tbody>\n",
       "</table>\n",
       "<p>1 rows × 29 columns</p>\n",
       "</div>"
      ],
      "text/plain": [
       "     id     Make                                               link  \\\n",
       "0  1647  Genesis  https://ev-database.org/car/1647/Genesis-GV60-...   \n",
       "\n",
       "   City - Cold Weather  Highway - Cold Weather  Combined - Cold Weather  \\\n",
       "0                  390                     275                      330   \n",
       "\n",
       "   City - Mild Weather  Highway - Mild Weather  Combined - Mild Weather  \\\n",
       "0                  575                     355                      445   \n",
       "\n",
       "   Acceleration 0 - 100 km/h  ...  Length  Width  Height  Wheelbase  \\\n",
       "0                        7.8  ...    4515   1890    1580       2900   \n",
       "\n",
       "  Gross Vehicle Weight (GVWR)  Max. Payload  Cargo Volume  Seats  \\\n",
       "0                        2495           595           432      5   \n",
       "\n",
       "   Range Cold Weather  Range Hot Weather  \n",
       "0          331.666667         458.333333  \n",
       "\n",
       "[1 rows x 29 columns]"
      ]
     },
     "execution_count": 57,
     "metadata": {},
     "output_type": "execute_result"
    }
   ],
   "source": [
    "data.head(1)"
   ]
  },
  {
   "cell_type": "code",
   "execution_count": 58,
   "metadata": {},
   "outputs": [],
   "source": [
    "# Eliminamos las columnas que nos sobran \n",
    "df = data.drop(['City - Cold Weather','Highway - Cold Weather','Combined - Cold Weather','City - Mild Weather','Highway - Mild Weather','Combined - Mild Weather','link'],axis=1)"
   ]
  },
  {
   "cell_type": "code",
   "execution_count": 59,
   "metadata": {},
   "outputs": [],
   "source": [
    "# Redondeamos las columnas objetivo\n",
    "df = df.round({'Range Cold Weather':2,'Range Hot Weather':2})"
   ]
  },
  {
   "cell_type": "code",
   "execution_count": 60,
   "metadata": {},
   "outputs": [],
   "source": [
    "df['Drive'] = df['Drive'].replace({'Front':1, 'Rear':2, 'AWD':3})\n",
    "df['Drive'] = df['Drive'].astype(float)"
   ]
  },
  {
   "cell_type": "code",
   "execution_count": 61,
   "metadata": {},
   "outputs": [
    {
     "data": {
      "text/html": [
       "<div>\n",
       "<style scoped>\n",
       "    .dataframe tbody tr th:only-of-type {\n",
       "        vertical-align: middle;\n",
       "    }\n",
       "\n",
       "    .dataframe tbody tr th {\n",
       "        vertical-align: top;\n",
       "    }\n",
       "\n",
       "    .dataframe thead th {\n",
       "        text-align: right;\n",
       "    }\n",
       "</style>\n",
       "<table border=\"1\" class=\"dataframe\">\n",
       "  <thead>\n",
       "    <tr style=\"text-align: right;\">\n",
       "      <th></th>\n",
       "      <th>162</th>\n",
       "    </tr>\n",
       "  </thead>\n",
       "  <tbody>\n",
       "    <tr>\n",
       "      <th>id</th>\n",
       "      <td>1724</td>\n",
       "    </tr>\n",
       "    <tr>\n",
       "      <th>Make</th>\n",
       "      <td>Fiat</td>\n",
       "    </tr>\n",
       "    <tr>\n",
       "      <th>Acceleration 0 - 100 km/h</th>\n",
       "      <td>13.3</td>\n",
       "    </tr>\n",
       "    <tr>\n",
       "      <th>Top Speed</th>\n",
       "      <td>130</td>\n",
       "    </tr>\n",
       "    <tr>\n",
       "      <th>Electric Range</th>\n",
       "      <td>260</td>\n",
       "    </tr>\n",
       "    <tr>\n",
       "      <th>Total Power</th>\n",
       "      <td>100</td>\n",
       "    </tr>\n",
       "    <tr>\n",
       "      <th>Total Torque</th>\n",
       "      <td>260</td>\n",
       "    </tr>\n",
       "    <tr>\n",
       "      <th>Drive</th>\n",
       "      <td>1.0</td>\n",
       "    </tr>\n",
       "    <tr>\n",
       "      <th>Battery Capacity</th>\n",
       "      <td>75.0</td>\n",
       "    </tr>\n",
       "    <tr>\n",
       "      <th>Charge Power</th>\n",
       "      <td>7.4</td>\n",
       "    </tr>\n",
       "    <tr>\n",
       "      <th>Charge Speed</th>\n",
       "      <td>24</td>\n",
       "    </tr>\n",
       "    <tr>\n",
       "      <th>Fastcharge Speed</th>\n",
       "      <td>280</td>\n",
       "    </tr>\n",
       "    <tr>\n",
       "      <th>Length</th>\n",
       "      <td>5306</td>\n",
       "    </tr>\n",
       "    <tr>\n",
       "      <th>Width</th>\n",
       "      <td>1920</td>\n",
       "    </tr>\n",
       "    <tr>\n",
       "      <th>Height</th>\n",
       "      <td>1890</td>\n",
       "    </tr>\n",
       "    <tr>\n",
       "      <th>Wheelbase</th>\n",
       "      <td>3275</td>\n",
       "    </tr>\n",
       "    <tr>\n",
       "      <th>Gross Vehicle Weight (GVWR)</th>\n",
       "      <td>3065</td>\n",
       "    </tr>\n",
       "    <tr>\n",
       "      <th>Max. Payload</th>\n",
       "      <td>973</td>\n",
       "    </tr>\n",
       "    <tr>\n",
       "      <th>Cargo Volume</th>\n",
       "      <td>800</td>\n",
       "    </tr>\n",
       "    <tr>\n",
       "      <th>Seats</th>\n",
       "      <td>8</td>\n",
       "    </tr>\n",
       "    <tr>\n",
       "      <th>Range Cold Weather</th>\n",
       "      <td>230.0</td>\n",
       "    </tr>\n",
       "    <tr>\n",
       "      <th>Range Hot Weather</th>\n",
       "      <td>301.67</td>\n",
       "    </tr>\n",
       "  </tbody>\n",
       "</table>\n",
       "</div>"
      ],
      "text/plain": [
       "                                162\n",
       "id                             1724\n",
       "Make                           Fiat\n",
       "Acceleration 0 - 100 km/h      13.3\n",
       "Top Speed                       130\n",
       "Electric Range                  260\n",
       "Total Power                     100\n",
       "Total Torque                    260\n",
       "Drive                           1.0\n",
       "Battery Capacity               75.0\n",
       "Charge Power                    7.4\n",
       "Charge Speed                     24\n",
       "Fastcharge Speed                280\n",
       "Length                         5306\n",
       "Width                          1920\n",
       "Height                         1890\n",
       "Wheelbase                      3275\n",
       "Gross Vehicle Weight (GVWR)    3065\n",
       "Max. Payload                    973\n",
       "Cargo Volume                    800\n",
       "Seats                             8\n",
       "Range Cold Weather            230.0\n",
       "Range Hot Weather            301.67"
      ]
     },
     "execution_count": 61,
     "metadata": {},
     "output_type": "execute_result"
    }
   ],
   "source": [
    "# Vemos un ejemplo de los coches\n",
    "persona = df.sample().transpose()\n",
    "persona"
   ]
  },
  {
   "cell_type": "markdown",
   "metadata": {},
   "source": [
    "# Utilizamos One Hot Encoder para cambiar a tipo float las marcas de los coches"
   ]
  },
  {
   "cell_type": "code",
   "execution_count": 62,
   "metadata": {},
   "outputs": [],
   "source": [
    "from sklearn.preprocessing import OneHotEncoder #Librería\n",
    "obj_vars = df.select_dtypes(include = 'object').columns #Columnas categóricas\n",
    "encoder = OneHotEncoder() #Encoder\n",
    "for var in obj_vars: #Entrenamos el encoder en cada variable\n",
    "  encoder.fit(df.loc[:,[var]])\n",
    "  enc_data = pd.DataFrame(encoder.transform(df.loc[:,[var]]).toarray(), columns = [var + '_' + typevar for typevar in encoder.categories_[0].tolist()], index = df.index)\n",
    "  df = pd.concat([df, enc_data], axis = 1)\n",
    "  df = df.drop([var], axis = 1)"
   ]
  },
  {
   "cell_type": "code",
   "execution_count": 63,
   "metadata": {},
   "outputs": [
    {
     "data": {
      "text/plain": [
       "Index(['id', 'Acceleration 0 - 100 km/h', 'Top Speed', 'Electric Range',\n",
       "       'Total Power', 'Total Torque', 'Drive', 'Battery Capacity',\n",
       "       'Charge Power', 'Charge Speed', 'Fastcharge Speed', 'Length', 'Width',\n",
       "       'Height', 'Wheelbase', 'Gross Vehicle Weight (GVWR)', 'Max. Payload',\n",
       "       'Cargo Volume', 'Seats', 'Range Cold Weather', 'Range Hot Weather',\n",
       "       'Make_Audi', 'Make_BMW', 'Make_CUPRA', 'Make_Citroen', 'Make_DS',\n",
       "       'Make_Dacia', 'Make_Fiat', 'Make_Ford', 'Make_Genesis', 'Make_Honda',\n",
       "       'Make_Hongqi', 'Make_Hyundai', 'Make_JAC', 'Make_Jaguar', 'Make_Kia',\n",
       "       'Make_Lexus', 'Make_MG', 'Make_Mazda', 'Make_Mercedes', 'Make_Mini',\n",
       "       'Make_Nissan', 'Make_Opel', 'Make_Peugeot', 'Make_Polestar',\n",
       "       'Make_Porsche', 'Make_Renault', 'Make_Seres', 'Make_Skoda',\n",
       "       'Make_Smart', 'Make_Subaru', 'Make_Tesla', 'Make_Toyota',\n",
       "       'Make_Volkswagen', 'Make_Volvo'],\n",
       "      dtype='object')"
      ]
     },
     "execution_count": 63,
     "metadata": {},
     "output_type": "execute_result"
    }
   ],
   "source": [
    "df.columns"
   ]
  },
  {
   "cell_type": "markdown",
   "metadata": {},
   "source": [
    "# Machine Learning"
   ]
  },
  {
   "cell_type": "code",
   "execution_count": 64,
   "metadata": {},
   "outputs": [],
   "source": [
    "from sklearn.model_selection import train_test_split"
   ]
  },
  {
   "cell_type": "code",
   "execution_count": 65,
   "metadata": {},
   "outputs": [],
   "source": [
    "df = df.reset_index()"
   ]
  },
  {
   "cell_type": "code",
   "execution_count": 66,
   "metadata": {},
   "outputs": [],
   "source": [
    "df_train, df_test = train_test_split(df, test_size=0.33, random_state=113)\n",
    "\n",
    "X_train = df_train.drop(columns=['Range Cold Weather','Range Hot Weather'])\n",
    "y_train = df_train['Range Cold Weather']\n",
    "X_test = df_test.drop(columns=['Range Cold Weather','Range Hot Weather'])\n",
    "y_test = df_test['Range Cold Weather']"
   ]
  },
  {
   "cell_type": "code",
   "execution_count": 67,
   "metadata": {},
   "outputs": [],
   "source": [
    "#X = df.reset_index().drop(columns=['Range Cold Weather','Range Hot Weather'])\n",
    "#y = df.reset_index()['Range Cold Weather']"
   ]
  },
  {
   "cell_type": "code",
   "execution_count": 68,
   "metadata": {},
   "outputs": [],
   "source": [
    "#X_train, X_test, y_train, y_test = train_test_split(X,y, test_size=0.33, random_state=113)"
   ]
  },
  {
   "cell_type": "markdown",
   "metadata": {},
   "source": [
    "# Modelización"
   ]
  },
  {
   "cell_type": "code",
   "execution_count": 69,
   "metadata": {},
   "outputs": [],
   "source": [
    "#Partición de los datos\n",
    "from sklearn.model_selection import KFold\n",
    "\n",
    "#Escalado de datos\n",
    "from sklearn.preprocessing import StandardScaler\n",
    "\n",
    "#Modelos\n",
    "from sklearn.linear_model import LinearRegression, Ridge, Lasso, ElasticNet\n",
    "from sklearn.svm import SVR\n",
    "from sklearn.ensemble import RandomForestRegressor, GradientBoostingRegressor"
   ]
  },
  {
   "cell_type": "code",
   "execution_count": 70,
   "metadata": {},
   "outputs": [],
   "source": [
    "#Escalado de datos\n",
    "scaler = StandardScaler()\n",
    "scaler.fit(df)\n",
    "X_train = scaler.transform(df.iloc[X_train.index,:])\n",
    "X_test = scaler.transform(df.iloc[X_test.index,:])"
   ]
  },
  {
   "cell_type": "code",
   "execution_count": 71,
   "metadata": {},
   "outputs": [
    {
     "data": {
      "text/plain": [
       "176    151.67\n",
       "181    306.67\n",
       "156    230.00\n",
       "68     508.33\n",
       "117    343.33\n",
       "        ...  \n",
       "91     345.00\n",
       "137    156.67\n",
       "77     286.67\n",
       "93     416.67\n",
       "160    240.00\n",
       "Name: Range Cold Weather, Length: 65, dtype: float64"
      ]
     },
     "execution_count": 71,
     "metadata": {},
     "output_type": "execute_result"
    }
   ],
   "source": [
    "y_test"
   ]
  },
  {
   "cell_type": "code",
   "execution_count": 72,
   "metadata": {},
   "outputs": [
    {
     "name": "stderr",
     "output_type": "stream",
     "text": [
      "c:\\Users\\Nacho\\AppData\\Local\\Programs\\Python\\Python310\\lib\\site-packages\\sklearn\\linear_model\\_coordinate_descent.py:648: ConvergenceWarning:\n",
      "\n",
      "Objective did not converge. You might want to increase the number of iterations, check the scale of the features or consider increasing regularisation. Duality gap: 2.675e+02, tolerance: 8.838e+01\n",
      "\n"
     ]
    },
    {
     "data": {
      "text/plain": [
       "array([153.2009316 , 305.30602495, 229.02852554, 508.72966275,\n",
       "       344.35719625, 327.94339223, 217.12996862, 350.45955786,\n",
       "       421.03578697, 210.66909241, 360.93534957, 229.21042237,\n",
       "       232.91195253, 343.89542471, 309.71665957, 278.1620714 ,\n",
       "       174.27349608, 285.60650131, 292.46178255, 476.66222214,\n",
       "       158.47410459, 251.51419208, 175.36258812, 230.03506941,\n",
       "       146.09336077, 339.58977209, 322.3070972 , 320.38911494,\n",
       "       327.45840278, 313.02310597, 309.9892631 , 201.80267725,\n",
       "       305.99873628, 228.95225732, 198.15094737, 265.32700767,\n",
       "       266.96614913, 424.54364401, 290.37340542, 142.92674195,\n",
       "       367.2260321 , 297.14415236, 217.12847766, 249.2131188 ,\n",
       "       115.6480714 , 327.97022946, 345.19699032, 154.57904076,\n",
       "       324.57058601, 432.12179524, 372.92722781, 158.47783199,\n",
       "       314.36284301, 362.54146084, 300.27691894, 393.09010079,\n",
       "       378.94021821, 287.69511332, 296.36993238, 296.37067786,\n",
       "       345.38579248, 155.84056778, 285.94027854, 416.09042707,\n",
       "       240.41728472])"
      ]
     },
     "execution_count": 72,
     "metadata": {},
     "output_type": "execute_result"
    }
   ],
   "source": [
    "# Predecir la autonomía según el X_test\n",
    "from sklearn import linear_model\n",
    "clf = linear_model.Lasso(alpha=0.1)\n",
    "clf.fit(X_train,y_train)\n",
    "clf.predict(X_test)\n",
    "\n"
   ]
  },
  {
   "cell_type": "code",
   "execution_count": 73,
   "metadata": {},
   "outputs": [
    {
     "data": {
      "text/plain": [
       "array([ 1.50886843,  1.46702678, -0.30713747,  0.07851591,  0.09302771,\n",
       "       -0.09399417, -0.07981451, -0.01180398,  0.0817469 ,  0.30885089,\n",
       "        0.16710472, -0.62103699,  0.02892662,  0.01368714,  0.02169031,\n",
       "        0.35372798, -0.18850531, -0.16676977, -0.96496162, -0.35111099,\n",
       "        0.14368144,  0.10753448, -0.29981268, -0.20739034, -0.14509525,\n",
       "       -0.24517196, -0.07198158, -0.07198158, -0.20739034,  5.16858643,\n",
       "       -0.14509525, -0.10206207, -0.10206207, -0.16265001, -0.07198158,\n",
       "       -0.07198158, -0.1786474 , -0.07198158, -0.20739034, -0.07198158,\n",
       "       -0.37573457, -0.07198158, -0.07198158, -0.1786474 , -0.2567763 ,\n",
       "       -0.10206207, -0.31980107, -0.16265001, -0.07198158, -0.16265001,\n",
       "       -0.10206207, -0.07198158, -0.14509525, -0.20739034, -0.26799852,\n",
       "       -0.14509525])"
      ]
     },
     "execution_count": 73,
     "metadata": {},
     "output_type": "execute_result"
    }
   ],
   "source": [
    "X_test[1]"
   ]
  },
  {
   "cell_type": "markdown",
   "metadata": {},
   "source": [
    "### He conseguido ver la estimación de la autonomía clf.predict(X_test) con el modelo de regresión lineal, todavía tengo que calcular el error cuadrático (parece bastante bueno) y comprobar el error en otros modelos de predicción para decidir con cual me quedo.\n",
    "### También tengo que saber cómo desescalar los datos para que la gente pueda meter los datos que quiera y así yo poder predecir la autonomía.\n",
    "## Mirar como se ha hecho en EDA regression\n"
   ]
  },
  {
   "cell_type": "code",
   "execution_count": null,
   "metadata": {},
   "outputs": [
    {
     "name": "stdout",
     "output_type": "stream",
     "text": [
      "Probamos modelo OLS:\n",
      "El RMSE medio de las estimaciones es: inf\n",
      "Probamos modelo SVR:\n",
      "El RMSE medio de las estimaciones es: inf\n",
      "Probamos modelo Ridge:\n",
      "El RMSE medio de las estimaciones es: inf\n",
      "Probamos modelo Lasso:\n",
      "El RMSE medio de las estimaciones es: inf\n",
      "Probamos modelo ElasticNet:\n",
      "El RMSE medio de las estimaciones es: inf\n",
      "Probamos modelo RandomForest:\n",
      "El RMSE medio de las estimaciones es: inf\n",
      "Probamos modelo XGB:\n",
      "El RMSE medio de las estimaciones es: inf\n"
     ]
    }
   ],
   "source": [
    "\n",
    "#Partición de datos de entrenamiento para analizar modelos\n",
    "n_splits = 8\n",
    "kf = KFold(n_splits = n_splits)\n",
    "\n",
    "#Diccionario de modelos\n",
    "models={'OLS': LinearRegression(),\n",
    "        'SVR': SVR(),\n",
    "        'Ridge': Ridge(),\n",
    "        'Lasso': Lasso(),\n",
    "        'ElasticNet': ElasticNet(),\n",
    "        'RandomForest': RandomForestRegressor(),\n",
    "        'XGB': GradientBoostingRegressor(n_estimators=300, learning_rate=0.05, max_depth=4, max_features='sqrt', min_samples_leaf=15, min_samples_split=10, loss='huber', random_state =5)\n",
    "       }\n",
    "\n",
    "\n",
    "#Bucle\n",
    "for name, model in models.items():\n",
    "  print('Probamos modelo {}:'.format(name))\n",
    "  rsme = []\n",
    "  for train_idx, test_idx in kf.split(X, y):\n",
    "    model.fit(X[train_idx,:], y[train_idx])\n",
    "    y_pred = np.expm1(model.predict(X[test_idx,:]))\n",
    "    rsme.append(np.sqrt(sum((np.expm1(y[test_idx])-y_pred)**2)))\n",
    "  print('El RMSE medio de las estimaciones es: {:.2f}'.format(np.mean(rsme)))"
   ]
  }
 ],
 "metadata": {
  "kernelspec": {
   "display_name": "Python 3.10.7 64-bit",
   "language": "python",
   "name": "python3"
  },
  "language_info": {
   "codemirror_mode": {
    "name": "ipython",
    "version": 3
   },
   "file_extension": ".py",
   "mimetype": "text/x-python",
   "name": "python",
   "nbconvert_exporter": "python",
   "pygments_lexer": "ipython3",
   "version": "3.10.7"
  },
  "orig_nbformat": 4,
  "vscode": {
   "interpreter": {
    "hash": "702274da04a07b0b11b52c6c98e8b7d270c88f452d224fa0eb07a28bf401a81b"
   }
  }
 },
 "nbformat": 4,
 "nbformat_minor": 2
}
